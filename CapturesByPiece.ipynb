{
 "cells": [
  {
   "cell_type": "code",
   "execution_count": 1,
   "metadata": {},
   "outputs": [
    {
     "data": {
      "application/javascript": [
       "IPython.notebook.set_autosave_interval(60000)"
      ]
     },
     "metadata": {},
     "output_type": "display_data"
    },
    {
     "name": "stdout",
     "output_type": "stream",
     "text": [
      "Autosaving every 60 seconds\n"
     ]
    }
   ],
   "source": [
    "%autosave 60"
   ]
  },
  {
   "cell_type": "code",
   "execution_count": 2,
   "metadata": {},
   "outputs": [],
   "source": [
    "import pandas as pd\n",
    "import chess \n",
    "from itertools import chain\n",
    "import seaborn as sns\n",
    "import matplotlib.pyplot as plt"
   ]
  },
  {
   "cell_type": "code",
   "execution_count": 3,
   "metadata": {
    "scrolled": true
   },
   "outputs": [
    {
     "name": "stderr",
     "output_type": "stream",
     "text": [
      "/home/student.unimelb.edu.au/jmohammed/.local/lib/python3.6/site-packages/IPython/core/interactiveshell.py:3072: DtypeWarning: Columns (3,6,8) have mixed types.Specify dtype option on import or set low_memory=False.\n",
      "  interactivity=interactivity, compiler=compiler, result=result)\n"
     ]
    }
   ],
   "source": [
    "df = pd.read_csv(\"sample.csv\")"
   ]
  },
  {
   "cell_type": "code",
   "execution_count": 4,
   "metadata": {
    "scrolled": true
   },
   "outputs": [
    {
     "data": {
      "text/plain": [
       "Index(['Unnamed: 0', 'Event', 'Site', 'GameNumber', 'WName', 'BName', 'WElo',\n",
       "       'BElo', 'WRD', 'BRD', 'WIsComp', 'BIsComp', 'TimeControl', 'Date',\n",
       "       'Time', 'WClock', 'BClock', 'ECO', 'PlyCount', 'Result', 'WMoves',\n",
       "       'BMoves'],\n",
       "      dtype='object')"
      ]
     },
     "execution_count": 4,
     "metadata": {},
     "output_type": "execute_result"
    }
   ],
   "source": [
    "df.columns"
   ]
  },
  {
   "cell_type": "markdown",
   "metadata": {},
   "source": [
    "## CapturesByPiece\n",
    "function takes as argument the pandas dataframe and returns the pandas dataframe with capture count for pair of pieces"
   ]
  },
  {
   "cell_type": "code",
   "execution_count": 6,
   "metadata": {},
   "outputs": [],
   "source": [
    "def capturesByPiece(df):\n",
    "    # Dict of dict to store the count of captures made by a piece\n",
    "\n",
    "    captureCount = dict()\n",
    "    for attacker in chess.UNICODE_PIECE_SYMBOLS.keys():\n",
    "        captureCount[attacker] = dict()\n",
    "        for captured in chess.UNICODE_PIECE_SYMBOLS.keys():\n",
    "            captureCount[attacker][captured] = 0\n",
    "    \n",
    "  \n",
    "            \n",
    "    for index, row in df.iterrows():\n",
    "        WMoves = eval(row[\"WMoves\"])\n",
    "        BMoves = eval(row[\"BMoves\"])\n",
    "\n",
    "        board = chess.Board()\n",
    "\n",
    "        # zipping all the moves and merging into one list \n",
    "        allMoves = zip(WMoves, BMoves)\n",
    "        zippedMoves = list(chain.from_iterable(allMoves))\n",
    "\n",
    "        for move in zippedMoves:\n",
    "            if board.is_capture(board.parse_san(move)):\n",
    "                moveInUCI = board.uci(board.parse_san(move))\n",
    "#                 print(\"move:\",move)\n",
    "                attackerPosition, capturedPosition = moveInUCI[:2], moveInUCI[2:4]\n",
    "#                 print(\"ap,cp:\"+attackerPosition, capturedPosition)\n",
    "                attacker = board.piece_at(chess.SQUARE_NAMES.index(attackerPosition))\n",
    "                captured = board.piece_at(chess.SQUARE_NAMES.index(capturedPosition))\n",
    "#                 print(\"a,c:\",attacker,captured)\n",
    "                \n",
    "                if (str(attacker) in captureCount.keys()) and (str(captured) in captureCount.keys()):\n",
    "                    captureCount[str(attacker)][str(captured)] += 1\n",
    "        \n",
    "            board.push_san(move)\n",
    "        \n",
    "#         print()\n",
    "    \n",
    "    capture_count = pd.DataFrame(captureCount)\n",
    "    capture_count.rename(columns = chess.UNICODE_PIECE_SYMBOLS, index =  chess.UNICODE_PIECE_SYMBOLS, inplace = True) \n",
    "\n",
    "    return  capture_count"
   ]
  },
  {
   "cell_type": "code",
   "execution_count": 8,
   "metadata": {
    "scrolled": false
   },
   "outputs": [
    {
     "name": "stdout",
     "output_type": "stream",
     "text": [
      "CPU times: user 159 ms, sys: 132 ms, total: 292 ms\n",
      "Wall time: 137 ms\n"
     ]
    },
    {
     "data": {
      "text/plain": [
       "<AxesSubplot:>"
      ]
     },
     "execution_count": 8,
     "metadata": {},
     "output_type": "execute_result"
    },
    {
     "data": {
      "image/png": "[encoded data removed]",
      "text/plain": [
       "<Figure size 432x288 with 2 Axes>"
      ]
     },
     "metadata": {
      "needs_background": "light"
     },
     "output_type": "display_data"
    }
   ],
   "source": [
    "%%time\n",
    "sns.heatmap(capturesByPiece(df.head(5)), cmap=\"YlGnBu\")"
   ]
  },
  {
   "cell_type": "code",
   "execution_count": null,
   "metadata": {},
   "outputs": [],
   "source": []
  },
  {
   "cell_type": "code",
   "execution_count": null,
   "metadata": {},
   "outputs": [],
   "source": []
  },
  {
   "cell_type": "code",
   "execution_count": null,
   "metadata": {},
   "outputs": [],
   "source": []
  },
  {
   "cell_type": "code",
   "execution_count": null,
   "metadata": {},
   "outputs": [],
   "source": []
  },
  {
   "cell_type": "code",
   "execution_count": null,
   "metadata": {},
   "outputs": [],
   "source": []
  },
  {
   "cell_type": "code",
   "execution_count": null,
   "metadata": {},
   "outputs": [],
   "source": []
  },
  {
   "cell_type": "code",
   "execution_count": null,
   "metadata": {},
   "outputs": [],
   "source": []
  },
  {
   "cell_type": "code",
   "execution_count": null,
   "metadata": {},
   "outputs": [],
   "source": []
  },
  {
   "cell_type": "code",
   "execution_count": null,
   "metadata": {},
   "outputs": [],
   "source": []
  },
  {
   "cell_type": "code",
   "execution_count": null,
   "metadata": {},
   "outputs": [],
   "source": []
  },
  {
   "cell_type": "code",
   "execution_count": null,
   "metadata": {},
   "outputs": [],
   "source": []
  },
  {
   "cell_type": "code",
   "execution_count": null,
   "metadata": {},
   "outputs": [],
   "source": []
  }
 ],
 "metadata": {
  "kernelspec": {
   "display_name": "Python 3",
   "language": "python",
   "name": "python3"
  },
  "language_info": {
   "codemirror_mode": {
    "name": "ipython",
    "version": 3
   },
   "file_extension": ".py",
   "mimetype": "text/x-python",
   "name": "python",
   "nbconvert_exporter": "python",
   "pygments_lexer": "ipython3",
   "version": "3.6.9"
  }
 },
 "nbformat": 4,
 "nbformat_minor": 4
}
