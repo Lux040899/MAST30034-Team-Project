{
 "cells": [
  {
   "cell_type": "code",
   "execution_count": 1,
   "metadata": {},
   "outputs": [],
   "source": [
    "import pandas as pd\n",
    "import ast\n",
    "from collections import defaultdict as dd\n",
    "import regex as re\n",
    "import seaborn as sns\n",
    "import numpy as np"
   ]
  },
  {
   "cell_type": "markdown",
   "metadata": {},
   "source": [
    "# Descriptive Analytics"
   ]
  },
  {
   "cell_type": "code",
   "execution_count": 2,
   "metadata": {},
   "outputs": [
    {
     "name": "stderr",
     "output_type": "stream",
     "text": [
      "/home/isaac/.local/lib/python3.8/site-packages/IPython/core/interactiveshell.py:3145: DtypeWarning: Columns (3,6,8) have mixed types.Specify dtype option on import or set low_memory=False.\n",
      "  has_raised = await self.run_ast_nodes(code_ast.body, cell_name,\n"
     ]
    },
    {
     "data": {
      "text/html": [
       "<div>\n",
       "<style scoped>\n",
       "    .dataframe tbody tr th:only-of-type {\n",
       "        vertical-align: middle;\n",
       "    }\n",
       "\n",
       "    .dataframe tbody tr th {\n",
       "        vertical-align: top;\n",
       "    }\n",
       "\n",
       "    .dataframe thead th {\n",
       "        text-align: right;\n",
       "    }\n",
       "</style>\n",
       "<table border=\"1\" class=\"dataframe\">\n",
       "  <thead>\n",
       "    <tr style=\"text-align: right;\">\n",
       "      <th></th>\n",
       "      <th>Event</th>\n",
       "      <th>Site</th>\n",
       "      <th>GameNumber</th>\n",
       "      <th>WName</th>\n",
       "      <th>BName</th>\n",
       "      <th>WElo</th>\n",
       "      <th>BElo</th>\n",
       "      <th>WRD</th>\n",
       "      <th>BRD</th>\n",
       "      <th>WIsComp</th>\n",
       "      <th>...</th>\n",
       "      <th>TimeControl</th>\n",
       "      <th>Date</th>\n",
       "      <th>Time</th>\n",
       "      <th>WClock</th>\n",
       "      <th>BClock</th>\n",
       "      <th>ECO</th>\n",
       "      <th>PlyCount</th>\n",
       "      <th>Result</th>\n",
       "      <th>WMoves</th>\n",
       "      <th>BMoves</th>\n",
       "    </tr>\n",
       "  </thead>\n",
       "  <tbody>\n",
       "    <tr>\n",
       "      <th>0</th>\n",
       "      <td>FICS rated blitz game</td>\n",
       "      <td>FICS freechess.org</td>\n",
       "      <td>470452425</td>\n",
       "      <td>chesspickle</td>\n",
       "      <td>lawrencegern</td>\n",
       "      <td>1963</td>\n",
       "      <td>764</td>\n",
       "      <td>21.2</td>\n",
       "      <td>112.2</td>\n",
       "      <td>Yes</td>\n",
       "      <td>...</td>\n",
       "      <td>300+0</td>\n",
       "      <td>2020.01.31</td>\n",
       "      <td>23:54:00</td>\n",
       "      <td>05:00.0</td>\n",
       "      <td>05:00.0</td>\n",
       "      <td>D11</td>\n",
       "      <td>43</td>\n",
       "      <td>1-0</td>\n",
       "      <td>['d4', 'c4', 'Nf3', 'e3', 'Bxc4', 'Be2', 'Bd2'...</td>\n",
       "      <td>['d5', 'c6', 'dxc4', 'e6', 'b5', 'Bb4+', 'Bxd2...</td>\n",
       "    </tr>\n",
       "    <tr>\n",
       "      <th>1</th>\n",
       "      <td>FICS rated blitz game</td>\n",
       "      <td>FICS freechess.org</td>\n",
       "      <td>470452424</td>\n",
       "      <td>ZoneBlindTal</td>\n",
       "      <td>AhNeow</td>\n",
       "      <td>1600</td>\n",
       "      <td>1487</td>\n",
       "      <td>36.6</td>\n",
       "      <td>28.5</td>\n",
       "      <td>NaN</td>\n",
       "      <td>...</td>\n",
       "      <td>180+2</td>\n",
       "      <td>2020.01.31</td>\n",
       "      <td>23:52:00</td>\n",
       "      <td>03:00.0</td>\n",
       "      <td>03:00.0</td>\n",
       "      <td>C41</td>\n",
       "      <td>48</td>\n",
       "      <td>0-1</td>\n",
       "      <td>['e4', 'Nf3', 'd4', 'dxe5', 'Nc3', 'Nd5', 'Bd2...</td>\n",
       "      <td>['e5', 'd6', 'Qe7', 'dxe5', 'f6', 'Qd6', 'c6',...</td>\n",
       "    </tr>\n",
       "    <tr>\n",
       "      <th>2</th>\n",
       "      <td>FICS rated blitz game</td>\n",
       "      <td>FICS freechess.org</td>\n",
       "      <td>470452423</td>\n",
       "      <td>forlat</td>\n",
       "      <td>naraindra</td>\n",
       "      <td>1948</td>\n",
       "      <td>1089</td>\n",
       "      <td>15.3</td>\n",
       "      <td>30.7</td>\n",
       "      <td>Yes</td>\n",
       "      <td>...</td>\n",
       "      <td>300+0</td>\n",
       "      <td>2020.01.31</td>\n",
       "      <td>23:54:00</td>\n",
       "      <td>05:00.0</td>\n",
       "      <td>05:00.0</td>\n",
       "      <td>D00</td>\n",
       "      <td>67</td>\n",
       "      <td>1-0</td>\n",
       "      <td>['d4', 'g3', 'Bg2', 'Nf3', 'O-O', 'e3', 'c3', ...</td>\n",
       "      <td>['d5', 'b5', 'Bb7', 'h6', 'e6', 'Bd6', 'Nf6', ...</td>\n",
       "    </tr>\n",
       "    <tr>\n",
       "      <th>3</th>\n",
       "      <td>FICS rated blitz game</td>\n",
       "      <td>FICS freechess.org</td>\n",
       "      <td>470452420</td>\n",
       "      <td>PGierech</td>\n",
       "      <td>kkpsA</td>\n",
       "      <td>1497</td>\n",
       "      <td>1224</td>\n",
       "      <td>32.4</td>\n",
       "      <td>37.6</td>\n",
       "      <td>NaN</td>\n",
       "      <td>...</td>\n",
       "      <td>120+12</td>\n",
       "      <td>2020.01.31</td>\n",
       "      <td>23:55:00</td>\n",
       "      <td>02:00.0</td>\n",
       "      <td>02:00.0</td>\n",
       "      <td>D00</td>\n",
       "      <td>23</td>\n",
       "      <td>1-0</td>\n",
       "      <td>['e4', 'd4', 'dxe5', 'exd5', 'Nf3', 'Be2', 'Bx...</td>\n",
       "      <td>['d5', 'e5', 'Nc6', 'Nxe5', 'Bg4', 'Nxf3+', 'B...</td>\n",
       "    </tr>\n",
       "    <tr>\n",
       "      <th>4</th>\n",
       "      <td>FICS rated blitz game</td>\n",
       "      <td>FICS freechess.org</td>\n",
       "      <td>470452419</td>\n",
       "      <td>Liszt</td>\n",
       "      <td>Sotavaunu</td>\n",
       "      <td>1594</td>\n",
       "      <td>1554</td>\n",
       "      <td>26.8</td>\n",
       "      <td>34.9</td>\n",
       "      <td>NaN</td>\n",
       "      <td>...</td>\n",
       "      <td>300+2</td>\n",
       "      <td>2020.01.31</td>\n",
       "      <td>23:48:00</td>\n",
       "      <td>05:00.0</td>\n",
       "      <td>05:00.0</td>\n",
       "      <td>B06</td>\n",
       "      <td>53</td>\n",
       "      <td>0-1</td>\n",
       "      <td>['e4', 'd4', 'f4', 'c3', 'cxd4', 'e5', 'Nc3', ...</td>\n",
       "      <td>['g6', 'Bg7', 'c5', 'cxd4', 'd5', 'Nc6', 'Nh6'...</td>\n",
       "    </tr>\n",
       "  </tbody>\n",
       "</table>\n",
       "<p>5 rows × 21 columns</p>\n",
       "</div>"
      ],
      "text/plain": [
       "                   Event                Site GameNumber         WName  \\\n",
       "0  FICS rated blitz game  FICS freechess.org  470452425   chesspickle   \n",
       "1  FICS rated blitz game  FICS freechess.org  470452424  ZoneBlindTal   \n",
       "2  FICS rated blitz game  FICS freechess.org  470452423        forlat   \n",
       "3  FICS rated blitz game  FICS freechess.org  470452420      PGierech   \n",
       "4  FICS rated blitz game  FICS freechess.org  470452419         Liszt   \n",
       "\n",
       "          BName  WElo  BElo   WRD    BRD WIsComp  ... TimeControl        Date  \\\n",
       "0  lawrencegern  1963   764  21.2  112.2     Yes  ...       300+0  2020.01.31   \n",
       "1        AhNeow  1600  1487  36.6   28.5     NaN  ...       180+2  2020.01.31   \n",
       "2     naraindra  1948  1089  15.3   30.7     Yes  ...       300+0  2020.01.31   \n",
       "3         kkpsA  1497  1224  32.4   37.6     NaN  ...      120+12  2020.01.31   \n",
       "4     Sotavaunu  1594  1554  26.8   34.9     NaN  ...       300+2  2020.01.31   \n",
       "\n",
       "       Time   WClock   BClock  ECO PlyCount  Result  \\\n",
       "0  23:54:00  05:00.0  05:00.0  D11       43     1-0   \n",
       "1  23:52:00  03:00.0  03:00.0  C41       48     0-1   \n",
       "2  23:54:00  05:00.0  05:00.0  D00       67     1-0   \n",
       "3  23:55:00  02:00.0  02:00.0  D00       23     1-0   \n",
       "4  23:48:00  05:00.0  05:00.0  B06       53     0-1   \n",
       "\n",
       "                                              WMoves  \\\n",
       "0  ['d4', 'c4', 'Nf3', 'e3', 'Bxc4', 'Be2', 'Bd2'...   \n",
       "1  ['e4', 'Nf3', 'd4', 'dxe5', 'Nc3', 'Nd5', 'Bd2...   \n",
       "2  ['d4', 'g3', 'Bg2', 'Nf3', 'O-O', 'e3', 'c3', ...   \n",
       "3  ['e4', 'd4', 'dxe5', 'exd5', 'Nf3', 'Be2', 'Bx...   \n",
       "4  ['e4', 'd4', 'f4', 'c3', 'cxd4', 'e5', 'Nc3', ...   \n",
       "\n",
       "                                              BMoves  \n",
       "0  ['d5', 'c6', 'dxc4', 'e6', 'b5', 'Bb4+', 'Bxd2...  \n",
       "1  ['e5', 'd6', 'Qe7', 'dxe5', 'f6', 'Qd6', 'c6',...  \n",
       "2  ['d5', 'b5', 'Bb7', 'h6', 'e6', 'Bd6', 'Nf6', ...  \n",
       "3  ['d5', 'e5', 'Nc6', 'Nxe5', 'Bg4', 'Nxf3+', 'B...  \n",
       "4  ['g6', 'Bg7', 'c5', 'cxd4', 'd5', 'Nc6', 'Nh6'...  \n",
       "\n",
       "[5 rows x 21 columns]"
      ]
     },
     "execution_count": 2,
     "metadata": {},
     "output_type": "execute_result"
    }
   ],
   "source": [
    "df = pd.read_csv(\"sample.txt\", header=0, index_col = 0)\n",
    "df.head()"
   ]
  },
  {
   "cell_type": "code",
   "execution_count": 3,
   "metadata": {},
   "outputs": [],
   "source": [
    "df[\"BMoves\"] = df[\"BMoves\"].apply(ast.literal_eval)\n",
    "df[\"WMoves\"] = df[\"WMoves\"].apply(ast.literal_eval)"
   ]
  },
  {
   "cell_type": "markdown",
   "metadata": {},
   "source": [
    "## Most popular square?"
   ]
  },
  {
   "cell_type": "code",
   "execution_count": 4,
   "metadata": {},
   "outputs": [],
   "source": [
    "lookups = [\n",
    "    (\"^.*[a-h][1-8].*$\", \"normal move\"),\n",
    "    (\"^O-O$\", \"kingside castle\"),\n",
    "    (\"^O-O-O$\", \"queenside castle\"),\n",
    "    (\"^.+[QNBR]\\+*#*$\", \"pawn conversion\"),\n",
    "    (\"^.*\\+$\", \"check\"),\n",
    "    (\"^.*#$\", \"checkmate\")\n",
    "]\n",
    "\n",
    "def is_not_castle(move):\n",
    "    return not bool(re.search(\"O-O\",move))\n"
   ]
  },
  {
   "cell_type": "code",
   "execution_count": 5,
   "metadata": {},
   "outputs": [],
   "source": [
    "square_dict = dd(int)\n",
    "\n",
    "def count_squares(moves, colour):\n",
    "    for move in moves:\n",
    "        if is_not_castle(move):\n",
    "            square_dict[re.findall(\"[a-h][1-8]\",move)[-1]] += 1\n",
    "        else:\n",
    "            if re.search(\"^O-O$\", move):\n",
    "                if colour==\"W\":\n",
    "                    square_dict[\"g1\"] += 1\n",
    "                else:\n",
    "                    square_dict[\"g8\"] += 1\n",
    "            else: \n",
    "                if colour==\"W\":\n",
    "                    square_dict[\"c1\"] += 1\n",
    "                else:\n",
    "                    square_dict[\"c8\"] += 1\n",
    "    return\n"
   ]
  },
  {
   "cell_type": "code",
   "execution_count": 34,
   "metadata": {
    "scrolled": true
   },
   "outputs": [
    {
     "data": {
      "text/plain": [
       "0        None\n",
       "1        None\n",
       "2        None\n",
       "3        None\n",
       "4        None\n",
       "         ... \n",
       "39255    None\n",
       "39256    None\n",
       "39257    None\n",
       "39258    None\n",
       "39259    None\n",
       "Name: WMoves, Length: 39260, dtype: object"
      ]
     },
     "execution_count": 34,
     "metadata": {},
     "output_type": "execute_result"
    }
   ],
   "source": [
    "df[\"BMoves\"].apply(lambda x : count_squares(x,'B'))\n",
    "df[\"WMoves\"].apply(lambda x : count_squares(x,'W'))"
   ]
  },
  {
   "cell_type": "markdown",
   "metadata": {},
   "source": [
    "## How many moves until a game becomes unique?"
   ]
  },
  {
   "cell_type": "code",
   "execution_count": null,
   "metadata": {
    "scrolled": true
   },
   "outputs": [],
   "source": [
    "moves_until_unique = dd(int)\n",
    "\n",
    "for i in range(len(sample_df[\"WMoves\"])):\n",
    "    for j in range(i,len(sample_df[\"WMoves\"])):\n",
    "        move_count = -1\n",
    "        g1move = \"\"\n",
    "        g2move = \"\"\n",
    "        while g1move==g2move:\n",
    "            move_count += 1\n",
    "            try:\n",
    "                if move_count%2 == 0:\n",
    "                    #White's move\n",
    "                    g1move = df[\"WMoves\"][i][move_count//2]\n",
    "                    g2move = df[\"WMoves\"][j][move_count//2]\n",
    "                else:\n",
    "                    #Black's move\n",
    "                    g1move = df[\"BMoves\"][i][move_count//2]\n",
    "                    g2move = df[\"BMoves\"][j][move_count//2]\n",
    "            except:\n",
    "                #end of game\n",
    "                g1move = 1\n",
    "                g2move = 2\n",
    "        if moves_until_unique[i] < move_count:\n",
    "           moves_until_unique[i] = move_count\n",
    "        if moves_until_unique[j] < move_count:\n",
    "           moves_until_unique[j] = move_count\n",
    "            "
   ]
  },
  {
   "cell_type": "code",
   "execution_count": null,
   "metadata": {},
   "outputs": [],
   "source": [
    "moves_until_unique"
   ]
  },
  {
   "cell_type": "code",
   "execution_count": null,
   "metadata": {},
   "outputs": [],
   "source": [
    "df.loc[195]"
   ]
  },
  {
   "cell_type": "code",
   "execution_count": null,
   "metadata": {},
   "outputs": [],
   "source": [
    "sample_df = df.head(1000)"
   ]
  },
  {
   "cell_type": "markdown",
   "metadata": {},
   "source": [
    "# Prescriptive Analytics"
   ]
  },
  {
   "cell_type": "markdown",
   "metadata": {},
   "source": [
    "## Feature Engineering"
   ]
  },
  {
   "cell_type": "markdown",
   "metadata": {},
   "source": [
    "## Add columns for who won game"
   ]
  },
  {
   "cell_type": "code",
   "execution_count": null,
   "metadata": {},
   "outputs": [],
   "source": [
    "def get_player_result(result, colour):\n",
    "    if colour=='B':\n",
    "        if result[-1]=='0':\n",
    "            return 0\n",
    "        else:\n",
    "            return 1\n",
    "    else:\n",
    "        if result[0]=='0':\n",
    "            return 0\n",
    "        else:\n",
    "            return 1\n",
    "\n",
    "def add_WL_columns(df):\n",
    "    df['WResult'] = df[\"Result\"].apply(lambda x: get_player_result(x, 'W'))\n",
    "    df['BResult'] = df[\"Result\"].apply(lambda x: get_player_result(x, 'B'))\n",
    "    return"
   ]
  },
  {
   "cell_type": "markdown",
   "metadata": {},
   "source": [
    "## Add columns for what players converted pawns to"
   ]
  },
  {
   "cell_type": "code",
   "execution_count": null,
   "metadata": {},
   "outputs": [],
   "source": [
    "def get_conversions(game, colour):\n",
    "    conversions = []\n",
    "    for i in range(len(game)):\n",
    "        if i%2 and colour=='B':\n",
    "            if re.match(lookups[3][0], game[i]):\n",
    "                conversions.append(re.search(\"(?<=[a-h][1-8])[QNBR]\",game[i]).group(0))\n",
    "        else:\n",
    "            if re.match(lookups[3][0], game[i]):\n",
    "                conversions.append(re.search(\"(?<=[a-h][1-8])[QNBR]\",game[i]).group(0))\n",
    "    return conversions\n",
    "\n",
    "def add_conversions_columns(df):\n",
    "    df[\"WConversions\"] = df[\"game\"].apply(lambda x: get_conversions(x, 'W'))\n",
    "    df[\"BConversions\"] = df[\"game\"].apply(lambda x: get_conversions(x, 'B'))"
   ]
  }
 ],
 "metadata": {
  "kernelspec": {
   "display_name": "Python 3",
   "language": "python",
   "name": "python3"
  },
  "language_info": {
   "codemirror_mode": {
    "name": "ipython",
    "version": 3
   },
   "file_extension": ".py",
   "mimetype": "text/x-python",
   "name": "python",
   "nbconvert_exporter": "python",
   "pygments_lexer": "ipython3",
   "version": "3.8.2"
  }
 },
 "nbformat": 4,
 "nbformat_minor": 4
}
