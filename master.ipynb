{
 "cells": [
  {
   "cell_type": "code",
   "execution_count": null,
   "metadata": {},
   "outputs": [],
   "source": [
    "!pip3 install python-chess"
   ]
  },
  {
   "cell_type": "code",
   "execution_count": null,
   "metadata": {},
   "outputs": [],
   "source": [
    "import pandas as pd\n",
    "import ast\n",
    "from collections import defaultdict as dd\n",
    "import regex as re\n",
    "import seaborn as sns\n",
    "import numpy as np\n",
    "import chess\n",
    "from itertools import chain\n"
   ]
  },
  {
   "cell_type": "markdown",
   "metadata": {},
   "source": [
    "# Descriptive Analytics"
   ]
  },
  {
   "cell_type": "code",
   "execution_count": 86,
   "metadata": {},
   "outputs": [],
   "source": [
    "df = pd.read_csv(\"sample.csv\", header=0, index_col = 0)"
   ]
  },
  {
   "cell_type": "code",
   "execution_count": 87,
   "metadata": {
    "scrolled": true
   },
   "outputs": [
    {
     "data": {
      "text/html": [
       "<div>\n",
       "<style scoped>\n",
       "    .dataframe tbody tr th:only-of-type {\n",
       "        vertical-align: middle;\n",
       "    }\n",
       "\n",
       "    .dataframe tbody tr th {\n",
       "        vertical-align: top;\n",
       "    }\n",
       "\n",
       "    .dataframe thead th {\n",
       "        text-align: right;\n",
       "    }\n",
       "</style>\n",
       "<table border=\"1\" class=\"dataframe\">\n",
       "  <thead>\n",
       "    <tr style=\"text-align: right;\">\n",
       "      <th></th>\n",
       "      <th>Event</th>\n",
       "      <th>Site</th>\n",
       "      <th>GameNumber</th>\n",
       "      <th>WName</th>\n",
       "      <th>BName</th>\n",
       "      <th>WElo</th>\n",
       "      <th>BElo</th>\n",
       "      <th>WRD</th>\n",
       "      <th>BRD</th>\n",
       "      <th>WIsComp</th>\n",
       "      <th>...</th>\n",
       "      <th>TimeControl</th>\n",
       "      <th>Date</th>\n",
       "      <th>Time</th>\n",
       "      <th>WClock</th>\n",
       "      <th>BClock</th>\n",
       "      <th>ECO</th>\n",
       "      <th>PlyCount</th>\n",
       "      <th>Result</th>\n",
       "      <th>WMoves</th>\n",
       "      <th>BMoves</th>\n",
       "    </tr>\n",
       "  </thead>\n",
       "  <tbody>\n",
       "    <tr>\n",
       "      <th>0</th>\n",
       "      <td>FICS rated blitz game</td>\n",
       "      <td>FICS freechess.org</td>\n",
       "      <td>470452425</td>\n",
       "      <td>chesspickle</td>\n",
       "      <td>lawrencegern</td>\n",
       "      <td>1963</td>\n",
       "      <td>764</td>\n",
       "      <td>21.2</td>\n",
       "      <td>112.200</td>\n",
       "      <td>Yes</td>\n",
       "      <td>...</td>\n",
       "      <td>300+0</td>\n",
       "      <td>2020.01.31</td>\n",
       "      <td>23:54:00</td>\n",
       "      <td>05:00.0</td>\n",
       "      <td>05:00.0</td>\n",
       "      <td>D11</td>\n",
       "      <td>43</td>\n",
       "      <td>1-0</td>\n",
       "      <td>['d4', 'c4', 'Nf3', 'e3', 'Bxc4', 'Be2', 'Bd2'...</td>\n",
       "      <td>['d5', 'c6', 'dxc4', 'e6', 'b5', 'Bb4+', 'Bxd2...</td>\n",
       "    </tr>\n",
       "    <tr>\n",
       "      <th>1</th>\n",
       "      <td>FICS rated blitz game</td>\n",
       "      <td>FICS freechess.org</td>\n",
       "      <td>470452424</td>\n",
       "      <td>ZoneBlindTal</td>\n",
       "      <td>AhNeow</td>\n",
       "      <td>1600</td>\n",
       "      <td>1487</td>\n",
       "      <td>36.6</td>\n",
       "      <td>28.500</td>\n",
       "      <td>NaN</td>\n",
       "      <td>...</td>\n",
       "      <td>180+2</td>\n",
       "      <td>2020.01.31</td>\n",
       "      <td>23:52:00</td>\n",
       "      <td>03:00.0</td>\n",
       "      <td>03:00.0</td>\n",
       "      <td>C41</td>\n",
       "      <td>48</td>\n",
       "      <td>0-1</td>\n",
       "      <td>['e4', 'Nf3', 'd4', 'dxe5', 'Nc3', 'Nd5', 'Bd2...</td>\n",
       "      <td>['e5', 'd6', 'Qe7', 'dxe5', 'f6', 'Qd6', 'c6',...</td>\n",
       "    </tr>\n",
       "    <tr>\n",
       "      <th>2</th>\n",
       "      <td>FICS rated blitz game</td>\n",
       "      <td>FICS freechess.org</td>\n",
       "      <td>470452423</td>\n",
       "      <td>forlat</td>\n",
       "      <td>naraindra</td>\n",
       "      <td>1948</td>\n",
       "      <td>1089</td>\n",
       "      <td>15.3</td>\n",
       "      <td>30.700</td>\n",
       "      <td>Yes</td>\n",
       "      <td>...</td>\n",
       "      <td>300+0</td>\n",
       "      <td>2020.01.31</td>\n",
       "      <td>23:54:00</td>\n",
       "      <td>05:00.0</td>\n",
       "      <td>05:00.0</td>\n",
       "      <td>D00</td>\n",
       "      <td>67</td>\n",
       "      <td>1-0</td>\n",
       "      <td>['d4', 'g3', 'Bg2', 'Nf3', 'O-O', 'e3', 'c3', ...</td>\n",
       "      <td>['d5', 'b5', 'Bb7', 'h6', 'e6', 'Bd6', 'Nf6', ...</td>\n",
       "    </tr>\n",
       "    <tr>\n",
       "      <th>3</th>\n",
       "      <td>FICS rated blitz game</td>\n",
       "      <td>FICS freechess.org</td>\n",
       "      <td>470452420</td>\n",
       "      <td>PGierech</td>\n",
       "      <td>kkpsA</td>\n",
       "      <td>1497</td>\n",
       "      <td>1224</td>\n",
       "      <td>32.4</td>\n",
       "      <td>37.600</td>\n",
       "      <td>NaN</td>\n",
       "      <td>...</td>\n",
       "      <td>120+12</td>\n",
       "      <td>2020.01.31</td>\n",
       "      <td>23:55:00</td>\n",
       "      <td>02:00.0</td>\n",
       "      <td>02:00.0</td>\n",
       "      <td>D00</td>\n",
       "      <td>23</td>\n",
       "      <td>1-0</td>\n",
       "      <td>['e4', 'd4', 'dxe5', 'exd5', 'Nf3', 'Be2', 'Bx...</td>\n",
       "      <td>['d5', 'e5', 'Nc6', 'Nxe5', 'Bg4', 'Nxf3+', 'B...</td>\n",
       "    </tr>\n",
       "    <tr>\n",
       "      <th>4</th>\n",
       "      <td>FICS rated blitz game</td>\n",
       "      <td>FICS freechess.org</td>\n",
       "      <td>470452419</td>\n",
       "      <td>Liszt</td>\n",
       "      <td>Sotavaunu</td>\n",
       "      <td>1594</td>\n",
       "      <td>1554</td>\n",
       "      <td>26.8</td>\n",
       "      <td>34.900</td>\n",
       "      <td>NaN</td>\n",
       "      <td>...</td>\n",
       "      <td>300+2</td>\n",
       "      <td>2020.01.31</td>\n",
       "      <td>23:48:00</td>\n",
       "      <td>05:00.0</td>\n",
       "      <td>05:00.0</td>\n",
       "      <td>B06</td>\n",
       "      <td>53</td>\n",
       "      <td>0-1</td>\n",
       "      <td>['e4', 'd4', 'f4', 'c3', 'cxd4', 'e5', 'Nc3', ...</td>\n",
       "      <td>['g6', 'Bg7', 'c5', 'cxd4', 'd5', 'Nc6', 'Nh6'...</td>\n",
       "    </tr>\n",
       "  </tbody>\n",
       "</table>\n",
       "<p>5 rows × 21 columns</p>\n",
       "</div>"
      ],
      "text/plain": [
       "                   Event                Site GameNumber         WName  \\\n",
       "0  FICS rated blitz game  FICS freechess.org  470452425   chesspickle   \n",
       "1  FICS rated blitz game  FICS freechess.org  470452424  ZoneBlindTal   \n",
       "2  FICS rated blitz game  FICS freechess.org  470452423        forlat   \n",
       "3  FICS rated blitz game  FICS freechess.org  470452420      PGierech   \n",
       "4  FICS rated blitz game  FICS freechess.org  470452419         Liszt   \n",
       "\n",
       "          BName  WElo  BElo   WRD     BRD WIsComp  ... TimeControl  \\\n",
       "0  lawrencegern  1963   764  21.2 112.200     Yes  ...       300+0   \n",
       "1        AhNeow  1600  1487  36.6  28.500     NaN  ...       180+2   \n",
       "2     naraindra  1948  1089  15.3  30.700     Yes  ...       300+0   \n",
       "3         kkpsA  1497  1224  32.4  37.600     NaN  ...      120+12   \n",
       "4     Sotavaunu  1594  1554  26.8  34.900     NaN  ...       300+2   \n",
       "\n",
       "         Date      Time   WClock   BClock  ECO PlyCount  Result  \\\n",
       "0  2020.01.31  23:54:00  05:00.0  05:00.0  D11       43     1-0   \n",
       "1  2020.01.31  23:52:00  03:00.0  03:00.0  C41       48     0-1   \n",
       "2  2020.01.31  23:54:00  05:00.0  05:00.0  D00       67     1-0   \n",
       "3  2020.01.31  23:55:00  02:00.0  02:00.0  D00       23     1-0   \n",
       "4  2020.01.31  23:48:00  05:00.0  05:00.0  B06       53     0-1   \n",
       "\n",
       "                                              WMoves  \\\n",
       "0  ['d4', 'c4', 'Nf3', 'e3', 'Bxc4', 'Be2', 'Bd2'...   \n",
       "1  ['e4', 'Nf3', 'd4', 'dxe5', 'Nc3', 'Nd5', 'Bd2...   \n",
       "2  ['d4', 'g3', 'Bg2', 'Nf3', 'O-O', 'e3', 'c3', ...   \n",
       "3  ['e4', 'd4', 'dxe5', 'exd5', 'Nf3', 'Be2', 'Bx...   \n",
       "4  ['e4', 'd4', 'f4', 'c3', 'cxd4', 'e5', 'Nc3', ...   \n",
       "\n",
       "                                              BMoves  \n",
       "0  ['d5', 'c6', 'dxc4', 'e6', 'b5', 'Bb4+', 'Bxd2...  \n",
       "1  ['e5', 'd6', 'Qe7', 'dxe5', 'f6', 'Qd6', 'c6',...  \n",
       "2  ['d5', 'b5', 'Bb7', 'h6', 'e6', 'Bd6', 'Nf6', ...  \n",
       "3  ['d5', 'e5', 'Nc6', 'Nxe5', 'Bg4', 'Nxf3+', 'B...  \n",
       "4  ['g6', 'Bg7', 'c5', 'cxd4', 'd5', 'Nc6', 'Nh6'...  \n",
       "\n",
       "[5 rows x 21 columns]"
      ]
     },
     "execution_count": 87,
     "metadata": {},
     "output_type": "execute_result"
    }
   ],
   "source": [
    "df.head()"
   ]
  },
  {
   "cell_type": "code",
   "execution_count": 88,
   "metadata": {},
   "outputs": [],
   "source": [
    "df[\"BMoves\"] = df[\"BMoves\"].apply(ast.literal_eval)\n",
    "df[\"WMoves\"] = df[\"WMoves\"].apply(ast.literal_eval)"
   ]
  },
  {
   "cell_type": "code",
   "execution_count": 89,
   "metadata": {},
   "outputs": [],
   "source": [
    "df = df[df[\"WMoves\"] != \"eow\"]\n",
    "df = df[df[\"BMoves\"] != \"eow\"]"
   ]
  },
  {
   "cell_type": "code",
   "execution_count": null,
   "metadata": {},
   "outputs": [],
   "source": [
    "df.loc[2,'WMoves']"
   ]
  },
  {
   "cell_type": "markdown",
   "metadata": {},
   "source": [
    "## Most popular square?"
   ]
  },
  {
   "cell_type": "code",
   "execution_count": null,
   "metadata": {},
   "outputs": [],
   "source": [
    "lookups = [\n",
    "    (\"^.*[a-h][1-8].*$\", \"normal move\"),\n",
    "    (\"^O-O$\", \"kingside castle\"),\n",
    "    (\"^O-O-O$\", \"queenside castle\"),\n",
    "    (\"^.+[QNBR]\\+*#*$\", \"pawn conversion\"),\n",
    "    (\"^.*\\+$\", \"check\"),\n",
    "    (\"^.*#$\", \"checkmate\")\n",
    "]\n",
    "\n",
    "def is_not_castle(move):\n",
    "    return not bool(re.search(\"O-O\",move))\n"
   ]
  },
  {
   "cell_type": "code",
   "execution_count": null,
   "metadata": {},
   "outputs": [],
   "source": [
    "square_dict = dd(int)\n",
    "\n",
    "def count_squares(moves, colour):\n",
    "    for move in moves:\n",
    "        if is_not_castle(move):\n",
    "            square_dict[re.findall(\"[a-h][1-8]\",move)[-1]] += 1\n",
    "        else:\n",
    "            if re.search(\"^O-O$\", move):\n",
    "                if colour==\"W\":\n",
    "                    square_dict[\"g1\"] += 1\n",
    "                else:\n",
    "                    square_dict[\"g8\"] += 1\n",
    "            else: \n",
    "                if colour==\"W\":\n",
    "                    square_dict[\"c1\"] += 1\n",
    "                else:\n",
    "                    square_dict[\"c8\"] += 1\n",
    "    return\n"
   ]
  },
  {
   "cell_type": "code",
   "execution_count": null,
   "metadata": {
    "scrolled": true
   },
   "outputs": [],
   "source": [
    "df[\"BMoves\"].apply(lambda x : count_squares(x,'B'))\n",
    "df[\"WMoves\"].apply(lambda x : count_squares(x,'W'))"
   ]
  },
  {
   "cell_type": "markdown",
   "metadata": {},
   "source": [
    "## How many moves until a game becomes unique?"
   ]
  },
  {
   "cell_type": "code",
   "execution_count": null,
   "metadata": {},
   "outputs": [],
   "source": [
    "df.loc[195]"
   ]
  },
  {
   "cell_type": "code",
   "execution_count": null,
   "metadata": {},
   "outputs": [],
   "source": [
    "sample_df = df.head(1000)"
   ]
  },
  {
   "cell_type": "code",
   "execution_count": null,
   "metadata": {
    "scrolled": true
   },
   "outputs": [],
   "source": [
    "moves_until_unique = dd(int)\n",
    "\n",
    "for i in range(len(sample_df[\"WMoves\"])):\n",
    "    for j in range(i,len(sample_df[\"WMoves\"])):\n",
    "        move_count = -1\n",
    "        g1move = \"\"\n",
    "        g2move = \"\"\n",
    "        while g1move==g2move:\n",
    "            move_count += 1\n",
    "            try:\n",
    "                if move_count%2 == 0:\n",
    "                    #White's move\n",
    "                    g1move = df[\"WMoves\"][i][move_count//2]\n",
    "                    g2move = df[\"WMoves\"][j][move_count//2]\n",
    "                else:\n",
    "                    #Black's move\n",
    "                    g1move = df[\"BMoves\"][i][move_count//2]\n",
    "                    g2move = df[\"BMoves\"][j][move_count//2]\n",
    "            except:\n",
    "                #end of game\n",
    "                g1move = 1\n",
    "                g2move = 2\n",
    "        if moves_until_unique[i] < move_count:\n",
    "            moves_until_unique[i] = move_count\n",
    "        if moves_until_unique[j] < move_count:\n",
    "            moves_until_unique[j] = move_count\n",
    "            "
   ]
  },
  {
   "cell_type": "code",
   "execution_count": null,
   "metadata": {},
   "outputs": [],
   "source": [
    "moves_until_unique"
   ]
  },
  {
   "cell_type": "markdown",
   "metadata": {},
   "source": [
    "## CapturesByPiece\n",
    "function takes as argument the pandas dataframe and returns the pandas dataframe with capture count for pair of pieces"
   ]
  },
  {
   "cell_type": "code",
   "execution_count": 90,
   "metadata": {},
   "outputs": [],
   "source": [
    "def capturesByPiece(df):\n",
    "    # Dict of dict to store the count of captures made by a piece\n",
    "\n",
    "    captureCount = dict()\n",
    "    for attacker in chess.UNICODE_PIECE_SYMBOLS.keys():\n",
    "        captureCount[attacker] = dict()\n",
    "        for captured in chess.UNICODE_PIECE_SYMBOLS.keys():\n",
    "            captureCount[attacker][captured] = 0\n",
    "    \n",
    "  \n",
    "            \n",
    "    for index, row in df.iterrows():\n",
    "        WMoves = row[\"WMoves\"]\n",
    "        BMoves = row[\"BMoves\"]\n",
    "\n",
    "        board = chess.Board()\n",
    "\n",
    "        # zipping all the moves and merging into one list \n",
    "        allMoves = zip(WMoves, BMoves)\n",
    "        zippedMoves = list(chain.from_iterable(allMoves))\n",
    "\n",
    "        for move in zippedMoves:\n",
    "            if board.is_capture(board.parse_san(move)):\n",
    "                moveInUCI = board.uci(board.parse_san(move))\n",
    "#                 print(\"move:\",move)\n",
    "                attackerPosition, capturedPosition = moveInUCI[:2], moveInUCI[2:4]\n",
    "#                 print(\"ap,cp:\"+attackerPosition, capturedPosition)\n",
    "                attacker = board.piece_at(chess.SQUARE_NAMES.index(attackerPosition))\n",
    "                captured = board.piece_at(chess.SQUARE_NAMES.index(capturedPosition))\n",
    "#                 print(\"a,c:\",attacker,captured)\n",
    "                \n",
    "                if (str(attacker) in captureCount.keys()) and (str(captured) in captureCount.keys()):\n",
    "                    captureCount[str(attacker)][str(captured)] += 1\n",
    "        \n",
    "            board.push_san(move)\n",
    "        \n",
    "#         print()\n",
    "    \n",
    "    capture_count = pd.DataFrame(captureCount)\n",
    "    capture_count.rename(columns = chess.UNICODE_PIECE_SYMBOLS, index =  chess.UNICODE_PIECE_SYMBOLS, inplace = True) \n",
    "\n",
    "    return  capture_count"
   ]
  },
  {
   "cell_type": "code",
   "execution_count": 92,
   "metadata": {
    "scrolled": false
   },
   "outputs": [
    {
     "name": "stdout",
     "output_type": "stream",
     "text": [
      "CPU times: user 2min 33s, sys: 100 ms, total: 2min 33s\n",
      "Wall time: 2min 33s\n"
     ]
    },
    {
     "data": {
      "text/plain": [
       "<AxesSubplot:>"
      ]
     },
     "execution_count": 92,
     "metadata": {},
     "output_type": "execute_result"
    },
    {
     "data": {
      "image/png": "[encoded data removed]",
      "text/plain": [
       "<Figure size 432x288 with 2 Axes>"
      ]
     },
     "metadata": {
      "needs_background": "light"
     },
     "output_type": "display_data"
    }
   ],
   "source": [
    "%%time\n",
    "sns.heatmap(capturesByPiece(df), cmap=\"YlGnBu\")"
   ]
  },
  {
   "cell_type": "code",
   "execution_count": null,
   "metadata": {},
   "outputs": [],
   "source": []
  },
  {
   "cell_type": "markdown",
   "metadata": {},
   "source": [
    "# Prescriptive Analytics"
   ]
  },
  {
   "cell_type": "markdown",
   "metadata": {},
   "source": [
    "## Feature Engineering"
   ]
  },
  {
   "cell_type": "markdown",
   "metadata": {},
   "source": [
    "## Add columns for who won game"
   ]
  },
  {
   "cell_type": "code",
   "execution_count": null,
   "metadata": {},
   "outputs": [],
   "source": [
    "def get_player_result(result, colour):\n",
    "    if colour=='B':\n",
    "        if result[-1]=='0':\n",
    "            return 0\n",
    "        else:\n",
    "            return 1\n",
    "    else:\n",
    "        if result[0]=='0':\n",
    "            return 0\n",
    "        else:\n",
    "            return 1\n",
    "\n",
    "def add_WL_columns(df):\n",
    "    df['WResult'] = df[\"Result\"].apply(lambda x: get_player_result(x, 'W'))\n",
    "    df['BResult'] = df[\"Result\"].apply(lambda x: get_player_result(x, 'B'))\n",
    "    return"
   ]
  },
  {
   "cell_type": "code",
   "execution_count": null,
   "metadata": {},
   "outputs": [],
   "source": [
    "add_WL_columns(df)"
   ]
  },
  {
   "cell_type": "markdown",
   "metadata": {},
   "source": [
    "## Add columns for pawn conversions"
   ]
  },
  {
   "cell_type": "code",
   "execution_count": null,
   "metadata": {},
   "outputs": [],
   "source": [
    "def get_conversions(moves):\n",
    "    conversions = []\n",
    "    for move in moves:\n",
    "        if re.match(lookups[3][0], move) is not None:\n",
    "            conversions.append(re.search(\"(?<=[a-h][1-8]=)[QNBR]\",move).group(0))\n",
    "    return len(conversions)\n",
    "\n",
    "def add_conversions_columns(df):\n",
    "    df[\"WConversions\"] = df[\"WMoves\"].apply(lambda x: get_conversions(x))\n",
    "    df[\"BConversions\"] = df[\"BMoves\"].apply(lambda x: get_conversions(x))"
   ]
  },
  {
   "cell_type": "code",
   "execution_count": null,
   "metadata": {},
   "outputs": [],
   "source": [
    "add_conversions_columns(df)"
   ]
  },
  {
   "cell_type": "markdown",
   "metadata": {},
   "source": [
    "**Add columns for what piece was used the most by a player**"
   ]
  },
  {
   "cell_type": "code",
   "execution_count": null,
   "metadata": {},
   "outputs": [],
   "source": [
    "df['WFavPiece'] = 'null'\n",
    "df['BFavPiece'] = 'null'\n",
    "\n",
    "WPieceMoves = {'N': 0, 'B': 0, 'R': 0, 'Q': 0, 'K':0}\n",
    "BPieceMoves = {'N': 0, 'B': 0, 'R': 0, 'Q': 0, 'K':0}\n",
    "\n",
    "def get_favPiece():\n",
    "    for i in range(len(df)):\n",
    "        moves = df.loc[i, 'WMoves']\n",
    "        for move in moves:\n",
    "            if(move):\n",
    "                if move[0].isupper() and move[0] != 'O':\n",
    "                    WPieceMoves[move[0]] += 1\n",
    "        FavPiece = max(WPieceMoves, key=WPieceMoves.get)\n",
    "        df.loc[i, ['WFavPiece']] = FavPiece\n",
    "        \n",
    "        moves = df.loc[i, 'BMoves']\n",
    "        for move in moves:\n",
    "            if(move):\n",
    "                if move[0].isupper() and move[0] != 'O':\n",
    "                    BPieceMoves[move[0]] += 1\n",
    "        FavPiece = max(BPieceMoves, key=BPieceMoves.get)\n",
    "        df.loc[i, ['BFavPiece']] = FavPiece"
   ]
  },
  {
   "cell_type": "code",
   "execution_count": null,
   "metadata": {},
   "outputs": [],
   "source": [
    "get_favPiece()"
   ]
  },
  {
   "cell_type": "markdown",
   "metadata": {},
   "source": [
    "## Moves Count\n",
    "Moves can either be ordinary move or capturing move, \n",
    " - `WCaptureMovesCount` represent number of capturing moves in the game made by White player\n",
    " - `BCaptureMovesCount` represent number of capturing moves in the game made by Black player\n",
    " - `WOrdMovesCount` represent number of ordinary moves in the game made by White player\n",
    " - `BOrdMovesCount` represent number of oridnary moves in the game made by Black player"
   ]
  },
  {
   "cell_type": "code",
   "execution_count": null,
   "metadata": {},
   "outputs": [],
   "source": [
    "def captureCount(moves):\n",
    "    count = 0\n",
    "    for move in moves:\n",
    "        if \"x\" in move:\n",
    "            count += 1\n",
    "    return count\n",
    "            "
   ]
  },
  {
   "cell_type": "code",
   "execution_count": null,
   "metadata": {},
   "outputs": [],
   "source": [
    "def ordinaryCount(moves):\n",
    "    count = 0\n",
    "    for move in moves:\n",
    "        if \"x\" not in move:\n",
    "            count += 1\n",
    "    return count"
   ]
  },
  {
   "cell_type": "code",
   "execution_count": null,
   "metadata": {},
   "outputs": [],
   "source": [
    "def addmovesCount():\n",
    "    df[\"WCaptureMovesCount\"] = df[\"WMoves\"].apply(captureCount)\n",
    "    df[\"BCaptureMovesCount\"] = df[\"BMoves\"].apply(captureCount)\n",
    "\n",
    "    df[\"WOrdMovesCount\"] = df[\"WMoves\"].apply(ordinaryCount)\n",
    "\n",
    "    df[\"BOrdMovesCount\"] = df[\"BMoves\"].apply(ordinaryCount)"
   ]
  },
  {
   "cell_type": "code",
   "execution_count": null,
   "metadata": {},
   "outputs": [],
   "source": [
    "addmovesCount()"
   ]
  },
  {
   "cell_type": "markdown",
   "metadata": {},
   "source": [
    "## Number of pieces at the end of the game"
   ]
  },
  {
   "cell_type": "code",
   "execution_count": null,
   "metadata": {},
   "outputs": [],
   "source": [
    "def addpieces():\n",
    "    df[\"WPiecesCount\"] = np.abs(df[\"BCaptureMovesCount\"].subtract(16))\n",
    "\n",
    "    df[\"BPiecesCount\"] = np.abs(df[\"WCaptureMovesCount\"].subtract(16))"
   ]
  },
  {
   "cell_type": "code",
   "execution_count": null,
   "metadata": {},
   "outputs": [],
   "source": [
    "addpieces()"
   ]
  },
  {
   "cell_type": "markdown",
   "metadata": {},
   "source": [
    "## Pairwise capture count\n",
    "    - Uppercase letter(R,N,B,Q,K,P) represent White pieces \n",
    "    - lowercase letter(r,n,b,q,k,p) represent Black pieces\n",
    "    - Column \"Pp\" represent P captures p count"
   ]
  },
  {
   "cell_type": "code",
   "execution_count": null,
   "metadata": {},
   "outputs": [],
   "source": [
    "def pairCaptureDict(WMoves, BMoves):\n",
    "#     Dictionary to store count\n",
    "    captureCount = dict()\n",
    "    for attacker in chess.UNICODE_PIECE_SYMBOLS.keys():\n",
    "        for captured in chess.UNICODE_PIECE_SYMBOLS.keys():\n",
    "            key = attacker+captured\n",
    "            if (not key.isupper()) and (not key.islower()):\n",
    "                captureCount[key] = 0\n",
    "                \n",
    "                \n",
    "    board = chess.Board()\n",
    " # zipping all the moves and merging into one list \n",
    "    allMoves = zip(WMoves, BMoves)\n",
    "    zippedMoves = list(chain.from_iterable(allMoves))\n",
    "\n",
    "    for move in zippedMoves:\n",
    "        if board.is_capture(board.parse_san(move)):\n",
    "            moveInUCI = board.uci(board.parse_san(move))\n",
    "#                 print(\"move:\",move)\n",
    "            attackerPosition, capturedPosition = moveInUCI[:2], moveInUCI[2:4]\n",
    "#                 print(\"ap,cp:\"+attackerPosition, capturedPosition)\n",
    "            attacker = board.piece_at(chess.SQUARE_NAMES.index(attackerPosition))\n",
    "            captured = board.piece_at(chess.SQUARE_NAMES.index(capturedPosition))\n",
    "#                 print(\"a,c:\",attacker,captured)\n",
    "            key = (str(attacker)+str(captured))\n",
    "            if (key in captureCount.keys()):\n",
    "                    captureCount[key] += 1\n",
    "        board.push_san(move)\n",
    "    return captureCount\n"
   ]
  },
  {
   "cell_type": "code",
   "execution_count": null,
   "metadata": {},
   "outputs": [],
   "source": [
    "#  Adds the features to the dataframe \n",
    "df['pairCaptureDict'] = df.apply(lambda x: pairCaptureDict(x.WMoves, x.BMoves), axis=1)\n",
    "\n",
    "new_df = pd.DataFrame(list(df[\"pairCaptureDict\"]))\n",
    "\n",
    "df = pd.concat([df, new_df], axis=1)\n",
    "\n",
    "df = df.drop(columns = \"pairCaptureDict\")"
   ]
  },
  {
   "cell_type": "code",
   "execution_count": null,
   "metadata": {
    "scrolled": true
   },
   "outputs": [],
   "source": [
    "df.head()"
   ]
  },
  {
   "cell_type": "markdown",
   "metadata": {},
   "source": [
    "## finding first check"
   ]
  },
  {
   "cell_type": "code",
   "execution_count": null,
   "metadata": {},
   "outputs": [],
   "source": [
    "def find_check(entry):\n",
    "    n_moves = 0;\n",
    "    for i in range(len(entry[\"WMoves\"])):\n",
    "        n_moves+=1\n",
    "        if entry[\"WMoves\"][i][-1] == \"+\":\n",
    "            return n_moves\n",
    "        if i == len(entry[\"WMoves\"]) - 1 and len(entry[\"WMoves\"]) != len(entry[\"BMoves\"]):\n",
    "            return -1\n",
    "        if entry[\"BMoves\"][i][-1] == \"+\":\n",
    "            return n_moves\n",
    "    return -1\n",
    "\n",
    "def find_checks(df):\n",
    "    chks = []\n",
    "    for i in range(len(df)):\n",
    "        chks.append(find_check(df.iloc[i]))\n",
    "    df[\"first_check\"] = chks"
   ]
  },
  {
   "cell_type": "code",
   "execution_count": null,
   "metadata": {},
   "outputs": [],
   "source": [
    "def find_first_check(moves):\n",
    "    for i in range(len(moves)):\n",
    "        if moves[i][-1] == \"+\":\n",
    "            return i\n",
    "    return len(moves)\n",
    "\n",
    "def get_check(moves):\n",
    "    for i in range(len(moves)):\n",
    "        if moves[i][-1] == \"+\":\n",
    "            return i\n",
    "    else:\n",
    "        return 0\n",
    "\n",
    "def make_check_columns(df):\n",
    "    df[\"BCheck\"] = df[\"BMoves\"].apply(lambda x: get_check(x))\n",
    "    df[\"WCheck\"] = df[\"WMoves\"].apply(lambda x: get_check(x))\n",
    "    df[\"BChecked\"] = df[\"WMoves\"].apply(lambda x: get_check(x))\n",
    "    df[\"WChecked\"] = df[\"BMoves\"].apply(lambda x: get_check(x))"
   ]
  },
  {
   "cell_type": "code",
   "execution_count": null,
   "metadata": {},
   "outputs": [],
   "source": [
    "make_check_columns(df)"
   ]
  },
  {
   "cell_type": "code",
   "execution_count": null,
   "metadata": {},
   "outputs": [],
   "source": [
    "pd.set_option('display.max_columns', None)"
   ]
  },
  {
   "cell_type": "markdown",
   "metadata": {},
   "source": [
    "## High skill openings"
   ]
  },
  {
   "cell_type": "code",
   "execution_count": null,
   "metadata": {},
   "outputs": [],
   "source": [
    "def high_skill_openings(df):\n",
    "    open_elo = dd(int)\n",
    "    open_count = dd(int)\n",
    "    bOpens = []\n",
    "    wOpens = []\n",
    "    for i in range(len(df)):\n",
    "        wOpen = tuple(df[\"WMoves\"][i][0:5])\n",
    "        wOpens.append(wOpen)\n",
    "        wSkill = df[\"WElo\"][i]\n",
    "        open_elo[wOpen] += int(wSkill)\n",
    "        open_count[wOpen] += 1\n",
    "        bOpen = tuple(df[\"BMoves\"][i][0:5])\n",
    "        bOpens.append(wOpen)\n",
    "        bSkill = df[\"BElo\"][i]\n",
    "        open_elo[bOpen] += bSkill\n",
    "        open_count[bOpen] += 1\n",
    "        \n",
    "    for key in open_elo.keys():\n",
    "        open_elo[key] = open_elo[key]/open_count[key]\n",
    "    return open_elo, bOpens, wOpens\n",
    "\n",
    "def openings(df):\n",
    "    elos, bOpens, wOpens = high_skill_openings(df)\n",
    "    df[\"bOpens\"] = bOpens\n",
    "    df[\"wOpens\"] = wOpens"
   ]
  },
  {
   "cell_type": "code",
   "execution_count": null,
   "metadata": {},
   "outputs": [],
   "source": [
    "openings(df)"
   ]
  },
  {
   "cell_type": "code",
   "execution_count": null,
   "metadata": {},
   "outputs": [],
   "source": [
    "df.head()"
   ]
  },
  {
   "cell_type": "markdown",
   "metadata": {},
   "source": [
    "**Score Calculation**"
   ]
  },
  {
   "cell_type": "code",
   "execution_count": null,
   "metadata": {},
   "outputs": [],
   "source": [
    "InitialBoardW = ['Pa2', 'Pb2', 'Pc2', 'Pd2', 'Pe2', 'Pf2', 'Pg2', 'Ph2', 'Ra1', 'Nb1', 'Bc1', 'Qd1', 'Ke1', 'Bf1', 'Ng1', 'Rh1']\n",
    "InitialBoardB = ['Pa7', 'Pb7', 'Pc7', 'Pd7', 'Pe7', 'Pf7', 'Pg7', 'Ph7', 'Ra8', 'Nb8', 'Bc8', 'Qd8', 'Ke8', 'Bf8', 'Ng8', 'Rh8']\n",
    "\n",
    "PieceVal = {'P': 1, 'N': 3, 'B': 3, 'R': 5, 'Q': 9, 'K':100}\n",
    "\n",
    "def calculateScore(movesList):\n",
    "    scoreW = scoreB = 39                                                                                                                           \n",
    "    for i in range(len(movesList)):\n",
    "        if 'x' in movesList[i]:       \n",
    "            posIndex = movesList[i].index('x') + 1\n",
    "            position = movesList[i][posIndex:]\n",
    "            j = i-1     \n",
    "            while j >= 0:\n",
    "                if position in movesList[j]:\n",
    "                    if position[0] == movesList[j][0]:\n",
    "                        if j%2 == 1:\n",
    "                            scoreB -= 1\n",
    "                        else:\n",
    "                            scoreW -= 1\n",
    "                    elif 'x' in movesList[j]:\n",
    "                        if movesList[j][0].islower():\n",
    "                            if j%2 == 1:\n",
    "                                scoreB -= 1\n",
    "                            else:\n",
    "                                scoreW -= 1\n",
    "                        else:\n",
    "                            if j%2 == 1:\n",
    "                                scoreB -= PieceVal[movesList[j][0]]\n",
    "                            else:\n",
    "                                scoreW -= PieceVal[movesList[j][0]]\n",
    "                            \n",
    "                    else:\n",
    "                        if j%2 == 1:\n",
    "                            scoreB -= PieceVal[movesList[j][0]]\n",
    "                        else:\n",
    "                            scoreW -= PieceVal[movesList[j][0]]\n",
    "                j -= 1\n",
    "                \n",
    "            if i%2 == 0:\n",
    "                for piece in InitialBoardB:\n",
    "                    if position in piece:\n",
    "                        scoreB -= PieceVal[piece[0]]\n",
    "            else:\n",
    "                for piece in InitialBoardW:\n",
    "                    if position in piece:\n",
    "                        scoreW -= PieceVal[piece[0]]        \n",
    "        \n",
    "    return scoreW, scoreB"
   ]
  },
  {
   "cell_type": "code",
   "execution_count": null,
   "metadata": {},
   "outputs": [],
   "source": [
    "completeList = []\n",
    "for i in range(len(df)):\n",
    "    moves = []\n",
    "    wmoves = df.loc[i,'WMoves']\n",
    "    bmoves = df.loc[i,'BMoves']\n",
    "    if len(wmoves) > len(bmoves):\n",
    "        for k in range(len(bmoves)):\n",
    "            moves.append(wmoves[k])\n",
    "            moves.append(bmoves[k])\n",
    "        #moves.append(wmoves[k+1])\n",
    "    elif len(wmoves) == len(bmoves):\n",
    "        for k in range(len(bmoves)):\n",
    "            moves.append(wmoves[k])\n",
    "            moves.append(bmoves[k])\n",
    "    else:\n",
    "        for k in range(len(wmoves)):\n",
    "            moves.append(wmoves[k])\n",
    "            moves.append(bmoves[k])\n",
    "        moves.append(bmoves[k+1])\n",
    "    completeList.append(moves)\n",
    "df['Moves'] = completeList"
   ]
  },
  {
   "cell_type": "code",
   "execution_count": null,
   "metadata": {},
   "outputs": [],
   "source": [
    "wscoreList = []\n",
    "bscoreList = []\n",
    "for i in range(len(df)):\n",
    "    w, b = calculateScore(df.loc[i, 'Moves'])\n",
    "    wscoreList.append(w)\n",
    "    bscoreList.append(b)\n",
    "    \n",
    "df['WScore'] = wscoreList\n",
    "df['BScore'] = bscoreList"
   ]
  },
  {
   "cell_type": "code",
   "execution_count": null,
   "metadata": {},
   "outputs": [],
   "source": [
    "df.head(1)"
   ]
  },
  {
   "cell_type": "markdown",
   "metadata": {},
   "source": [
    "## one hot encoding for `ECO` column"
   ]
  },
  {
   "cell_type": "code",
   "execution_count": null,
   "metadata": {},
   "outputs": [],
   "source": [
    "# Get one hot encoding of columns B\n",
    "one_hot = pd.get_dummies(df['ECO'])\n",
    "# Drop column B as it is now encoded\n",
    "df = df.drop('ECO',axis = 1)\n",
    "# Join the encoded df\n",
    "df = df.join(one_hot)"
   ]
  },
  {
   "cell_type": "code",
   "execution_count": null,
   "metadata": {},
   "outputs": [],
   "source": [
    "df.head(1)"
   ]
  },
  {
   "cell_type": "code",
   "execution_count": null,
   "metadata": {},
   "outputs": [],
   "source": [
    "df.to_csv(\"sample1.csv\")"
   ]
  },
  {
   "cell_type": "markdown",
   "metadata": {},
   "source": [
    "## Train test split"
   ]
  },
  {
   "cell_type": "code",
   "execution_count": 1,
   "metadata": {},
   "outputs": [],
   "source": [
    "from sklearn.model_selection import train_test_split\n",
    "from sklearn.linear_model import RANSACRegressor, Perceptron, RidgeCV, SGDRegressor, ElasticNetCV, LarsCV, LassoCV, LassoLarsCV, OrthogonalMatchingPursuitCV, BayesianRidge, ARDRegression, MultiTaskElasticNetCV, PoissonRegressor, TweedieRegressor, GammaRegressor, enet_path\n",
    "from sklearn.ensemble import AdaBoostRegressor\n",
    "from sklearn.neural_network import MLPRegressor\n",
    "from sklearn.metrics import mean_squared_error, r2_score\n",
    "# example of correlation feature selection for numerical data\n",
    "from sklearn.feature_selection import SelectKBest\n",
    "from sklearn.feature_selection import f_regression\n",
    "from matplotlib import pyplot\n",
    "from sklearn.ensemble import GradientBoostingRegressor\n",
    "from sklearn.linear_model import LinearRegression\n",
    "import matplotlib.pyplot as plt\n",
    "from sklearn.metrics import mean_absolute_error\n",
    "\n",
    "# other imports\n",
    "import pandas as pd\n",
    "import ast\n",
    "from collections import defaultdict as dd\n",
    "import regex as re\n",
    "import seaborn as sns\n",
    "import numpy as np\n",
    "import chess\n",
    "from itertools import chain\n"
   ]
  },
  {
   "cell_type": "code",
   "execution_count": 2,
   "metadata": {},
   "outputs": [
    {
     "name": "stderr",
     "output_type": "stream",
     "text": [
      "/home/student.unimelb.edu.au/jmohammed/.local/lib/python3.6/site-packages/IPython/core/interactiveshell.py:3072: DtypeWarning: Columns (3,6,8) have mixed types.Specify dtype option on import or set low_memory=False.\n",
      "  interactivity=interactivity, compiler=compiler, result=result)\n"
     ]
    }
   ],
   "source": [
    "df = pd.read_csv(\"sample1.csv\")"
   ]
  },
  {
   "cell_type": "code",
   "execution_count": 3,
   "metadata": {},
   "outputs": [
    {
     "data": {
      "text/html": [
       "<div>\n",
       "<style scoped>\n",
       "    .dataframe tbody tr th:only-of-type {\n",
       "        vertical-align: middle;\n",
       "    }\n",
       "\n",
       "    .dataframe tbody tr th {\n",
       "        vertical-align: top;\n",
       "    }\n",
       "\n",
       "    .dataframe thead th {\n",
       "        text-align: right;\n",
       "    }\n",
       "</style>\n",
       "<table border=\"1\" class=\"dataframe\">\n",
       "  <thead>\n",
       "    <tr style=\"text-align: right;\">\n",
       "      <th></th>\n",
       "      <th>Unnamed: 0</th>\n",
       "      <th>Event</th>\n",
       "      <th>Site</th>\n",
       "      <th>GameNumber</th>\n",
       "      <th>WName</th>\n",
       "      <th>BName</th>\n",
       "      <th>WElo</th>\n",
       "      <th>BElo</th>\n",
       "      <th>WRD</th>\n",
       "      <th>BRD</th>\n",
       "      <th>...</th>\n",
       "      <th>E88</th>\n",
       "      <th>E90</th>\n",
       "      <th>E91</th>\n",
       "      <th>E92</th>\n",
       "      <th>E93</th>\n",
       "      <th>E94</th>\n",
       "      <th>E95</th>\n",
       "      <th>E97</th>\n",
       "      <th>E98</th>\n",
       "      <th>E99</th>\n",
       "    </tr>\n",
       "  </thead>\n",
       "  <tbody>\n",
       "    <tr>\n",
       "      <th>0</th>\n",
       "      <td>0</td>\n",
       "      <td>FICS rated blitz game</td>\n",
       "      <td>FICS freechess.org</td>\n",
       "      <td>470452425</td>\n",
       "      <td>chesspickle</td>\n",
       "      <td>lawrencegern</td>\n",
       "      <td>1963</td>\n",
       "      <td>764</td>\n",
       "      <td>21.2</td>\n",
       "      <td>112.2</td>\n",
       "      <td>...</td>\n",
       "      <td>0</td>\n",
       "      <td>0</td>\n",
       "      <td>0</td>\n",
       "      <td>0</td>\n",
       "      <td>0</td>\n",
       "      <td>0</td>\n",
       "      <td>0</td>\n",
       "      <td>0</td>\n",
       "      <td>0</td>\n",
       "      <td>0</td>\n",
       "    </tr>\n",
       "    <tr>\n",
       "      <th>1</th>\n",
       "      <td>1</td>\n",
       "      <td>FICS rated blitz game</td>\n",
       "      <td>FICS freechess.org</td>\n",
       "      <td>470452424</td>\n",
       "      <td>ZoneBlindTal</td>\n",
       "      <td>AhNeow</td>\n",
       "      <td>1600</td>\n",
       "      <td>1487</td>\n",
       "      <td>36.6</td>\n",
       "      <td>28.5</td>\n",
       "      <td>...</td>\n",
       "      <td>0</td>\n",
       "      <td>0</td>\n",
       "      <td>0</td>\n",
       "      <td>0</td>\n",
       "      <td>0</td>\n",
       "      <td>0</td>\n",
       "      <td>0</td>\n",
       "      <td>0</td>\n",
       "      <td>0</td>\n",
       "      <td>0</td>\n",
       "    </tr>\n",
       "    <tr>\n",
       "      <th>2</th>\n",
       "      <td>2</td>\n",
       "      <td>FICS rated blitz game</td>\n",
       "      <td>FICS freechess.org</td>\n",
       "      <td>470452423</td>\n",
       "      <td>forlat</td>\n",
       "      <td>naraindra</td>\n",
       "      <td>1948</td>\n",
       "      <td>1089</td>\n",
       "      <td>15.3</td>\n",
       "      <td>30.7</td>\n",
       "      <td>...</td>\n",
       "      <td>0</td>\n",
       "      <td>0</td>\n",
       "      <td>0</td>\n",
       "      <td>0</td>\n",
       "      <td>0</td>\n",
       "      <td>0</td>\n",
       "      <td>0</td>\n",
       "      <td>0</td>\n",
       "      <td>0</td>\n",
       "      <td>0</td>\n",
       "    </tr>\n",
       "  </tbody>\n",
       "</table>\n",
       "<p>3 rows × 495 columns</p>\n",
       "</div>"
      ],
      "text/plain": [
       "   Unnamed: 0                  Event                Site GameNumber  \\\n",
       "0           0  FICS rated blitz game  FICS freechess.org  470452425   \n",
       "1           1  FICS rated blitz game  FICS freechess.org  470452424   \n",
       "2           2  FICS rated blitz game  FICS freechess.org  470452423   \n",
       "\n",
       "          WName         BName  WElo  BElo   WRD    BRD  ... E88 E90 E91 E92  \\\n",
       "0   chesspickle  lawrencegern  1963   764  21.2  112.2  ...   0   0   0   0   \n",
       "1  ZoneBlindTal        AhNeow  1600  1487  36.6   28.5  ...   0   0   0   0   \n",
       "2        forlat     naraindra  1948  1089  15.3   30.7  ...   0   0   0   0   \n",
       "\n",
       "  E93 E94 E95  E97 E98 E99  \n",
       "0   0   0   0    0   0   0  \n",
       "1   0   0   0    0   0   0  \n",
       "2   0   0   0    0   0   0  \n",
       "\n",
       "[3 rows x 495 columns]"
      ]
     },
     "execution_count": 3,
     "metadata": {},
     "output_type": "execute_result"
    }
   ],
   "source": [
    "df.head(3)"
   ]
  },
  {
   "cell_type": "code",
   "execution_count": 4,
   "metadata": {},
   "outputs": [],
   "source": [
    "WX = df[[\"PlyCount\",\"WResult\",\"BResult\",\"WConversions\",\"BConversions\",\"WCaptureMovesCount\",\"BCaptureMovesCount\",\"WOrdMovesCount\",\"BOrdMovesCount\",\"WPiecesCount\",\"BPiecesCount\",\"Rr\",\"Rn\",\"Rb\",\"Rq\",\"Rk\",\"Rp\",\"rR\",\"rN\",\"rB\",\"rQ\",\"rK\",\"rP\",\"Nr\",\"Nn\",\"Nb\",\"Nq\",\"Nk\",\"Np\",\"nR\",\"nN\",\"nB\",\"nQ\",\"nK\",\"nP\",\"Br\",\"Bn\",\"Bb\",\"Bq\",\"Bk\",\"Bp\",\"bR\",\"bN\",\"bB\",\"bQ\",\"bK\",\"bP\",\"Qr\",\"Qn\",\"Qb\",\"Qq\",\"Qk\",\"Qp\",\"qR\",\"qN\",\"qB\",\"qQ\",\"qK\",\"qP\",\"Kr\",\"Kn\",\"Kb\",\"Kq\",\"Kk\",\"Kp\",\"kR\",\"kN\",\"kB\",\"kQ\",\"kK\",\"kP\",\"Pr\",\"Pn\",\"Pb\",\"Pq\",\"Pk\",\"Pp\",\"pR\",\"pN\",\"pB\",\"pQ\",\"pK\",\"pP\",\"BCheck\",\"WCheck\",\"BChecked\",\"WChecked\",\"WScore\",\"BScore\",\"A00\",\"A01\",\"A02\",\"A03\",\"A04\",\"A05\",\"A06\",\"A07\",\"A08\",\"A09\",\"A10\",\"A11\",\"A12\",\"A13\",\"A14\",\"A15\",\"A16\",\"A17\",\"A18\",\"A19\",\"A20\",\"A21\",\"A22\",\"A23\",\"A24\",\"A25\",\"A26\",\"A27\",\"A28\",\"A29\",\"A30\",\"A31\",\"A32\",\"A33\",\"A34\",\"A35\",\"A36\",\"A37\",\"A38\",\"A39\",\"A40\",\"A41\",\"A42\",\"A43\",\"A44\",\"A45\",\"A46\",\"A47\",\"A48\",\"A49\",\"A50\",\"A51\",\"A52\",\"A53\",\"A54\",\"A55\",\"A56\",\"A57\",\"A58\",\"A59\",\"A60\",\"A65\",\"A68\",\"A69\",\"A70\",\"A72\",\"A80\",\"A81\",\"A82\",\"A83\",\"A84\",\"A85\",\"A86\",\"A87\",\"A89\",\"A90\",\"A91\",\"A92\",\"A95\",\"A96\",\"B00\",\"B01\",\"B02\",\"B03\",\"B04\",\"B05\",\"B06\",\"B07\",\"B08\",\"B09\",\"B10\",\"B11\",\"B12\",\"B13\",\"B14\",\"B15\",\"B16\",\"B17\",\"B18\",\"B19\",\"B20\",\"B21\",\"B22\",\"B23\",\"B24\",\"B25\",\"B26\",\"B27\",\"B28\",\"B29\",\"B30\",\"B31\",\"B32\",\"B33\",\"B34\",\"B35\",\"B36\",\"B38\",\"B40\",\"B41\",\"B42\",\"B43\",\"B44\",\"B45\",\"B46\",\"B47\",\"B49\",\"B50\",\"B51\",\"B52\",\"B53\",\"B54\",\"B56\",\"B57\",\"B58\",\"B60\",\"B62\",\"B63\",\"B70\",\"B71\",\"B72\",\"B73\",\"B74\",\"B75\",\"B76\",\"B77\",\"B78\",\"B80\",\"B81\",\"B82\",\"B83\",\"B84\",\"B86\",\"B87\",\"B88\",\"B90\",\"B92\",\"B94\",\"B95\",\"B96\",\"B97\",\"B98\",\"C00\",\"C01\",\"C02\",\"C03\",\"C05\",\"C06\",\"C07\",\"C10\",\"C11\",\"C12\",\"C13\",\"C14\",\"C15\",\"C16\",\"C17\",\"C18\",\"C19\",\"C20\",\"C21\",\"C22\",\"C23\",\"C24\",\"C25\",\"C26\",\"C27\",\"C28\",\"C29\",\"C30\",\"C31\",\"C32\",\"C33\",\"C34\",\"C35\",\"C36\",\"C37\",\"C38\",\"C39\",\"C40\",\"C41\",\"C42\",\"C43\",\"C44\",\"C45\",\"C46\",\"C47\",\"C48\",\"C49\",\"C50\",\"C51\",\"C52\",\"C53\",\"C54\",\"C55\",\"C56\",\"C57\",\"C58\",\"C60\",\"C61\",\"C62\",\"C63\",\"C64\",\"C65\",\"C66\",\"C67\",\"C68\",\"C69\",\"C70\",\"C71\",\"C74\",\"C75\",\"C77\",\"C78\",\"C79\",\"C80\",\"C82\",\"C84\",\"C87\",\"C88\",\"C89\",\"C91\",\"C92\",\"C93\",\"D00\",\"D01\",\"D02\",\"D03\",\"D04\",\"D05\",\"D06\",\"D07\",\"D08\",\"D09\",\"D10\",\"D11\",\"D12\",\"D13\",\"D14\",\"D15\",\"D16\",\"D17\",\"D18\",\"D20\",\"D21\",\"D22\",\"D23\",\"D24\",\"D25\",\"D26\",\"D28\",\"D29\",\"D30\",\"D31\",\"D32\",\"D33\",\"D34\",\"D35\",\"D36\",\"D37\",\"D38\",\"D40\",\"D41\",\"D43\",\"D44\",\"D45\",\"D46\",\"D47\",\"D48\",\"D50\",\"D51\",\"D52\",\"D53\",\"D55\",\"D56\",\"D57\",\"D58\",\"D60\",\"D61\",\"D63\",\"D66\",\"D67\",\"D70\",\"D73\",\"D77\",\"D78\",\"D79\",\"D80\",\"D82\",\"D85\",\"D87\",\"D90\",\"D91\",\"D92\",\"D93\",\"D94\",\"D96\",\"D97\",\"D98\",\"E00\",\"E01\",\"E04\",\"E05\",\"E06\",\"E07\",\"E09\",\"E10\",\"E11\",\"E12\",\"E13\",\"E14\",\"E15\",\"E16\",\"E17\",\"E18\",\"E19\",\"E20\",\"E21\",\"E22\",\"E23\",\"E24\",\"E27\",\"E30\",\"E32\",\"E34\",\"E36\",\"E38\",\"E39\",\"E40\",\"E42\",\"E43\",\"E46\",\"E48\",\"E56\",\"E60\",\"E61\",\"E62\",\"E65\",\"E66\",\"E67\",\"E70\",\"E71\",\"E72\",\"E73\",\"E76\",\"E77\",\"E80\",\"E81\",\"E82\",\"E83\",\"E85\",\"E86\",\"E87\",\"E88\",\"E90\",\"E91\",\"E92\",\"E93\",\"E94\",\"E95\",\"E97\",\"E98\",\"E99\"]]\n",
    "Wy = df[\"WElo\"]"
   ]
  },
  {
   "cell_type": "code",
   "execution_count": 5,
   "metadata": {},
   "outputs": [],
   "source": [
    "BX = df[[\"PlyCount\",\"WResult\",\"BResult\",\"WConversions\",\"BConversions\",\"WCaptureMovesCount\",\"BCaptureMovesCount\",\"WOrdMovesCount\",\"BOrdMovesCount\",\"WPiecesCount\",\"BPiecesCount\",\"Rr\",\"Rn\",\"Rb\",\"Rq\",\"Rk\",\"Rp\",\"rR\",\"rN\",\"rB\",\"rQ\",\"rK\",\"rP\",\"Nr\",\"Nn\",\"Nb\",\"Nq\",\"Nk\",\"Np\",\"nR\",\"nN\",\"nB\",\"nQ\",\"nK\",\"nP\",\"Br\",\"Bn\",\"Bb\",\"Bq\",\"Bk\",\"Bp\",\"bR\",\"bN\",\"bB\",\"bQ\",\"bK\",\"bP\",\"Qr\",\"Qn\",\"Qb\",\"Qq\",\"Qk\",\"Qp\",\"qR\",\"qN\",\"qB\",\"qQ\",\"qK\",\"qP\",\"Kr\",\"Kn\",\"Kb\",\"Kq\",\"Kk\",\"Kp\",\"kR\",\"kN\",\"kB\",\"kQ\",\"kK\",\"kP\",\"Pr\",\"Pn\",\"Pb\",\"Pq\",\"Pk\",\"Pp\",\"pR\",\"pN\",\"pB\",\"pQ\",\"pK\",\"pP\",\"BCheck\",\"WCheck\",\"BChecked\",\"WChecked\",\"WScore\",\"BScore\",\"A00\",\"A01\",\"A02\",\"A03\",\"A04\",\"A05\",\"A06\",\"A07\",\"A08\",\"A09\",\"A10\",\"A11\",\"A12\",\"A13\",\"A14\",\"A15\",\"A16\",\"A17\",\"A18\",\"A19\",\"A20\",\"A21\",\"A22\",\"A23\",\"A24\",\"A25\",\"A26\",\"A27\",\"A28\",\"A29\",\"A30\",\"A31\",\"A32\",\"A33\",\"A34\",\"A35\",\"A36\",\"A37\",\"A38\",\"A39\",\"A40\",\"A41\",\"A42\",\"A43\",\"A44\",\"A45\",\"A46\",\"A47\",\"A48\",\"A49\",\"A50\",\"A51\",\"A52\",\"A53\",\"A54\",\"A55\",\"A56\",\"A57\",\"A58\",\"A59\",\"A60\",\"A65\",\"A68\",\"A69\",\"A70\",\"A72\",\"A80\",\"A81\",\"A82\",\"A83\",\"A84\",\"A85\",\"A86\",\"A87\",\"A89\",\"A90\",\"A91\",\"A92\",\"A95\",\"A96\",\"B00\",\"B01\",\"B02\",\"B03\",\"B04\",\"B05\",\"B06\",\"B07\",\"B08\",\"B09\",\"B10\",\"B11\",\"B12\",\"B13\",\"B14\",\"B15\",\"B16\",\"B17\",\"B18\",\"B19\",\"B20\",\"B21\",\"B22\",\"B23\",\"B24\",\"B25\",\"B26\",\"B27\",\"B28\",\"B29\",\"B30\",\"B31\",\"B32\",\"B33\",\"B34\",\"B35\",\"B36\",\"B38\",\"B40\",\"B41\",\"B42\",\"B43\",\"B44\",\"B45\",\"B46\",\"B47\",\"B49\",\"B50\",\"B51\",\"B52\",\"B53\",\"B54\",\"B56\",\"B57\",\"B58\",\"B60\",\"B62\",\"B63\",\"B70\",\"B71\",\"B72\",\"B73\",\"B74\",\"B75\",\"B76\",\"B77\",\"B78\",\"B80\",\"B81\",\"B82\",\"B83\",\"B84\",\"B86\",\"B87\",\"B88\",\"B90\",\"B92\",\"B94\",\"B95\",\"B96\",\"B97\",\"B98\",\"C00\",\"C01\",\"C02\",\"C03\",\"C05\",\"C06\",\"C07\",\"C10\",\"C11\",\"C12\",\"C13\",\"C14\",\"C15\",\"C16\",\"C17\",\"C18\",\"C19\",\"C20\",\"C21\",\"C22\",\"C23\",\"C24\",\"C25\",\"C26\",\"C27\",\"C28\",\"C29\",\"C30\",\"C31\",\"C32\",\"C33\",\"C34\",\"C35\",\"C36\",\"C37\",\"C38\",\"C39\",\"C40\",\"C41\",\"C42\",\"C43\",\"C44\",\"C45\",\"C46\",\"C47\",\"C48\",\"C49\",\"C50\",\"C51\",\"C52\",\"C53\",\"C54\",\"C55\",\"C56\",\"C57\",\"C58\",\"C60\",\"C61\",\"C62\",\"C63\",\"C64\",\"C65\",\"C66\",\"C67\",\"C68\",\"C69\",\"C70\",\"C71\",\"C74\",\"C75\",\"C77\",\"C78\",\"C79\",\"C80\",\"C82\",\"C84\",\"C87\",\"C88\",\"C89\",\"C91\",\"C92\",\"C93\",\"D00\",\"D01\",\"D02\",\"D03\",\"D04\",\"D05\",\"D06\",\"D07\",\"D08\",\"D09\",\"D10\",\"D11\",\"D12\",\"D13\",\"D14\",\"D15\",\"D16\",\"D17\",\"D18\",\"D20\",\"D21\",\"D22\",\"D23\",\"D24\",\"D25\",\"D26\",\"D28\",\"D29\",\"D30\",\"D31\",\"D32\",\"D33\",\"D34\",\"D35\",\"D36\",\"D37\",\"D38\",\"D40\",\"D41\",\"D43\",\"D44\",\"D45\",\"D46\",\"D47\",\"D48\",\"D50\",\"D51\",\"D52\",\"D53\",\"D55\",\"D56\",\"D57\",\"D58\",\"D60\",\"D61\",\"D63\",\"D66\",\"D67\",\"D70\",\"D73\",\"D77\",\"D78\",\"D79\",\"D80\",\"D82\",\"D85\",\"D87\",\"D90\",\"D91\",\"D92\",\"D93\",\"D94\",\"D96\",\"D97\",\"D98\",\"E00\",\"E01\",\"E04\",\"E05\",\"E06\",\"E07\",\"E09\",\"E10\",\"E11\",\"E12\",\"E13\",\"E14\",\"E15\",\"E16\",\"E17\",\"E18\",\"E19\",\"E20\",\"E21\",\"E22\",\"E23\",\"E24\",\"E27\",\"E30\",\"E32\",\"E34\",\"E36\",\"E38\",\"E39\",\"E40\",\"E42\",\"E43\",\"E46\",\"E48\",\"E56\",\"E60\",\"E61\",\"E62\",\"E65\",\"E66\",\"E67\",\"E70\",\"E71\",\"E72\",\"E73\",\"E76\",\"E77\",\"E80\",\"E81\",\"E82\",\"E83\",\"E85\",\"E86\",\"E87\",\"E88\",\"E90\",\"E91\",\"E92\",\"E93\",\"E94\",\"E95\",\"E97\",\"E98\",\"E99\"]]\n",
    "By = df[\"BElo\"]"
   ]
  },
  {
   "cell_type": "code",
   "execution_count": 6,
   "metadata": {},
   "outputs": [],
   "source": [
    "train_wx, test_wx, train_wy, test_wy= train_test_split(WX, Wy)"
   ]
  },
  {
   "cell_type": "code",
   "execution_count": 7,
   "metadata": {},
   "outputs": [],
   "source": [
    "train_bx, test_bx, train_by, test_by= train_test_split(BX, By)"
   ]
  },
  {
   "cell_type": "markdown",
   "metadata": {},
   "source": [
    "# Model Building"
   ]
  },
  {
   "cell_type": "code",
   "execution_count": 8,
   "metadata": {},
   "outputs": [],
   "source": [
    "import warnings\n",
    "warnings.filterwarnings('ignore')"
   ]
  },
  {
   "cell_type": "code",
   "execution_count": 9,
   "metadata": {
    "scrolled": false
   },
   "outputs": [
    {
     "name": "stdout",
     "output_type": "stream",
     "text": [
      "Model, Training_r2, Training_mse, Training_mae, Testing_mse, Testing_mae\n",
      "LinearRegression 0.16823607296497145 43646.48059637183 162.44796863723678 211964323986807.25 351661.3221838385\n",
      "RidgeCV 0.16755517504255701 43682.2104434989 162.6981928192323 44633.47003639428 164.87649424001853\n",
      "ElasticNetCV 0.04343145085099909 50195.55340462985 175.98170743734173 50062.874136404986 176.45025938968604\n",
      "LarsCV 0.16096128769605833 44028.2220542086 163.5385189012548 44873.78533677448 165.51612089806005\n",
      "LassoCV 0.0860206629001482 47960.70147501537 172.18752876135179 48091.315432236755 172.69268980580546\n",
      "LassoLarsCV 0.15742694474652386 44213.68529197809 164.12396757705685 45000.82894214377 165.91664866255488\n",
      "OrthogonalMatchingPursuitCV 0.12126812921424379 46111.10472701328 168.1628840962205 46635.44645445542 169.01871839882386\n",
      "BayesianRidge 0.1622863391137096 43958.69050912721 163.42465612255234 44765.750284361755 165.19912050709212\n",
      "AdaBoostRegressor -0.04570845058192363 54873.134208264186 187.53492730704968 54799.00753417242 186.95324015288867\n",
      "ARDRegression 0.16276786951866307 43933.42239302691 163.34838454461539 44876.28983497129 165.48915778339077\n",
      "PoissonRegressor -2.220446049250313e-16 52474.60147972217 179.73970888216405 52397.06262713773 180.17645289961416\n",
      "TweedieRegressor 0.0451711793601175 50104.261844430956 175.81284970575314 49983.42967701479 176.29510700725203\n",
      "GammaRegressor 0.0 52474.60147972217 179.73970888216405 52397.06262713773 180.17645289961416\n",
      "GradientBoostingRegressor 0.1393026724874108 45164.74925588503 167.74080918135763 46148.62450651594 169.24728637479927\n"
     ]
    }
   ],
   "source": [
    "result = []\n",
    "print(\"Model, Training_r2, Training_mse, Training_mae, Testing_mse, Testing_mae\")\n",
    "models = [LinearRegression, RidgeCV, ElasticNetCV, LarsCV, LassoCV, LassoLarsCV, OrthogonalMatchingPursuitCV, BayesianRidge, AdaBoostRegressor, ARDRegression, PoissonRegressor, TweedieRegressor, GammaRegressor, GradientBoostingRegressor]\n",
    "for model in models:\n",
    "    cur_model = model()\n",
    "    cur_model.fit(train_bx, train_by)\n",
    "    r2 = cur_model.score(train_bx, train_by)\n",
    "    mse = mean_squared_error(train_by, cur_model.predict(train_bx))\n",
    "    mae = mean_absolute_error(train_by, cur_model.predict(train_bx))\n",
    "    tmse = mean_squared_error(test_by, cur_model.predict(test_bx))\n",
    "    tmae = mean_absolute_error(test_by, cur_model.predict(test_bx))\n",
    " \n",
    "    result.append(\n",
    "        {\n",
    "            'name': type(cur_model).__name__,\n",
    "            'training_r2': r2,\n",
    "            'training_mse': mse,\n",
    "            'training_mae': mae,\n",
    "            'testing_mse': tmse,\n",
    "            'testing_mae': tmae\n",
    "        })\n",
    "    \n",
    "    print(type(cur_model).__name__, r2, mse, mae, tmse, tmae)"
   ]
  },
  {
   "cell_type": "code",
   "execution_count": 10,
   "metadata": {},
   "outputs": [],
   "source": [
    "pd.set_option('display.float_format', lambda x: '%.3f' % x)"
   ]
  },
  {
   "cell_type": "code",
   "execution_count": 11,
   "metadata": {},
   "outputs": [],
   "source": [
    "results = pd.DataFrame(result)"
   ]
  },
  {
   "cell_type": "code",
   "execution_count": 12,
   "metadata": {},
   "outputs": [
    {
     "data": {
      "text/html": [
       "<div>\n",
       "<style scoped>\n",
       "    .dataframe tbody tr th:only-of-type {\n",
       "        vertical-align: middle;\n",
       "    }\n",
       "\n",
       "    .dataframe tbody tr th {\n",
       "        vertical-align: top;\n",
       "    }\n",
       "\n",
       "    .dataframe thead th {\n",
       "        text-align: right;\n",
       "    }\n",
       "</style>\n",
       "<table border=\"1\" class=\"dataframe\">\n",
       "  <thead>\n",
       "    <tr style=\"text-align: right;\">\n",
       "      <th></th>\n",
       "      <th>name</th>\n",
       "      <th>training_r2</th>\n",
       "      <th>training_mse</th>\n",
       "      <th>training_mae</th>\n",
       "      <th>testing_mse</th>\n",
       "      <th>testing_mae</th>\n",
       "    </tr>\n",
       "  </thead>\n",
       "  <tbody>\n",
       "    <tr>\n",
       "      <th>0</th>\n",
       "      <td>LinearRegression</td>\n",
       "      <td>0.168</td>\n",
       "      <td>43646.481</td>\n",
       "      <td>162.448</td>\n",
       "      <td>211964323986807.250</td>\n",
       "      <td>351661.322</td>\n",
       "    </tr>\n",
       "    <tr>\n",
       "      <th>1</th>\n",
       "      <td>RidgeCV</td>\n",
       "      <td>0.168</td>\n",
       "      <td>43682.210</td>\n",
       "      <td>162.698</td>\n",
       "      <td>44633.470</td>\n",
       "      <td>164.876</td>\n",
       "    </tr>\n",
       "    <tr>\n",
       "      <th>2</th>\n",
       "      <td>ElasticNetCV</td>\n",
       "      <td>0.043</td>\n",
       "      <td>50195.553</td>\n",
       "      <td>175.982</td>\n",
       "      <td>50062.874</td>\n",
       "      <td>176.450</td>\n",
       "    </tr>\n",
       "    <tr>\n",
       "      <th>3</th>\n",
       "      <td>LarsCV</td>\n",
       "      <td>0.161</td>\n",
       "      <td>44028.222</td>\n",
       "      <td>163.539</td>\n",
       "      <td>44873.785</td>\n",
       "      <td>165.516</td>\n",
       "    </tr>\n",
       "    <tr>\n",
       "      <th>4</th>\n",
       "      <td>LassoCV</td>\n",
       "      <td>0.086</td>\n",
       "      <td>47960.701</td>\n",
       "      <td>172.188</td>\n",
       "      <td>48091.315</td>\n",
       "      <td>172.693</td>\n",
       "    </tr>\n",
       "    <tr>\n",
       "      <th>5</th>\n",
       "      <td>LassoLarsCV</td>\n",
       "      <td>0.157</td>\n",
       "      <td>44213.685</td>\n",
       "      <td>164.124</td>\n",
       "      <td>45000.829</td>\n",
       "      <td>165.917</td>\n",
       "    </tr>\n",
       "    <tr>\n",
       "      <th>6</th>\n",
       "      <td>OrthogonalMatchingPursuitCV</td>\n",
       "      <td>0.121</td>\n",
       "      <td>46111.105</td>\n",
       "      <td>168.163</td>\n",
       "      <td>46635.446</td>\n",
       "      <td>169.019</td>\n",
       "    </tr>\n",
       "    <tr>\n",
       "      <th>7</th>\n",
       "      <td>BayesianRidge</td>\n",
       "      <td>0.162</td>\n",
       "      <td>43958.691</td>\n",
       "      <td>163.425</td>\n",
       "      <td>44765.750</td>\n",
       "      <td>165.199</td>\n",
       "    </tr>\n",
       "    <tr>\n",
       "      <th>8</th>\n",
       "      <td>AdaBoostRegressor</td>\n",
       "      <td>-0.046</td>\n",
       "      <td>54873.134</td>\n",
       "      <td>187.535</td>\n",
       "      <td>54799.008</td>\n",
       "      <td>186.953</td>\n",
       "    </tr>\n",
       "    <tr>\n",
       "      <th>9</th>\n",
       "      <td>ARDRegression</td>\n",
       "      <td>0.163</td>\n",
       "      <td>43933.422</td>\n",
       "      <td>163.348</td>\n",
       "      <td>44876.290</td>\n",
       "      <td>165.489</td>\n",
       "    </tr>\n",
       "    <tr>\n",
       "      <th>10</th>\n",
       "      <td>PoissonRegressor</td>\n",
       "      <td>-0.000</td>\n",
       "      <td>52474.601</td>\n",
       "      <td>179.740</td>\n",
       "      <td>52397.063</td>\n",
       "      <td>180.176</td>\n",
       "    </tr>\n",
       "    <tr>\n",
       "      <th>11</th>\n",
       "      <td>TweedieRegressor</td>\n",
       "      <td>0.045</td>\n",
       "      <td>50104.262</td>\n",
       "      <td>175.813</td>\n",
       "      <td>49983.430</td>\n",
       "      <td>176.295</td>\n",
       "    </tr>\n",
       "    <tr>\n",
       "      <th>12</th>\n",
       "      <td>GammaRegressor</td>\n",
       "      <td>0.000</td>\n",
       "      <td>52474.601</td>\n",
       "      <td>179.740</td>\n",
       "      <td>52397.063</td>\n",
       "      <td>180.176</td>\n",
       "    </tr>\n",
       "    <tr>\n",
       "      <th>13</th>\n",
       "      <td>GradientBoostingRegressor</td>\n",
       "      <td>0.139</td>\n",
       "      <td>45164.749</td>\n",
       "      <td>167.741</td>\n",
       "      <td>46148.625</td>\n",
       "      <td>169.247</td>\n",
       "    </tr>\n",
       "  </tbody>\n",
       "</table>\n",
       "</div>"
      ],
      "text/plain": [
       "                           name  training_r2  training_mse  training_mae  \\\n",
       "0              LinearRegression        0.168     43646.481       162.448   \n",
       "1                       RidgeCV        0.168     43682.210       162.698   \n",
       "2                  ElasticNetCV        0.043     50195.553       175.982   \n",
       "3                        LarsCV        0.161     44028.222       163.539   \n",
       "4                       LassoCV        0.086     47960.701       172.188   \n",
       "5                   LassoLarsCV        0.157     44213.685       164.124   \n",
       "6   OrthogonalMatchingPursuitCV        0.121     46111.105       168.163   \n",
       "7                 BayesianRidge        0.162     43958.691       163.425   \n",
       "8             AdaBoostRegressor       -0.046     54873.134       187.535   \n",
       "9                 ARDRegression        0.163     43933.422       163.348   \n",
       "10             PoissonRegressor       -0.000     52474.601       179.740   \n",
       "11             TweedieRegressor        0.045     50104.262       175.813   \n",
       "12               GammaRegressor        0.000     52474.601       179.740   \n",
       "13    GradientBoostingRegressor        0.139     45164.749       167.741   \n",
       "\n",
       "           testing_mse  testing_mae  \n",
       "0  211964323986807.250   351661.322  \n",
       "1            44633.470      164.876  \n",
       "2            50062.874      176.450  \n",
       "3            44873.785      165.516  \n",
       "4            48091.315      172.693  \n",
       "5            45000.829      165.917  \n",
       "6            46635.446      169.019  \n",
       "7            44765.750      165.199  \n",
       "8            54799.008      186.953  \n",
       "9            44876.290      165.489  \n",
       "10           52397.063      180.176  \n",
       "11           49983.430      176.295  \n",
       "12           52397.063      180.176  \n",
       "13           46148.625      169.247  "
      ]
     },
     "execution_count": 12,
     "metadata": {},
     "output_type": "execute_result"
    }
   ],
   "source": [
    "results"
   ]
  },
  {
   "cell_type": "markdown",
   "metadata": {},
   "source": [
    "$R^2$ values visualisation"
   ]
  },
  {
   "cell_type": "code",
   "execution_count": 36,
   "metadata": {},
   "outputs": [
    {
     "data": {
      "text/plain": [
       "Text(0.5, 1.0, 'Coefficeint of Determination->R^2')"
      ]
     },
     "execution_count": 36,
     "metadata": {},
     "output_type": "execute_result"
    },
    {
     "data": {
      "image/png": "[encoded data removed]",
      "text/plain": [
       "<Figure size 432x288 with 1 Axes>"
      ]
     },
     "metadata": {
      "needs_background": "light"
     },
     "output_type": "display_data"
    }
   ],
   "source": [
    "plt.plot( 'name', 'training_r2', data=results , color='skyblue')\n",
    "plt.xticks(rotation='vertical')\n",
    "plt.xlabel(\"Machine learner(Regressor)\")\n",
    "plt.ylabel(\"R_sqaured\")\n",
    "plt.title(\"Coefficeint of Determination->R^2\")"
   ]
  },
  {
   "cell_type": "markdown",
   "metadata": {},
   "source": [
    "Training MSE visualisation"
   ]
  },
  {
   "cell_type": "code",
   "execution_count": 37,
   "metadata": {
    "scrolled": true
   },
   "outputs": [
    {
     "data": {
      "text/plain": [
       "Text(0.5, 1.0, 'Mean Squared Error(MSE) for training dataset')"
      ]
     },
     "execution_count": 37,
     "metadata": {},
     "output_type": "execute_result"
    },
    {
     "data": {
      "image/png": "[encoded data removed]",
      "text/plain": [
       "<Figure size 432x288 with 1 Axes>"
      ]
     },
     "metadata": {
      "needs_background": "light"
     },
     "output_type": "display_data"
    }
   ],
   "source": [
    "plt.plot( 'name', 'training_mse', data=results, color='skyblue')\n",
    "plt.xticks(rotation='vertical')\n",
    "plt.xlabel(\"Machine learner(Regressor)\")\n",
    "plt.ylabel(\"MSE\")\n",
    "plt.title(\"Mean Squared Error(MSE) for training dataset\")"
   ]
  },
  {
   "cell_type": "code",
   "execution_count": 38,
   "metadata": {},
   "outputs": [
    {
     "data": {
      "text/plain": [
       "Text(0.5, 1.0, 'Mean Absoulte Error(MAE) for training dataset')"
      ]
     },
     "execution_count": 38,
     "metadata": {},
     "output_type": "execute_result"
    },
    {
     "data": {
      "image/png": "[encoded data removed]",
      "text/plain": [
       "<Figure size 432x288 with 1 Axes>"
      ]
     },
     "metadata": {
      "needs_background": "light"
     },
     "output_type": "display_data"
    }
   ],
   "source": [
    "plt.plot( 'name', 'training_mae', data=results, color='skyblue')\n",
    "plt.xticks(rotation='vertical')\n",
    "plt.xlabel(\"Machine learner(Regressor)\")\n",
    "plt.ylabel(\"MAE\")\n",
    "plt.title(\"Mean Absoulte Error(MAE) for training dataset\")"
   ]
  },
  {
   "cell_type": "markdown",
   "metadata": {},
   "source": [
    "Testing MSE "
   ]
  },
  {
   "cell_type": "code",
   "execution_count": 39,
   "metadata": {},
   "outputs": [
    {
     "data": {
      "text/plain": [
       "Text(0.5, 1.0, 'Mean squared error(MSE) for testing dataset')"
      ]
     },
     "execution_count": 39,
     "metadata": {},
     "output_type": "execute_result"
    },
    {
     "data": {
      "image/png": "[encoded data removed]",
      "text/plain": [
       "<Figure size 432x288 with 1 Axes>"
      ]
     },
     "metadata": {
      "needs_background": "light"
     },
     "output_type": "display_data"
    }
   ],
   "source": [
    "plt.plot( results['name'], results['testing_mse'], color='red')\n",
    "plt.xticks(rotation='vertical')\n",
    "plt.xlabel(\"Machine learner(Regressor)\")\n",
    "plt.ylabel(\"MSE\")\n",
    "plt.title(\"Mean squared error(MSE) for testing dataset\")"
   ]
  },
  {
   "cell_type": "code",
   "execution_count": 40,
   "metadata": {},
   "outputs": [
    {
     "data": {
      "text/plain": [
       "Text(0.5, 1.0, 'Mean squared error(MSE) for testing dataset (Linear Regression dropped)')"
      ]
     },
     "execution_count": 40,
     "metadata": {},
     "output_type": "execute_result"
    },
    {
     "data": {
      "image/png": "[encoded data removed]",
      "text/plain": [
       "<Figure size 432x288 with 1 Axes>"
      ]
     },
     "metadata": {
      "needs_background": "light"
     },
     "output_type": "display_data"
    }
   ],
   "source": [
    "plt.plot( 'name', 'testing_mse', data=results.nsmallest(13, \"testing_mse\"), color='red')\n",
    "plt.xticks(rotation='vertical')\n",
    "plt.xlabel(\"Machine learner(Regressor)\")\n",
    "plt.ylabel(\"MSE\")\n",
    "plt.title(\"Mean squared error(MSE) for testing dataset (Linear Regression dropped)\")"
   ]
  },
  {
   "cell_type": "markdown",
   "metadata": {},
   "source": [
    "### Testing MAE"
   ]
  },
  {
   "cell_type": "code",
   "execution_count": 46,
   "metadata": {},
   "outputs": [
    {
     "data": {
      "text/plain": [
       "Text(0.5, 1.0, 'Mean absolute error(MAE) for testing data')"
      ]
     },
     "execution_count": 46,
     "metadata": {},
     "output_type": "execute_result"
    },
    {
     "data": {
      "image/png": "[encoded data removed]",
      "text/plain": [
       "<Figure size 432x288 with 1 Axes>"
      ]
     },
     "metadata": {
      "needs_background": "light"
     },
     "output_type": "display_data"
    }
   ],
   "source": [
    "plt.plot( 'name', 'testing_mae', data=results, color='orange')\n",
    "plt.xticks(rotation='vertical')\n",
    "plt.xlabel(\"Machine learner(Regressor)\")\n",
    "plt.ylabel(\"MAE\")\n",
    "plt.title(\"Mean absolute error(MAE) for testing dataset\")"
   ]
  },
  {
   "cell_type": "code",
   "execution_count": 82,
   "metadata": {},
   "outputs": [
    {
     "data": {
      "text/plain": [
       "Text(0.5, 1.0, 'Mean absolute error(MAE) for testing dataset (Linear Regression dropped)')"
      ]
     },
     "execution_count": 82,
     "metadata": {},
     "output_type": "execute_result"
    },
    {
     "data": {
      "image/png": "[encoded data removed]",
      "text/plain": [
       "<Figure size 432x288 with 1 Axes>"
      ]
     },
     "metadata": {
      "needs_background": "light"
     },
     "output_type": "display_data"
    }
   ],
   "source": [
    "plt.plot( 'name', 'testing_mae', data=results.nsmallest(13, \"testing_mae\"), color='orange')\n",
    "plt.xticks(rotation='vertical')\n",
    "plt.xlabel(\"Machine learner(Regressor)\")\n",
    "plt.ylabel(\"MAE\")\n",
    "plt.title(\"Mean absolute error(MAE) for testing dataset (Linear Regression dropped)\")"
   ]
  },
  {
   "cell_type": "markdown",
   "metadata": {},
   "source": [
    "#### Hyperparameter $\\alpha$ tuning \n",
    "https://scipy-lectures.org/packages/scikit-learn/auto_examples/plot_linear_model_cv.html\n",
    "\n",
    "https://stackoverflow.com/questions/43374920/how-to-automatically-annotate-maximum-value-in-pyplot"
   ]
  },
  {
   "cell_type": "code",
   "execution_count": null,
   "metadata": {},
   "outputs": [],
   "source": [
    "from sklearn.model_selection import cross_val_score\n",
    "from sklearn.linear_model import Ridge, Lasso\n",
    "\n",
    "\n",
    "alphas = np.logspace(-3, 1, 30)\n",
    "\n",
    "scores = []\n",
    "for Model in [Ridge]:\n",
    "    scores = [cross_val_score(Model(alpha), train_bx, train_by, cv=10).mean()\n",
    "            for alpha in alphas]\n",
    "    plt.plot(alphas, scores, label=Model.__name__)\n",
    "\n",
    "plt.legend(loc='lower left')\n",
    "plt.xlabel('alpha')\n",
    "plt.ylabel('cross validation r^2 score')\n",
    "plt.title(\"Hyperparameter tuning- Cross validation score\")\n",
    "\n",
    "x = np.array(alphas)\n",
    "y = np.array(scores)\n",
    "xmax = x[np.argmax(y)]\n",
    "ymax = y.max()\n",
    "text= \"x={:.3f}, y={:.3f}\".format(xmax, ymax)\n",
    "bbox_props = dict(boxstyle=\"square,pad=0.3\", fc=\"w\", ec=\"k\", lw=0.72)\n",
    "arrowprops=dict(arrowstyle=\"->\",connectionstyle=\"angle,angleA=0,angleB=60\")\n",
    "kw = dict(xycoords='data',textcoords=\"axes fraction\", arrowprops=arrowprops, bbox=bbox_props, ha=\"right\", va=\"top\")\n",
    "plt.annotate(text, xy=(xmax, ymax), xytext=(0.94,0.96), **kw)\n",
    "plt.show()"
   ]
  },
  {
   "cell_type": "markdown",
   "metadata": {},
   "source": [
    "## Ridge"
   ]
  },
  {
   "cell_type": "code",
   "execution_count": 108,
   "metadata": {
    "scrolled": true
   },
   "outputs": [
    {
     "data": {
      "text/plain": [
       "RidgeCV(alphas=array([0.5, 0.6, 0.7, 0.8, 0.9, 1. , 1.1, 1.2, 1.3, 1.4, 1.5, 1.6, 1.7,\n",
       "       1.8, 1.9, 2. , 2.1, 2.2, 2.3, 2.4, 2.5, 2.6, 2.7, 2.8, 2.9, 3. ,\n",
       "       3.1, 3.2, 3.3, 3.4]),\n",
       "        store_cv_values=True)"
      ]
     },
     "execution_count": 108,
     "metadata": {},
     "output_type": "execute_result"
    }
   ],
   "source": [
    "from sklearn.linear_model import RidgeCV\n",
    "rid = RidgeCV(alphas=np.arange(0.5, 3.5, 0.1).tolist(), store_cv_values=True)\n",
    "rid.fit(train_bx, train_by)"
   ]
  },
  {
   "cell_type": "code",
   "execution_count": 109,
   "metadata": {
    "scrolled": false
   },
   "outputs": [
    {
     "data": {
      "text/plain": [
       "1.5999999999999996"
      ]
     },
     "execution_count": 109,
     "metadata": {},
     "output_type": "execute_result"
    }
   ],
   "source": [
    "rid.alpha_"
   ]
  },
  {
   "cell_type": "code",
   "execution_count": 73,
   "metadata": {},
   "outputs": [
    {
     "data": {
      "text/plain": [
       "29445"
      ]
     },
     "execution_count": 73,
     "metadata": {},
     "output_type": "execute_result"
    }
   ],
   "source": [
    "len(train_bx)"
   ]
  },
  {
   "cell_type": "markdown",
   "metadata": {},
   "source": [
    "$R^2$"
   ]
  },
  {
   "cell_type": "code",
   "execution_count": null,
   "metadata": {},
   "outputs": [],
   "source": [
    "rid.score(train_bx, train_by)"
   ]
  },
  {
   "cell_type": "code",
   "execution_count": null,
   "metadata": {
    "scrolled": true
   },
   "outputs": [],
   "source": [
    "coefs = pd.Series(rid.coef_, index = train_bx.columns)"
   ]
  },
  {
   "cell_type": "markdown",
   "metadata": {},
   "source": [
    "#### Training scores"
   ]
  },
  {
   "cell_type": "markdown",
   "metadata": {},
   "source": [
    "MSE"
   ]
  },
  {
   "cell_type": "code",
   "execution_count": null,
   "metadata": {
    "scrolled": false
   },
   "outputs": [],
   "source": [
    "print(format(mean_squared_error(train_by,rid.predict(train_bx)), '.8f'))"
   ]
  },
  {
   "cell_type": "markdown",
   "metadata": {},
   "source": [
    "MAE"
   ]
  },
  {
   "cell_type": "code",
   "execution_count": null,
   "metadata": {
    "scrolled": true
   },
   "outputs": [],
   "source": [
    "mean_absolute_error(train_by, rid.predict(train_bx))"
   ]
  },
  {
   "cell_type": "markdown",
   "metadata": {},
   "source": [
    "#### Test scores"
   ]
  },
  {
   "cell_type": "markdown",
   "metadata": {},
   "source": [
    "MSE"
   ]
  },
  {
   "cell_type": "code",
   "execution_count": null,
   "metadata": {},
   "outputs": [],
   "source": [
    "print(format(mean_squared_error(test_by, rid.predict(test_bx)), '.8f'))"
   ]
  },
  {
   "cell_type": "markdown",
   "metadata": {},
   "source": [
    "MAE"
   ]
  },
  {
   "cell_type": "code",
   "execution_count": null,
   "metadata": {
    "scrolled": true
   },
   "outputs": [],
   "source": [
    "mean_absolute_error(test_by, rid.predict(test_bx))"
   ]
  }
 ],
 "metadata": {
  "kernelspec": {
   "display_name": "Python 3",
   "language": "python",
   "name": "python3"
  },
  "language_info": {
   "codemirror_mode": {
    "name": "ipython",
    "version": 3
   },
   "file_extension": ".py",
   "mimetype": "text/x-python",
   "name": "python",
   "nbconvert_exporter": "python",
   "pygments_lexer": "ipython3",
   "version": "3.6.9"
  }
 },
 "nbformat": 4,
 "nbformat_minor": 4
}
