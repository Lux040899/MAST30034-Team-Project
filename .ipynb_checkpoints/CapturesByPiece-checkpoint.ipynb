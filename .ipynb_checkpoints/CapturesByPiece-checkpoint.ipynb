{
 "cells": [
  {
   "cell_type": "code",
   "execution_count": 8,
   "metadata": {},
   "outputs": [
    {
     "data": {
      "application/javascript": [
       "IPython.notebook.set_autosave_interval(60000)"
      ]
     },
     "metadata": {},
     "output_type": "display_data"
    },
    {
     "name": "stdout",
     "output_type": "stream",
     "text": [
      "Autosaving every 60 seconds\n"
     ]
    }
   ],
   "source": [
    "%autosave 60"
   ]
  },
  {
   "cell_type": "code",
   "execution_count": 1,
   "metadata": {},
   "outputs": [],
   "source": [
    "import pandas as pd\n",
    "import chess \n",
    "from itertools import chain\n",
    "import seaborn as sns\n",
    "import matplotlib.pyplot as plt"
   ]
  },
  {
   "cell_type": "code",
   "execution_count": 2,
   "metadata": {},
   "outputs": [
    {
     "name": "stderr",
     "output_type": "stream",
     "text": [
      "/home/student.unimelb.edu.au/jmohammed/.local/lib/python3.6/site-packages/IPython/core/interactiveshell.py:3072: DtypeWarning: Columns (3,6,8) have mixed types.Specify dtype option on import or set low_memory=False.\n",
      "  interactivity=interactivity, compiler=compiler, result=result)\n"
     ]
    }
   ],
   "source": [
    "df = pd.read_csv(\"sample.csv\")"
   ]
  },
  {
   "cell_type": "markdown",
   "metadata": {},
   "source": [
    "## CapturesByPiece\n",
    "function takes as argument the pandas dataframe and returns the pandas dataframe with capture count for pair of pieces\n",
    "\n",
    "In the output "
   ]
  },
  {
   "cell_type": "code",
   "execution_count": 3,
   "metadata": {},
   "outputs": [
    {
     "data": {
      "text/plain": [
       "'♖'"
      ]
     },
     "execution_count": 3,
     "metadata": {},
     "output_type": "execute_result"
    }
   ],
   "source": [
    "chess.UNICODE_PIECE_SYMBOLS[\"R\"]"
   ]
  },
  {
   "cell_type": "code",
   "execution_count": 4,
   "metadata": {},
   "outputs": [],
   "source": [
    "def capturesByPiece(df):\n",
    "    # Dict of dict to store the count of captures made by a piece\n",
    "\n",
    "    captureCount = dict()\n",
    "    for attacker in chess.UNICODE_PIECE_SYMBOLS.keys():\n",
    "        captureCount[attacker] = dict()\n",
    "        for captured in chess.UNICODE_PIECE_SYMBOLS.keys():\n",
    "            captureCount[attacker][captured] = 0\n",
    "    \n",
    "  \n",
    "            \n",
    "    for index, row in df.iterrows():\n",
    "        WMoves = eval(row[\"WMoves\"])\n",
    "        BMoves = eval(row[\"BMoves\"])\n",
    "\n",
    "        board = chess.Board()\n",
    "\n",
    "        # zipping all the moves and merging into one list \n",
    "        allMoves = zip(WMoves, BMoves)\n",
    "        zippedMoves = list(chain.from_iterable(allMoves))\n",
    "\n",
    "        for move in zippedMoves:\n",
    "            if board.is_capture(board.parse_san(move)):\n",
    "                moveInUCI = board.uci(board.parse_san(move))\n",
    "#                 print(\"move:\",move)\n",
    "                attackerPosition, capturedPosition = moveInUCI[:2], moveInUCI[2:4]\n",
    "#                 print(\"ap,cp:\"+attackerPosition, capturedPosition)\n",
    "                attacker = board.piece_at(chess.SQUARE_NAMES.index(attackerPosition))\n",
    "                captured = board.piece_at(chess.SQUARE_NAMES.index(capturedPosition))\n",
    "#                 print(\"a,c:\",attacker,captured)\n",
    "                \n",
    "                if (str(attacker) in captureCount.keys()) and (str(captured) in captureCount.keys()):\n",
    "                    captureCount[str(attacker)][str(captured)] += 1\n",
    "        \n",
    "            board.push_san(move)\n",
    "        \n",
    "#         print()\n",
    "\n",
    "    return  pd.DataFrame(captureCount)\n"
   ]
  },
  {
   "cell_type": "code",
   "execution_count": 5,
   "metadata": {
    "scrolled": false
   },
   "outputs": [
    {
     "name": "stdout",
     "output_type": "stream",
     "text": [
      "CPU times: user 3.18 s, sys: 2.95 ms, total: 3.19 s\n",
      "Wall time: 3.19 s\n"
     ]
    },
    {
     "data": {
      "text/html": [
       "<div>\n",
       "<style scoped>\n",
       "    .dataframe tbody tr th:only-of-type {\n",
       "        vertical-align: middle;\n",
       "    }\n",
       "\n",
       "    .dataframe tbody tr th {\n",
       "        vertical-align: top;\n",
       "    }\n",
       "\n",
       "    .dataframe thead th {\n",
       "        text-align: right;\n",
       "    }\n",
       "</style>\n",
       "<table border=\"1\" class=\"dataframe\">\n",
       "  <thead>\n",
       "    <tr style=\"text-align: right;\">\n",
       "      <th></th>\n",
       "      <th>♖</th>\n",
       "      <th>♜</th>\n",
       "      <th>♘</th>\n",
       "      <th>♞</th>\n",
       "      <th>♗</th>\n",
       "      <th>♝</th>\n",
       "      <th>♕</th>\n",
       "      <th>♛</th>\n",
       "      <th>♔</th>\n",
       "      <th>♚</th>\n",
       "      <th>♙</th>\n",
       "      <th>♟</th>\n",
       "    </tr>\n",
       "  </thead>\n",
       "  <tbody>\n",
       "    <tr>\n",
       "      <th>♖</th>\n",
       "      <td>0</td>\n",
       "      <td>413</td>\n",
       "      <td>0</td>\n",
       "      <td>89</td>\n",
       "      <td>0</td>\n",
       "      <td>103</td>\n",
       "      <td>0</td>\n",
       "      <td>136</td>\n",
       "      <td>0</td>\n",
       "      <td>66</td>\n",
       "      <td>0</td>\n",
       "      <td>58</td>\n",
       "    </tr>\n",
       "    <tr>\n",
       "      <th>♜</th>\n",
       "      <td>417</td>\n",
       "      <td>0</td>\n",
       "      <td>95</td>\n",
       "      <td>0</td>\n",
       "      <td>114</td>\n",
       "      <td>0</td>\n",
       "      <td>97</td>\n",
       "      <td>0</td>\n",
       "      <td>63</td>\n",
       "      <td>0</td>\n",
       "      <td>46</td>\n",
       "      <td>0</td>\n",
       "    </tr>\n",
       "    <tr>\n",
       "      <th>♘</th>\n",
       "      <td>0</td>\n",
       "      <td>135</td>\n",
       "      <td>0</td>\n",
       "      <td>364</td>\n",
       "      <td>0</td>\n",
       "      <td>464</td>\n",
       "      <td>0</td>\n",
       "      <td>159</td>\n",
       "      <td>0</td>\n",
       "      <td>45</td>\n",
       "      <td>0</td>\n",
       "      <td>308</td>\n",
       "    </tr>\n",
       "    <tr>\n",
       "      <th>♞</th>\n",
       "      <td>143</td>\n",
       "      <td>0</td>\n",
       "      <td>343</td>\n",
       "      <td>0</td>\n",
       "      <td>476</td>\n",
       "      <td>0</td>\n",
       "      <td>172</td>\n",
       "      <td>0</td>\n",
       "      <td>44</td>\n",
       "      <td>0</td>\n",
       "      <td>286</td>\n",
       "      <td>0</td>\n",
       "    </tr>\n",
       "    <tr>\n",
       "      <th>♗</th>\n",
       "      <td>0</td>\n",
       "      <td>162</td>\n",
       "      <td>0</td>\n",
       "      <td>264</td>\n",
       "      <td>0</td>\n",
       "      <td>329</td>\n",
       "      <td>0</td>\n",
       "      <td>192</td>\n",
       "      <td>0</td>\n",
       "      <td>78</td>\n",
       "      <td>0</td>\n",
       "      <td>273</td>\n",
       "    </tr>\n",
       "    <tr>\n",
       "      <th>♝</th>\n",
       "      <td>142</td>\n",
       "      <td>0</td>\n",
       "      <td>263</td>\n",
       "      <td>0</td>\n",
       "      <td>349</td>\n",
       "      <td>0</td>\n",
       "      <td>214</td>\n",
       "      <td>0</td>\n",
       "      <td>72</td>\n",
       "      <td>0</td>\n",
       "      <td>256</td>\n",
       "      <td>0</td>\n",
       "    </tr>\n",
       "    <tr>\n",
       "      <th>♕</th>\n",
       "      <td>0</td>\n",
       "      <td>94</td>\n",
       "      <td>0</td>\n",
       "      <td>69</td>\n",
       "      <td>0</td>\n",
       "      <td>43</td>\n",
       "      <td>0</td>\n",
       "      <td>235</td>\n",
       "      <td>0</td>\n",
       "      <td>31</td>\n",
       "      <td>0</td>\n",
       "      <td>62</td>\n",
       "    </tr>\n",
       "    <tr>\n",
       "      <th>♛</th>\n",
       "      <td>102</td>\n",
       "      <td>0</td>\n",
       "      <td>61</td>\n",
       "      <td>0</td>\n",
       "      <td>49</td>\n",
       "      <td>0</td>\n",
       "      <td>203</td>\n",
       "      <td>0</td>\n",
       "      <td>32</td>\n",
       "      <td>0</td>\n",
       "      <td>60</td>\n",
       "      <td>0</td>\n",
       "    </tr>\n",
       "    <tr>\n",
       "      <th>♔</th>\n",
       "      <td>0</td>\n",
       "      <td>0</td>\n",
       "      <td>0</td>\n",
       "      <td>0</td>\n",
       "      <td>0</td>\n",
       "      <td>0</td>\n",
       "      <td>0</td>\n",
       "      <td>0</td>\n",
       "      <td>0</td>\n",
       "      <td>0</td>\n",
       "      <td>0</td>\n",
       "      <td>0</td>\n",
       "    </tr>\n",
       "    <tr>\n",
       "      <th>♚</th>\n",
       "      <td>0</td>\n",
       "      <td>0</td>\n",
       "      <td>0</td>\n",
       "      <td>0</td>\n",
       "      <td>0</td>\n",
       "      <td>0</td>\n",
       "      <td>0</td>\n",
       "      <td>0</td>\n",
       "      <td>0</td>\n",
       "      <td>0</td>\n",
       "      <td>0</td>\n",
       "      <td>0</td>\n",
       "    </tr>\n",
       "    <tr>\n",
       "      <th>♙</th>\n",
       "      <td>0</td>\n",
       "      <td>408</td>\n",
       "      <td>0</td>\n",
       "      <td>472</td>\n",
       "      <td>0</td>\n",
       "      <td>445</td>\n",
       "      <td>0</td>\n",
       "      <td>529</td>\n",
       "      <td>0</td>\n",
       "      <td>131</td>\n",
       "      <td>0</td>\n",
       "      <td>1548</td>\n",
       "    </tr>\n",
       "    <tr>\n",
       "      <th>♟</th>\n",
       "      <td>410</td>\n",
       "      <td>0</td>\n",
       "      <td>565</td>\n",
       "      <td>0</td>\n",
       "      <td>454</td>\n",
       "      <td>0</td>\n",
       "      <td>380</td>\n",
       "      <td>0</td>\n",
       "      <td>132</td>\n",
       "      <td>0</td>\n",
       "      <td>1385</td>\n",
       "      <td>0</td>\n",
       "    </tr>\n",
       "  </tbody>\n",
       "</table>\n",
       "</div>"
      ],
      "text/plain": [
       "     ♖    ♜    ♘    ♞    ♗    ♝    ♕    ♛    ♔    ♚     ♙     ♟\n",
       "♖    0  413    0   89    0  103    0  136    0   66     0    58\n",
       "♜  417    0   95    0  114    0   97    0   63    0    46     0\n",
       "♘    0  135    0  364    0  464    0  159    0   45     0   308\n",
       "♞  143    0  343    0  476    0  172    0   44    0   286     0\n",
       "♗    0  162    0  264    0  329    0  192    0   78     0   273\n",
       "♝  142    0  263    0  349    0  214    0   72    0   256     0\n",
       "♕    0   94    0   69    0   43    0  235    0   31     0    62\n",
       "♛  102    0   61    0   49    0  203    0   32    0    60     0\n",
       "♔    0    0    0    0    0    0    0    0    0    0     0     0\n",
       "♚    0    0    0    0    0    0    0    0    0    0     0     0\n",
       "♙    0  408    0  472    0  445    0  529    0  131     0  1548\n",
       "♟  410    0  565    0  454    0  380    0  132    0  1385     0"
      ]
     },
     "execution_count": 5,
     "metadata": {},
     "output_type": "execute_result"
    }
   ],
   "source": [
    "%%time\n",
    "capture_count = capturesByPiece(df.head(1000))\n",
    "capture_count.rename(columns = chess.UNICODE_PIECE_SYMBOLS, index =  chess.UNICODE_PIECE_SYMBOLS, inplace = True) \n",
    "capture_count"
   ]
  },
  {
   "cell_type": "code",
   "execution_count": 6,
   "metadata": {},
   "outputs": [
    {
     "data": {
      "text/plain": [
       "<AxesSubplot:>"
      ]
     },
     "execution_count": 6,
     "metadata": {},
     "output_type": "execute_result"
    },
    {
     "data": {
      "image/png": "[encoded data removed]",
      "text/plain": [
       "<Figure size 432x288 with 2 Axes>"
      ]
     },
     "metadata": {
      "needs_background": "light"
     },
     "output_type": "display_data"
    }
   ],
   "source": [
    "sns.heatmap(capture_count, cmap=\"YlGnBu\")"
   ]
  },
  {
   "cell_type": "code",
   "execution_count": null,
   "metadata": {},
   "outputs": [],
   "source": []
  },
  {
   "cell_type": "code",
   "execution_count": null,
   "metadata": {},
   "outputs": [],
   "source": []
  },
  {
   "cell_type": "code",
   "execution_count": null,
   "metadata": {},
   "outputs": [],
   "source": []
  },
  {
   "cell_type": "code",
   "execution_count": null,
   "metadata": {},
   "outputs": [],
   "source": []
  },
  {
   "cell_type": "code",
   "execution_count": null,
   "metadata": {},
   "outputs": [],
   "source": []
  },
  {
   "cell_type": "code",
   "execution_count": null,
   "metadata": {},
   "outputs": [],
   "source": []
  },
  {
   "cell_type": "code",
   "execution_count": null,
   "metadata": {},
   "outputs": [],
   "source": []
  },
  {
   "cell_type": "code",
   "execution_count": null,
   "metadata": {},
   "outputs": [],
   "source": []
  },
  {
   "cell_type": "code",
   "execution_count": null,
   "metadata": {},
   "outputs": [],
   "source": []
  },
  {
   "cell_type": "code",
   "execution_count": null,
   "metadata": {},
   "outputs": [],
   "source": []
  },
  {
   "cell_type": "code",
   "execution_count": null,
   "metadata": {},
   "outputs": [],
   "source": []
  },
  {
   "cell_type": "code",
   "execution_count": null,
   "metadata": {},
   "outputs": [],
   "source": []
  }
 ],
 "metadata": {
  "kernelspec": {
   "display_name": "Python 3",
   "language": "python",
   "name": "python3"
  },
  "language_info": {
   "codemirror_mode": {
    "name": "ipython",
    "version": 3
   },
   "file_extension": ".py",
   "mimetype": "text/x-python",
   "name": "python",
   "nbconvert_exporter": "python",
   "pygments_lexer": "ipython3",
   "version": "3.6.9"
  }
 },
 "nbformat": 4,
 "nbformat_minor": 4
}
