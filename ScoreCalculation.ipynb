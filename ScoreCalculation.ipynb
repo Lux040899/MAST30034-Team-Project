{
 "cells": [
  {
   "cell_type": "code",
   "execution_count": null,
   "metadata": {},
   "outputs": [],
   "source": [
    "InitialBoardW = [Pa2, Pb2, Pc2, Pd2, Pe2, Pf2, Pg2, Ph2, Ra1, Nb1, Bc1, Qd1, Ke1, Bf1, Ng1, Rh1]\n",
    "InitialBoardB = [Pa7, Pb7, Pc7, Pd7, Pe7, Pf7, Pg7, Ph7, Ra8, Nb8, Bc8, Qd8, Ke8, Bf8, Ng8, Rh8]\n",
    "\n",
    "PieceVal = {'P': 1, 'N': 3, 'B': 3, 'R': 5, 'Q': 9}\n",
    "\n",
    "def calculateScore(movesList, numOfMoves):\n",
    "    scoreW = scoreB = 39                                                                                                                           \n",
    "    for i in range(numOfMoves*2):\n",
    "        if 'x' in moveList[i]:       \n",
    "            posIndex = movesList[i].index('x') + 1\n",
    "            position = movesList[i][posIndex:]\n",
    "            j = i-1     \n",
    "            while j >= 0:\n",
    "                if position in movesList[j]:\n",
    "                    if position[0] == movesList[j][0]:\n",
    "                        if j%2 == 1:\n",
    "                            scoreB -= 1\n",
    "                        else:\n",
    "                            scoreW -= 1\n",
    "                            \n",
    "                    else:\n",
    "                        if j%2 == 1:\n",
    "                            scoreB -= PieceVal[movesList[j][0]]\n",
    "                        else:\n",
    "                            scoreW -= PieceVal[movesList[j][0]]\n",
    "                \n",
    "                j--\n",
    "                \n",
    "            if i%2 == 0:\n",
    "                for piece in InitialBoardB:\n",
    "                    if position in piece:\n",
    "                        scoreB -= PieceVal[piece[0]]\n",
    "            else:\n",
    "                for piece in InitialBoardW:\n",
    "                    if position in piece:\n",
    "                        scoreW -= PieceVal[piece[0]]        \n",
    "        \n",
    "        \n",
    "        "
   ]
  },
  {
   "cell_type": "code",
   "execution_count": 10,
   "metadata": {},
   "outputs": [
    {
     "data": {
      "text/plain": [
       "1"
      ]
     },
     "execution_count": 10,
     "metadata": {},
     "output_type": "execute_result"
    }
   ],
   "source": []
  }
 ],
 "metadata": {
  "kernelspec": {
   "display_name": "Python 3",
   "language": "python",
   "name": "python3"
  },
  "language_info": {
   "codemirror_mode": {
    "name": "ipython",
    "version": 3
   },
   "file_extension": ".py",
   "mimetype": "text/x-python",
   "name": "python",
   "nbconvert_exporter": "python",
   "pygments_lexer": "ipython3",
   "version": "3.8.3"
  }
 },
 "nbformat": 4,
 "nbformat_minor": 4
}
