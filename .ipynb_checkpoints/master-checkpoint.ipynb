{
 "cells": [
  {
   "cell_type": "code",
   "execution_count": null,
   "metadata": {},
   "outputs": [],
   "source": [
    "!pip install python-chess"
   ]
  },
  {
   "cell_type": "code",
<<<<<<< HEAD
   "execution_count": 1,
=======
   "execution_count": 24,
>>>>>>> eea255bef6a1b44527b3050d98af882562915957
   "metadata": {},
   "outputs": [],
   "source": [
    "import pandas as pd\n",
    "import ast\n",
    "from collections import defaultdict as dd\n",
    "import regex as re\n",
    "import seaborn as sns\n",
    "import numpy as np\n",
    "import chess\n",
    "from itertools import chain"
   ]
  },
  {
   "cell_type": "markdown",
   "metadata": {},
   "source": [
    "# Descriptive Analytics"
   ]
  },
  {
   "cell_type": "code",
<<<<<<< HEAD
   "execution_count": 7,
=======
   "execution_count": 8,
>>>>>>> eea255bef6a1b44527b3050d98af882562915957
   "metadata": {},
   "outputs": [
    {
     "name": "stderr",
     "output_type": "stream",
     "text": [
      "/home/student.unimelb.edu.au/jmohammed/.local/lib/python3.6/site-packages/IPython/core/interactiveshell.py:3072: DtypeWarning: Columns (3,6,8) have mixed types.Specify dtype option on import or set low_memory=False.\n",
      "  interactivity=interactivity, compiler=compiler, result=result)\n"
     ]
<<<<<<< HEAD
    }
   ],
   "source": [
    "df = pd.read_csv(\"sample.csv\", header=0, index_col = 0)"
   ]
  },
  {
   "cell_type": "code",
   "execution_count": 8,
   "metadata": {
    "scrolled": true
   },
   "outputs": [
=======
    },
>>>>>>> eea255bef6a1b44527b3050d98af882562915957
    {
     "data": {
      "text/html": [
       "<div>\n",
       "<style scoped>\n",
       "    .dataframe tbody tr th:only-of-type {\n",
       "        vertical-align: middle;\n",
       "    }\n",
       "\n",
       "    .dataframe tbody tr th {\n",
       "        vertical-align: top;\n",
       "    }\n",
       "\n",
       "    .dataframe thead th {\n",
       "        text-align: right;\n",
       "    }\n",
       "</style>\n",
       "<table border=\"1\" class=\"dataframe\">\n",
       "  <thead>\n",
       "    <tr style=\"text-align: right;\">\n",
       "      <th></th>\n",
       "      <th>Event</th>\n",
       "      <th>Site</th>\n",
       "      <th>GameNumber</th>\n",
       "      <th>WName</th>\n",
       "      <th>BName</th>\n",
       "      <th>WElo</th>\n",
       "      <th>BElo</th>\n",
       "      <th>WRD</th>\n",
       "      <th>BRD</th>\n",
       "      <th>WIsComp</th>\n",
       "      <th>...</th>\n",
       "      <th>TimeControl</th>\n",
       "      <th>Date</th>\n",
       "      <th>Time</th>\n",
       "      <th>WClock</th>\n",
       "      <th>BClock</th>\n",
       "      <th>ECO</th>\n",
       "      <th>PlyCount</th>\n",
       "      <th>Result</th>\n",
       "      <th>WMoves</th>\n",
       "      <th>BMoves</th>\n",
       "    </tr>\n",
       "  </thead>\n",
       "  <tbody>\n",
       "    <tr>\n",
       "      <th>0</th>\n",
       "      <td>FICS rated blitz game</td>\n",
       "      <td>FICS freechess.org</td>\n",
       "      <td>470452425</td>\n",
       "      <td>chesspickle</td>\n",
       "      <td>lawrencegern</td>\n",
       "      <td>1963</td>\n",
       "      <td>764</td>\n",
       "      <td>21.2</td>\n",
       "      <td>112.2</td>\n",
       "      <td>Yes</td>\n",
       "      <td>...</td>\n",
       "      <td>300+0</td>\n",
       "      <td>2020.01.31</td>\n",
       "      <td>23:54:00</td>\n",
       "      <td>05:00.0</td>\n",
       "      <td>05:00.0</td>\n",
       "      <td>D11</td>\n",
       "      <td>43</td>\n",
       "      <td>1-0</td>\n",
       "      <td>['d4', 'c4', 'Nf3', 'e3', 'Bxc4', 'Be2', 'Bd2'...</td>\n",
       "      <td>['d5', 'c6', 'dxc4', 'e6', 'b5', 'Bb4+', 'Bxd2...</td>\n",
       "    </tr>\n",
       "    <tr>\n",
       "      <th>1</th>\n",
       "      <td>FICS rated blitz game</td>\n",
       "      <td>FICS freechess.org</td>\n",
       "      <td>470452424</td>\n",
       "      <td>ZoneBlindTal</td>\n",
       "      <td>AhNeow</td>\n",
       "      <td>1600</td>\n",
       "      <td>1487</td>\n",
       "      <td>36.6</td>\n",
       "      <td>28.5</td>\n",
       "      <td>NaN</td>\n",
       "      <td>...</td>\n",
       "      <td>180+2</td>\n",
       "      <td>2020.01.31</td>\n",
       "      <td>23:52:00</td>\n",
       "      <td>03:00.0</td>\n",
       "      <td>03:00.0</td>\n",
       "      <td>C41</td>\n",
       "      <td>48</td>\n",
       "      <td>0-1</td>\n",
       "      <td>['e4', 'Nf3', 'd4', 'dxe5', 'Nc3', 'Nd5', 'Bd2...</td>\n",
       "      <td>['e5', 'd6', 'Qe7', 'dxe5', 'f6', 'Qd6', 'c6',...</td>\n",
       "    </tr>\n",
       "    <tr>\n",
       "      <th>2</th>\n",
       "      <td>FICS rated blitz game</td>\n",
       "      <td>FICS freechess.org</td>\n",
       "      <td>470452423</td>\n",
       "      <td>forlat</td>\n",
       "      <td>naraindra</td>\n",
       "      <td>1948</td>\n",
       "      <td>1089</td>\n",
       "      <td>15.3</td>\n",
       "      <td>30.7</td>\n",
       "      <td>Yes</td>\n",
       "      <td>...</td>\n",
       "      <td>300+0</td>\n",
       "      <td>2020.01.31</td>\n",
       "      <td>23:54:00</td>\n",
       "      <td>05:00.0</td>\n",
       "      <td>05:00.0</td>\n",
       "      <td>D00</td>\n",
       "      <td>67</td>\n",
       "      <td>1-0</td>\n",
       "      <td>['d4', 'g3', 'Bg2', 'Nf3', 'O-O', 'e3', 'c3', ...</td>\n",
       "      <td>['d5', 'b5', 'Bb7', 'h6', 'e6', 'Bd6', 'Nf6', ...</td>\n",
       "    </tr>\n",
       "    <tr>\n",
       "      <th>3</th>\n",
       "      <td>FICS rated blitz game</td>\n",
       "      <td>FICS freechess.org</td>\n",
       "      <td>470452420</td>\n",
       "      <td>PGierech</td>\n",
       "      <td>kkpsA</td>\n",
       "      <td>1497</td>\n",
       "      <td>1224</td>\n",
       "      <td>32.4</td>\n",
       "      <td>37.6</td>\n",
       "      <td>NaN</td>\n",
       "      <td>...</td>\n",
       "      <td>120+12</td>\n",
       "      <td>2020.01.31</td>\n",
       "      <td>23:55:00</td>\n",
       "      <td>02:00.0</td>\n",
       "      <td>02:00.0</td>\n",
       "      <td>D00</td>\n",
       "      <td>23</td>\n",
       "      <td>1-0</td>\n",
       "      <td>['e4', 'd4', 'dxe5', 'exd5', 'Nf3', 'Be2', 'Bx...</td>\n",
       "      <td>['d5', 'e5', 'Nc6', 'Nxe5', 'Bg4', 'Nxf3+', 'B...</td>\n",
       "    </tr>\n",
       "    <tr>\n",
       "      <th>4</th>\n",
       "      <td>FICS rated blitz game</td>\n",
       "      <td>FICS freechess.org</td>\n",
       "      <td>470452419</td>\n",
       "      <td>Liszt</td>\n",
       "      <td>Sotavaunu</td>\n",
       "      <td>1594</td>\n",
       "      <td>1554</td>\n",
       "      <td>26.8</td>\n",
       "      <td>34.9</td>\n",
       "      <td>NaN</td>\n",
       "      <td>...</td>\n",
       "      <td>300+2</td>\n",
       "      <td>2020.01.31</td>\n",
       "      <td>23:48:00</td>\n",
       "      <td>05:00.0</td>\n",
       "      <td>05:00.0</td>\n",
       "      <td>B06</td>\n",
       "      <td>53</td>\n",
       "      <td>0-1</td>\n",
       "      <td>['e4', 'd4', 'f4', 'c3', 'cxd4', 'e5', 'Nc3', ...</td>\n",
       "      <td>['g6', 'Bg7', 'c5', 'cxd4', 'd5', 'Nc6', 'Nh6'...</td>\n",
       "    </tr>\n",
       "  </tbody>\n",
       "</table>\n",
       "<p>5 rows × 21 columns</p>\n",
       "</div>"
      ],
      "text/plain": [
       "                   Event                Site GameNumber         WName  \\\n",
       "0  FICS rated blitz game  FICS freechess.org  470452425   chesspickle   \n",
       "1  FICS rated blitz game  FICS freechess.org  470452424  ZoneBlindTal   \n",
       "2  FICS rated blitz game  FICS freechess.org  470452423        forlat   \n",
       "3  FICS rated blitz game  FICS freechess.org  470452420      PGierech   \n",
       "4  FICS rated blitz game  FICS freechess.org  470452419         Liszt   \n",
       "\n",
       "          BName  WElo  BElo   WRD    BRD WIsComp  ... TimeControl        Date  \\\n",
       "0  lawrencegern  1963   764  21.2  112.2     Yes  ...       300+0  2020.01.31   \n",
       "1        AhNeow  1600  1487  36.6   28.5     NaN  ...       180+2  2020.01.31   \n",
       "2     naraindra  1948  1089  15.3   30.7     Yes  ...       300+0  2020.01.31   \n",
       "3         kkpsA  1497  1224  32.4   37.6     NaN  ...      120+12  2020.01.31   \n",
       "4     Sotavaunu  1594  1554  26.8   34.9     NaN  ...       300+2  2020.01.31   \n",
       "\n",
       "       Time   WClock   BClock  ECO PlyCount  Result  \\\n",
       "0  23:54:00  05:00.0  05:00.0  D11       43     1-0   \n",
       "1  23:52:00  03:00.0  03:00.0  C41       48     0-1   \n",
       "2  23:54:00  05:00.0  05:00.0  D00       67     1-0   \n",
       "3  23:55:00  02:00.0  02:00.0  D00       23     1-0   \n",
       "4  23:48:00  05:00.0  05:00.0  B06       53     0-1   \n",
       "\n",
       "                                              WMoves  \\\n",
       "0  ['d4', 'c4', 'Nf3', 'e3', 'Bxc4', 'Be2', 'Bd2'...   \n",
       "1  ['e4', 'Nf3', 'd4', 'dxe5', 'Nc3', 'Nd5', 'Bd2...   \n",
       "2  ['d4', 'g3', 'Bg2', 'Nf3', 'O-O', 'e3', 'c3', ...   \n",
       "3  ['e4', 'd4', 'dxe5', 'exd5', 'Nf3', 'Be2', 'Bx...   \n",
       "4  ['e4', 'd4', 'f4', 'c3', 'cxd4', 'e5', 'Nc3', ...   \n",
       "\n",
       "                                              BMoves  \n",
       "0  ['d5', 'c6', 'dxc4', 'e6', 'b5', 'Bb4+', 'Bxd2...  \n",
       "1  ['e5', 'd6', 'Qe7', 'dxe5', 'f6', 'Qd6', 'c6',...  \n",
       "2  ['d5', 'b5', 'Bb7', 'h6', 'e6', 'Bd6', 'Nf6', ...  \n",
       "3  ['d5', 'e5', 'Nc6', 'Nxe5', 'Bg4', 'Nxf3+', 'B...  \n",
       "4  ['g6', 'Bg7', 'c5', 'cxd4', 'd5', 'Nc6', 'Nh6'...  \n",
       "\n",
       "[5 rows x 21 columns]"
      ]
     },
     "execution_count": 8,
     "metadata": {},
     "output_type": "execute_result"
    }
   ],
   "source": [
    "df = pd.read_csv(\"sample.csv\", header=0, index_col = 0)\n",
    "df.head()"
   ]
  },
  {
   "cell_type": "code",
   "execution_count": 9,
   "metadata": {},
   "outputs": [],
   "source": [
    "df[\"BMoves\"] = df[\"BMoves\"].apply(ast.literal_eval)\n",
    "df[\"WMoves\"] = df[\"WMoves\"].apply(ast.literal_eval)"
   ]
  },
  {
<<<<<<< HEAD
   "cell_type": "code",
   "execution_count": null,
   "metadata": {},
   "outputs": [],
   "source": [
    "df.loc[2,'WMoves']"
   ]
  },
  {
=======
>>>>>>> eea255bef6a1b44527b3050d98af882562915957
   "cell_type": "markdown",
   "metadata": {},
   "source": [
    "## Most popular square?"
   ]
  },
  {
   "cell_type": "code",
<<<<<<< HEAD
   "execution_count": null,
=======
   "execution_count": 10,
>>>>>>> eea255bef6a1b44527b3050d98af882562915957
   "metadata": {},
   "outputs": [],
   "source": [
    "lookups = [\n",
    "    (\"^.*[a-h][1-8].*$\", \"normal move\"),\n",
    "    (\"^O-O$\", \"kingside castle\"),\n",
    "    (\"^O-O-O$\", \"queenside castle\"),\n",
    "    (\"^.+[QNBR]\\+*#*$\", \"pawn conversion\"),\n",
    "    (\"^.*\\+$\", \"check\"),\n",
    "    (\"^.*#$\", \"checkmate\")\n",
    "]\n",
    "\n",
    "def is_not_castle(move):\n",
    "    return not bool(re.search(\"O-O\",move))\n"
   ]
  },
  {
   "cell_type": "code",
   "execution_count": null,
   "metadata": {},
   "outputs": [],
   "source": [
    "square_dict = dd(int)\n",
    "\n",
    "def count_squares(moves, colour):\n",
    "    for move in moves:\n",
    "        if is_not_castle(move):\n",
    "            square_dict[re.findall(\"[a-h][1-8]\",move)[-1]] += 1\n",
    "        else:\n",
    "            if re.search(\"^O-O$\", move):\n",
    "                if colour==\"W\":\n",
    "                    square_dict[\"g1\"] += 1\n",
    "                else:\n",
    "                    square_dict[\"g8\"] += 1\n",
    "            else: \n",
    "                if colour==\"W\":\n",
    "                    square_dict[\"c1\"] += 1\n",
    "                else:\n",
    "                    square_dict[\"c8\"] += 1\n",
    "    return\n"
   ]
  },
  {
   "cell_type": "code",
   "execution_count": null,
   "metadata": {
    "scrolled": true
   },
   "outputs": [],
   "source": [
    "df[\"BMoves\"].apply(lambda x : count_squares(x,'B'))\n",
    "df[\"WMoves\"].apply(lambda x : count_squares(x,'W'))"
   ]
  },
  {
   "cell_type": "markdown",
   "metadata": {},
   "source": [
    "## How many moves until a game becomes unique?"
   ]
  },
  {
   "cell_type": "code",
   "execution_count": null,
   "metadata": {},
   "outputs": [],
   "source": [
    "df.loc[195]"
   ]
  },
  {
   "cell_type": "code",
   "execution_count": null,
   "metadata": {},
   "outputs": [],
   "source": [
    "sample_df = df.head(1000)"
   ]
  },
  {
   "cell_type": "code",
   "execution_count": null,
   "metadata": {
    "scrolled": true
   },
   "outputs": [],
   "source": [
    "moves_until_unique = dd(int)\n",
    "\n",
    "for i in range(len(sample_df[\"WMoves\"])):\n",
    "    for j in range(i,len(sample_df[\"WMoves\"])):\n",
    "        move_count = -1\n",
    "        g1move = \"\"\n",
    "        g2move = \"\"\n",
    "        while g1move==g2move:\n",
    "            move_count += 1\n",
    "            try:\n",
    "                if move_count%2 == 0:\n",
    "                    #White's move\n",
    "                    g1move = df[\"WMoves\"][i][move_count//2]\n",
    "                    g2move = df[\"WMoves\"][j][move_count//2]\n",
    "                else:\n",
    "                    #Black's move\n",
    "                    g1move = df[\"BMoves\"][i][move_count//2]\n",
    "                    g2move = df[\"BMoves\"][j][move_count//2]\n",
    "            except:\n",
    "                #end of game\n",
    "                g1move = 1\n",
    "                g2move = 2\n",
    "        if moves_until_unique[i] < move_count:\n",
    "            moves_until_unique[i] = move_count\n",
    "        if moves_until_unique[j] < move_count:\n",
    "            moves_until_unique[j] = move_count\n",
    "            "
   ]
  },
  {
   "cell_type": "code",
   "execution_count": null,
   "metadata": {},
   "outputs": [],
   "source": [
    "moves_until_unique"
   ]
  },
  {
   "cell_type": "markdown",
   "metadata": {},
   "source": [
    "## CapturesByPiece\n",
    "function takes as argument the pandas dataframe and returns the pandas dataframe with capture count for pair of pieces"
   ]
  },
  {
   "cell_type": "code",
   "execution_count": null,
   "metadata": {},
   "outputs": [],
   "source": [
    "def capturesByPiece(df):\n",
    "    # Dict of dict to store the count of captures made by a piece\n",
    "\n",
    "    captureCount = dict()\n",
    "    for attacker in chess.UNICODE_PIECE_SYMBOLS.keys():\n",
    "        captureCount[attacker] = dict()\n",
    "        for captured in chess.UNICODE_PIECE_SYMBOLS.keys():\n",
    "            captureCount[attacker][captured] = 0\n",
    "    \n",
    "  \n",
    "            \n",
    "    for index, row in df.iterrows():\n",
    "        WMoves = row[\"WMoves\"]\n",
    "        BMoves = row[\"BMoves\"]\n",
    "\n",
    "        board = chess.Board()\n",
    "\n",
    "        # zipping all the moves and merging into one list \n",
    "        allMoves = zip(WMoves, BMoves)\n",
    "        zippedMoves = list(chain.from_iterable(allMoves))\n",
    "\n",
    "        for move in zippedMoves:\n",
    "            if board.is_capture(board.parse_san(move)):\n",
    "                moveInUCI = board.uci(board.parse_san(move))\n",
    "#                 print(\"move:\",move)\n",
    "                attackerPosition, capturedPosition = moveInUCI[:2], moveInUCI[2:4]\n",
    "#                 print(\"ap,cp:\"+attackerPosition, capturedPosition)\n",
    "                attacker = board.piece_at(chess.SQUARE_NAMES.index(attackerPosition))\n",
    "                captured = board.piece_at(chess.SQUARE_NAMES.index(capturedPosition))\n",
    "#                 print(\"a,c:\",attacker,captured)\n",
    "                \n",
    "                if (str(attacker) in captureCount.keys()) and (str(captured) in captureCount.keys()):\n",
    "                    captureCount[str(attacker)][str(captured)] += 1\n",
    "        \n",
    "            board.push_san(move)\n",
    "        \n",
    "#         print()\n",
    "    \n",
    "    capture_count = pd.DataFrame(captureCount)\n",
    "    capture_count.rename(columns = chess.UNICODE_PIECE_SYMBOLS, index =  chess.UNICODE_PIECE_SYMBOLS, inplace = True) \n",
    "\n",
    "    return  capture_count"
   ]
  },
  {
   "cell_type": "code",
   "execution_count": null,
   "metadata": {
    "scrolled": false
   },
   "outputs": [],
   "source": [
    "%%time\n",
    "sns.heatmap(capturesByPiece(df.head(5)), cmap=\"YlGnBu\")"
   ]
  },
  {
   "cell_type": "code",
   "execution_count": null,
   "metadata": {},
   "outputs": [],
   "source": []
  },
  {
   "cell_type": "markdown",
   "metadata": {},
   "source": [
    "# Prescriptive Analytics"
   ]
  },
  {
   "cell_type": "markdown",
   "metadata": {},
   "source": [
    "## Feature Engineering"
   ]
  },
  {
   "cell_type": "markdown",
   "metadata": {},
   "source": [
    "## Add columns for who won game"
   ]
  },
  {
   "cell_type": "code",
<<<<<<< HEAD
   "execution_count": null,
=======
   "execution_count": 28,
>>>>>>> eea255bef6a1b44527b3050d98af882562915957
   "metadata": {},
   "outputs": [],
   "source": [
    "def get_player_result(result, colour):\n",
    "    if colour=='B':\n",
    "        if result[-1]=='0':\n",
    "            return 0\n",
    "        else:\n",
    "            return 1\n",
    "    else:\n",
    "        if result[0]=='0':\n",
    "            return 0\n",
    "        else:\n",
    "            return 1\n",
    "\n",
    "def add_WL_columns(df):\n",
    "    df['WResult'] = df[\"Result\"].apply(lambda x: get_player_result(x, 'W'))\n",
    "    df['BResult'] = df[\"Result\"].apply(lambda x: get_player_result(x, 'B'))\n",
    "    return"
   ]
  },
  {
   "cell_type": "code",
<<<<<<< HEAD
   "execution_count": null,
=======
   "execution_count": 29,
>>>>>>> eea255bef6a1b44527b3050d98af882562915957
   "metadata": {},
   "outputs": [],
   "source": [
    "add_WL_columns(df)"
   ]
  },
  {
   "cell_type": "code",
<<<<<<< HEAD
   "execution_count": null,
   "metadata": {},
   "outputs": [],
=======
   "execution_count": 34,
   "metadata": {},
   "outputs": [
    {
     "data": {
      "text/html": [
       "<div>\n",
       "<style scoped>\n",
       "    .dataframe tbody tr th:only-of-type {\n",
       "        vertical-align: middle;\n",
       "    }\n",
       "\n",
       "    .dataframe tbody tr th {\n",
       "        vertical-align: top;\n",
       "    }\n",
       "\n",
       "    .dataframe thead th {\n",
       "        text-align: right;\n",
       "    }\n",
       "</style>\n",
       "<table border=\"1\" class=\"dataframe\">\n",
       "  <thead>\n",
       "    <tr style=\"text-align: right;\">\n",
       "      <th></th>\n",
       "      <th>Event</th>\n",
       "      <th>Site</th>\n",
       "      <th>GameNumber</th>\n",
       "      <th>WName</th>\n",
       "      <th>BName</th>\n",
       "      <th>WElo</th>\n",
       "      <th>BElo</th>\n",
       "      <th>WRD</th>\n",
       "      <th>BRD</th>\n",
       "      <th>WIsComp</th>\n",
       "      <th>...</th>\n",
       "      <th>Time</th>\n",
       "      <th>WClock</th>\n",
       "      <th>BClock</th>\n",
       "      <th>ECO</th>\n",
       "      <th>PlyCount</th>\n",
       "      <th>Result</th>\n",
       "      <th>WMoves</th>\n",
       "      <th>BMoves</th>\n",
       "      <th>WResult</th>\n",
       "      <th>BResult</th>\n",
       "    </tr>\n",
       "  </thead>\n",
       "  <tbody>\n",
       "    <tr>\n",
       "      <th>0</th>\n",
       "      <td>FICS rated blitz game</td>\n",
       "      <td>FICS freechess.org</td>\n",
       "      <td>470452425</td>\n",
       "      <td>chesspickle</td>\n",
       "      <td>lawrencegern</td>\n",
       "      <td>1963</td>\n",
       "      <td>764</td>\n",
       "      <td>21.2</td>\n",
       "      <td>112.2</td>\n",
       "      <td>Yes</td>\n",
       "      <td>...</td>\n",
       "      <td>23:54:00</td>\n",
       "      <td>05:00.0</td>\n",
       "      <td>05:00.0</td>\n",
       "      <td>D11</td>\n",
       "      <td>43</td>\n",
       "      <td>1-0</td>\n",
       "      <td>[d4, c4, Nf3, e3, Bxc4, Be2, Bd2, Nbxd2, a4, O...</td>\n",
       "      <td>[d5, c6, dxc4, e6, b5, Bb4+, Bxd2+, Nf6, Bd7, ...</td>\n",
       "      <td>1</td>\n",
       "      <td>0</td>\n",
       "    </tr>\n",
       "    <tr>\n",
       "      <th>1</th>\n",
       "      <td>FICS rated blitz game</td>\n",
       "      <td>FICS freechess.org</td>\n",
       "      <td>470452424</td>\n",
       "      <td>ZoneBlindTal</td>\n",
       "      <td>AhNeow</td>\n",
       "      <td>1600</td>\n",
       "      <td>1487</td>\n",
       "      <td>36.6</td>\n",
       "      <td>28.5</td>\n",
       "      <td>NaN</td>\n",
       "      <td>...</td>\n",
       "      <td>23:52:00</td>\n",
       "      <td>03:00.0</td>\n",
       "      <td>03:00.0</td>\n",
       "      <td>C41</td>\n",
       "      <td>48</td>\n",
       "      <td>0-1</td>\n",
       "      <td>[e4, Nf3, d4, dxe5, Nc3, Nd5, Bd2, Bb4, Bxf8, ...</td>\n",
       "      <td>[e5, d6, Qe7, dxe5, f6, Qd6, c6, Qd7, cxd5, dx...</td>\n",
       "      <td>0</td>\n",
       "      <td>1</td>\n",
       "    </tr>\n",
       "    <tr>\n",
       "      <th>2</th>\n",
       "      <td>FICS rated blitz game</td>\n",
       "      <td>FICS freechess.org</td>\n",
       "      <td>470452423</td>\n",
       "      <td>forlat</td>\n",
       "      <td>naraindra</td>\n",
       "      <td>1948</td>\n",
       "      <td>1089</td>\n",
       "      <td>15.3</td>\n",
       "      <td>30.7</td>\n",
       "      <td>Yes</td>\n",
       "      <td>...</td>\n",
       "      <td>23:54:00</td>\n",
       "      <td>05:00.0</td>\n",
       "      <td>05:00.0</td>\n",
       "      <td>D00</td>\n",
       "      <td>67</td>\n",
       "      <td>1-0</td>\n",
       "      <td>[d4, g3, Bg2, Nf3, O-O, e3, c3, a4, Ne5, cxb4,...</td>\n",
       "      <td>[d5, b5, Bb7, h6, e6, Bd6, Nf6, b4, O-O, Bxb4,...</td>\n",
       "      <td>1</td>\n",
       "      <td>0</td>\n",
       "    </tr>\n",
       "    <tr>\n",
       "      <th>3</th>\n",
       "      <td>FICS rated blitz game</td>\n",
       "      <td>FICS freechess.org</td>\n",
       "      <td>470452420</td>\n",
       "      <td>PGierech</td>\n",
       "      <td>kkpsA</td>\n",
       "      <td>1497</td>\n",
       "      <td>1224</td>\n",
       "      <td>32.4</td>\n",
       "      <td>37.6</td>\n",
       "      <td>NaN</td>\n",
       "      <td>...</td>\n",
       "      <td>23:55:00</td>\n",
       "      <td>02:00.0</td>\n",
       "      <td>02:00.0</td>\n",
       "      <td>D00</td>\n",
       "      <td>23</td>\n",
       "      <td>1-0</td>\n",
       "      <td>[e4, d4, dxe5, exd5, Nf3, Be2, Bxf3, Qxf3, Bg5...</td>\n",
       "      <td>[d5, e5, Nc6, Nxe5, Bg4, Nxf3+, Bxf3, Nf6, Be7...</td>\n",
       "      <td>1</td>\n",
       "      <td>0</td>\n",
       "    </tr>\n",
       "    <tr>\n",
       "      <th>4</th>\n",
       "      <td>FICS rated blitz game</td>\n",
       "      <td>FICS freechess.org</td>\n",
       "      <td>470452419</td>\n",
       "      <td>Liszt</td>\n",
       "      <td>Sotavaunu</td>\n",
       "      <td>1594</td>\n",
       "      <td>1554</td>\n",
       "      <td>26.8</td>\n",
       "      <td>34.9</td>\n",
       "      <td>NaN</td>\n",
       "      <td>...</td>\n",
       "      <td>23:48:00</td>\n",
       "      <td>05:00.0</td>\n",
       "      <td>05:00.0</td>\n",
       "      <td>B06</td>\n",
       "      <td>53</td>\n",
       "      <td>0-1</td>\n",
       "      <td>[e4, d4, f4, c3, cxd4, e5, Nc3, Bb5, Nf3, Be3,...</td>\n",
       "      <td>[g6, Bg7, c5, cxd4, d5, Nc6, Nh6, O-O, Bg4, Nf...</td>\n",
       "      <td>0</td>\n",
       "      <td>1</td>\n",
       "    </tr>\n",
       "  </tbody>\n",
       "</table>\n",
       "<p>5 rows × 23 columns</p>\n",
       "</div>"
      ],
      "text/plain": [
       "                   Event                Site GameNumber         WName  \\\n",
       "0  FICS rated blitz game  FICS freechess.org  470452425   chesspickle   \n",
       "1  FICS rated blitz game  FICS freechess.org  470452424  ZoneBlindTal   \n",
       "2  FICS rated blitz game  FICS freechess.org  470452423        forlat   \n",
       "3  FICS rated blitz game  FICS freechess.org  470452420      PGierech   \n",
       "4  FICS rated blitz game  FICS freechess.org  470452419         Liszt   \n",
       "\n",
       "          BName  WElo  BElo   WRD    BRD WIsComp  ...      Time   WClock  \\\n",
       "0  lawrencegern  1963   764  21.2  112.2     Yes  ...  23:54:00  05:00.0   \n",
       "1        AhNeow  1600  1487  36.6   28.5     NaN  ...  23:52:00  03:00.0   \n",
       "2     naraindra  1948  1089  15.3   30.7     Yes  ...  23:54:00  05:00.0   \n",
       "3         kkpsA  1497  1224  32.4   37.6     NaN  ...  23:55:00  02:00.0   \n",
       "4     Sotavaunu  1594  1554  26.8   34.9     NaN  ...  23:48:00  05:00.0   \n",
       "\n",
       "    BClock  ECO PlyCount Result  \\\n",
       "0  05:00.0  D11       43    1-0   \n",
       "1  03:00.0  C41       48    0-1   \n",
       "2  05:00.0  D00       67    1-0   \n",
       "3  02:00.0  D00       23    1-0   \n",
       "4  05:00.0  B06       53    0-1   \n",
       "\n",
       "                                              WMoves  \\\n",
       "0  [d4, c4, Nf3, e3, Bxc4, Be2, Bd2, Nbxd2, a4, O...   \n",
       "1  [e4, Nf3, d4, dxe5, Nc3, Nd5, Bd2, Bb4, Bxf8, ...   \n",
       "2  [d4, g3, Bg2, Nf3, O-O, e3, c3, a4, Ne5, cxb4,...   \n",
       "3  [e4, d4, dxe5, exd5, Nf3, Be2, Bxf3, Qxf3, Bg5...   \n",
       "4  [e4, d4, f4, c3, cxd4, e5, Nc3, Bb5, Nf3, Be3,...   \n",
       "\n",
       "                                              BMoves WResult BResult  \n",
       "0  [d5, c6, dxc4, e6, b5, Bb4+, Bxd2+, Nf6, Bd7, ...       1       0  \n",
       "1  [e5, d6, Qe7, dxe5, f6, Qd6, c6, Qd7, cxd5, dx...       0       1  \n",
       "2  [d5, b5, Bb7, h6, e6, Bd6, Nf6, b4, O-O, Bxb4,...       1       0  \n",
       "3  [d5, e5, Nc6, Nxe5, Bg4, Nxf3+, Bxf3, Nf6, Be7...       1       0  \n",
       "4  [g6, Bg7, c5, cxd4, d5, Nc6, Nh6, O-O, Bg4, Nf...       0       1  \n",
       "\n",
       "[5 rows x 23 columns]"
      ]
     },
     "execution_count": 34,
     "metadata": {},
     "output_type": "execute_result"
    }
   ],
>>>>>>> eea255bef6a1b44527b3050d98af882562915957
   "source": [
    "df.head()"
   ]
  },
  {
   "cell_type": "markdown",
   "metadata": {},
   "source": [
    "## Add columns for what players converted pawns to"
   ]
  },
  {
   "cell_type": "code",
<<<<<<< HEAD
   "execution_count": null,
=======
   "execution_count": 31,
>>>>>>> eea255bef6a1b44527b3050d98af882562915957
   "metadata": {},
   "outputs": [],
   "source": [
    "def get_conversions(game, colour):\n",
    "    conversions = []\n",
    "    for i in range(len(game)):\n",
    "        if i%2 and colour=='B':\n",
    "            if re.match(lookups[3][0], game[i]):\n",
    "                conversions.append(re.search(\"(?<=[a-h][1-8])[QNBR]\",game[i]).group(0))\n",
    "        else:\n",
    "            if re.match(lookups[3][0], game[i]):\n",
    "                conversions.append(re.search(\"(?<=[a-h][1-8])[QNBR]\",game[i]).group(0))\n",
    "    return conversions\n",
    "\n",
    "def add_conversions_columns(df):\n",
    "    df[\"WConversions\"] = df[\"game\"].apply(lambda x: get_conversions(x, 'W'))\n",
    "    df[\"BConversions\"] = df[\"game\"].apply(lambda x: get_conversions(x, 'B'))"
   ]
  },
  {
   "cell_type": "code",
<<<<<<< HEAD
   "execution_count": null,
=======
   "execution_count": 33,
>>>>>>> eea255bef6a1b44527b3050d98af882562915957
   "metadata": {},
   "outputs": [
    {
     "ename": "KeyError",
     "evalue": "'game'",
     "output_type": "error",
     "traceback": [
      "\u001b[0;31m---------------------------------------------------------------------------\u001b[0m",
      "\u001b[0;31mKeyError\u001b[0m                                  Traceback (most recent call last)",
      "\u001b[0;32m~/.local/lib/python3.6/site-packages/pandas/core/indexes/base.py\u001b[0m in \u001b[0;36mget_loc\u001b[0;34m(self, key, method, tolerance)\u001b[0m\n\u001b[1;32m   2890\u001b[0m             \u001b[0;32mtry\u001b[0m\u001b[0;34m:\u001b[0m\u001b[0;34m\u001b[0m\u001b[0;34m\u001b[0m\u001b[0m\n\u001b[0;32m-> 2891\u001b[0;31m                 \u001b[0;32mreturn\u001b[0m \u001b[0mself\u001b[0m\u001b[0;34m.\u001b[0m\u001b[0m_engine\u001b[0m\u001b[0;34m.\u001b[0m\u001b[0mget_loc\u001b[0m\u001b[0;34m(\u001b[0m\u001b[0mcasted_key\u001b[0m\u001b[0;34m)\u001b[0m\u001b[0;34m\u001b[0m\u001b[0;34m\u001b[0m\u001b[0m\n\u001b[0m\u001b[1;32m   2892\u001b[0m             \u001b[0;32mexcept\u001b[0m \u001b[0mKeyError\u001b[0m \u001b[0;32mas\u001b[0m \u001b[0merr\u001b[0m\u001b[0;34m:\u001b[0m\u001b[0;34m\u001b[0m\u001b[0;34m\u001b[0m\u001b[0m\n",
      "\u001b[0;32mpandas/_libs/index.pyx\u001b[0m in \u001b[0;36mpandas._libs.index.IndexEngine.get_loc\u001b[0;34m()\u001b[0m\n",
      "\u001b[0;32mpandas/_libs/index.pyx\u001b[0m in \u001b[0;36mpandas._libs.index.IndexEngine.get_loc\u001b[0;34m()\u001b[0m\n",
      "\u001b[0;32mpandas/_libs/hashtable_class_helper.pxi\u001b[0m in \u001b[0;36mpandas._libs.hashtable.PyObjectHashTable.get_item\u001b[0;34m()\u001b[0m\n",
      "\u001b[0;32mpandas/_libs/hashtable_class_helper.pxi\u001b[0m in \u001b[0;36mpandas._libs.hashtable.PyObjectHashTable.get_item\u001b[0;34m()\u001b[0m\n",
      "\u001b[0;31mKeyError\u001b[0m: 'game'",
      "\nThe above exception was the direct cause of the following exception:\n",
      "\u001b[0;31mKeyError\u001b[0m                                  Traceback (most recent call last)",
      "\u001b[0;32m<ipython-input-33-3026b958ab76>\u001b[0m in \u001b[0;36m<module>\u001b[0;34m\u001b[0m\n\u001b[0;32m----> 1\u001b[0;31m \u001b[0madd_conversions_columns\u001b[0m\u001b[0;34m(\u001b[0m\u001b[0mdf\u001b[0m\u001b[0;34m)\u001b[0m\u001b[0;34m\u001b[0m\u001b[0;34m\u001b[0m\u001b[0m\n\u001b[0m",
      "\u001b[0;32m<ipython-input-31-b953964a9168>\u001b[0m in \u001b[0;36madd_conversions_columns\u001b[0;34m(df)\u001b[0m\n\u001b[1;32m     11\u001b[0m \u001b[0;34m\u001b[0m\u001b[0m\n\u001b[1;32m     12\u001b[0m \u001b[0;32mdef\u001b[0m \u001b[0madd_conversions_columns\u001b[0m\u001b[0;34m(\u001b[0m\u001b[0mdf\u001b[0m\u001b[0;34m)\u001b[0m\u001b[0;34m:\u001b[0m\u001b[0;34m\u001b[0m\u001b[0;34m\u001b[0m\u001b[0m\n\u001b[0;32m---> 13\u001b[0;31m     \u001b[0mdf\u001b[0m\u001b[0;34m[\u001b[0m\u001b[0;34m\"WConversions\"\u001b[0m\u001b[0;34m]\u001b[0m \u001b[0;34m=\u001b[0m \u001b[0mdf\u001b[0m\u001b[0;34m[\u001b[0m\u001b[0;34m\"game\"\u001b[0m\u001b[0;34m]\u001b[0m\u001b[0;34m.\u001b[0m\u001b[0mapply\u001b[0m\u001b[0;34m(\u001b[0m\u001b[0;32mlambda\u001b[0m \u001b[0mx\u001b[0m\u001b[0;34m:\u001b[0m \u001b[0mget_conversions\u001b[0m\u001b[0;34m(\u001b[0m\u001b[0mx\u001b[0m\u001b[0;34m,\u001b[0m \u001b[0;34m'W'\u001b[0m\u001b[0;34m)\u001b[0m\u001b[0;34m)\u001b[0m\u001b[0;34m\u001b[0m\u001b[0;34m\u001b[0m\u001b[0m\n\u001b[0m\u001b[1;32m     14\u001b[0m     \u001b[0mdf\u001b[0m\u001b[0;34m[\u001b[0m\u001b[0;34m\"BConversions\"\u001b[0m\u001b[0;34m]\u001b[0m \u001b[0;34m=\u001b[0m \u001b[0mdf\u001b[0m\u001b[0;34m[\u001b[0m\u001b[0;34m\"game\"\u001b[0m\u001b[0;34m]\u001b[0m\u001b[0;34m.\u001b[0m\u001b[0mapply\u001b[0m\u001b[0;34m(\u001b[0m\u001b[0;32mlambda\u001b[0m \u001b[0mx\u001b[0m\u001b[0;34m:\u001b[0m \u001b[0mget_conversions\u001b[0m\u001b[0;34m(\u001b[0m\u001b[0mx\u001b[0m\u001b[0;34m,\u001b[0m \u001b[0;34m'B'\u001b[0m\u001b[0;34m)\u001b[0m\u001b[0;34m)\u001b[0m\u001b[0;34m\u001b[0m\u001b[0;34m\u001b[0m\u001b[0m\n",
      "\u001b[0;32m~/.local/lib/python3.6/site-packages/pandas/core/frame.py\u001b[0m in \u001b[0;36m__getitem__\u001b[0;34m(self, key)\u001b[0m\n\u001b[1;32m   2900\u001b[0m             \u001b[0;32mif\u001b[0m \u001b[0mself\u001b[0m\u001b[0;34m.\u001b[0m\u001b[0mcolumns\u001b[0m\u001b[0;34m.\u001b[0m\u001b[0mnlevels\u001b[0m \u001b[0;34m>\u001b[0m \u001b[0;36m1\u001b[0m\u001b[0;34m:\u001b[0m\u001b[0;34m\u001b[0m\u001b[0;34m\u001b[0m\u001b[0m\n\u001b[1;32m   2901\u001b[0m                 \u001b[0;32mreturn\u001b[0m \u001b[0mself\u001b[0m\u001b[0;34m.\u001b[0m\u001b[0m_getitem_multilevel\u001b[0m\u001b[0;34m(\u001b[0m\u001b[0mkey\u001b[0m\u001b[0;34m)\u001b[0m\u001b[0;34m\u001b[0m\u001b[0;34m\u001b[0m\u001b[0m\n\u001b[0;32m-> 2902\u001b[0;31m             \u001b[0mindexer\u001b[0m \u001b[0;34m=\u001b[0m \u001b[0mself\u001b[0m\u001b[0;34m.\u001b[0m\u001b[0mcolumns\u001b[0m\u001b[0;34m.\u001b[0m\u001b[0mget_loc\u001b[0m\u001b[0;34m(\u001b[0m\u001b[0mkey\u001b[0m\u001b[0;34m)\u001b[0m\u001b[0;34m\u001b[0m\u001b[0;34m\u001b[0m\u001b[0m\n\u001b[0m\u001b[1;32m   2903\u001b[0m             \u001b[0;32mif\u001b[0m \u001b[0mis_integer\u001b[0m\u001b[0;34m(\u001b[0m\u001b[0mindexer\u001b[0m\u001b[0;34m)\u001b[0m\u001b[0;34m:\u001b[0m\u001b[0;34m\u001b[0m\u001b[0;34m\u001b[0m\u001b[0m\n\u001b[1;32m   2904\u001b[0m                 \u001b[0mindexer\u001b[0m \u001b[0;34m=\u001b[0m \u001b[0;34m[\u001b[0m\u001b[0mindexer\u001b[0m\u001b[0;34m]\u001b[0m\u001b[0;34m\u001b[0m\u001b[0;34m\u001b[0m\u001b[0m\n",
      "\u001b[0;32m~/.local/lib/python3.6/site-packages/pandas/core/indexes/base.py\u001b[0m in \u001b[0;36mget_loc\u001b[0;34m(self, key, method, tolerance)\u001b[0m\n\u001b[1;32m   2891\u001b[0m                 \u001b[0;32mreturn\u001b[0m \u001b[0mself\u001b[0m\u001b[0;34m.\u001b[0m\u001b[0m_engine\u001b[0m\u001b[0;34m.\u001b[0m\u001b[0mget_loc\u001b[0m\u001b[0;34m(\u001b[0m\u001b[0mcasted_key\u001b[0m\u001b[0;34m)\u001b[0m\u001b[0;34m\u001b[0m\u001b[0;34m\u001b[0m\u001b[0m\n\u001b[1;32m   2892\u001b[0m             \u001b[0;32mexcept\u001b[0m \u001b[0mKeyError\u001b[0m \u001b[0;32mas\u001b[0m \u001b[0merr\u001b[0m\u001b[0;34m:\u001b[0m\u001b[0;34m\u001b[0m\u001b[0;34m\u001b[0m\u001b[0m\n\u001b[0;32m-> 2893\u001b[0;31m                 \u001b[0;32mraise\u001b[0m \u001b[0mKeyError\u001b[0m\u001b[0;34m(\u001b[0m\u001b[0mkey\u001b[0m\u001b[0;34m)\u001b[0m \u001b[0;32mfrom\u001b[0m \u001b[0merr\u001b[0m\u001b[0;34m\u001b[0m\u001b[0;34m\u001b[0m\u001b[0m\n\u001b[0m\u001b[1;32m   2894\u001b[0m \u001b[0;34m\u001b[0m\u001b[0m\n\u001b[1;32m   2895\u001b[0m         \u001b[0;32mif\u001b[0m \u001b[0mtolerance\u001b[0m \u001b[0;32mis\u001b[0m \u001b[0;32mnot\u001b[0m \u001b[0;32mNone\u001b[0m\u001b[0;34m:\u001b[0m\u001b[0;34m\u001b[0m\u001b[0;34m\u001b[0m\u001b[0m\n",
      "\u001b[0;31mKeyError\u001b[0m: 'game'"
     ]
    }
   ],
   "source": [
    "add_conversions_columns(df)"
   ]
  },
  {
   "cell_type": "markdown",
   "metadata": {},
   "source": [
    "**Add columns for what piece was used the most by a player**"
   ]
  },
  {
   "cell_type": "code",
   "execution_count": null,
   "metadata": {},
   "outputs": [],
   "source": [
    "def formatMoves(moves):\n",
    "    formattedMoves = []\n",
    "    moves=moves.strip(\"[]\").split(',')\n",
    "    for i in moves:\n",
    "        i = i.strip()\n",
    "        i = i.strip(\"'\")\n",
    "        formattedMoves.append(i)\n",
    "    return formattedMoves"
   ]
  },
  {
   "cell_type": "code",
   "execution_count": null,
   "metadata": {},
   "outputs": [],
   "source": [
    "dfScsful['WFavPiece'] = 'null'\n",
    "dfScsful['BFavPiece'] = 'null'\n",
    "\n",
    "def get_favPiece():\n",
    "    for i in range(len(df)):\n",
    "        moves = formatMoves(df.loc[i, 'WMoves'])\n",
    "        for move in moves:\n",
    "            if(move):\n",
    "                if move[0].isupper() and move[0] != 'O':\n",
    "                    WPieceMoves[move[0]] += 1\n",
    "        FavPiece = max(WPieceMoves, key=WPieceMoves.get)\n",
    "        df.loc[i, ['WFavPiece']] = FavPiece\n",
    "        \n",
    "        moves = formatMoves(df.loc[i, 'WMoves'])\n",
    "        for move in moves:\n",
    "            if(move):\n",
    "                if move[0].isupper() and move[0] != 'O':\n",
    "                    BPieceMoves[move[0]] += 1\n",
    "        FavPiece = max(BPieceMoves, key=BPieceMoves.get)\n",
<<<<<<< HEAD
    "        df.loc[i, ['BFavPiece']] = FavPiece"
=======
    "        dfScsful.loc[i, ['BFavPiece']] = FavPiece"
   ]
  },
  {
   "cell_type": "markdown",
   "metadata": {},
   "source": [
    "## Moves Count\n",
    "Moves can either be ordinary move or capturing move, \n",
    " - `WCaptureMovesCount` represent number of capturing moves in the game made by White player\n",
    " - `BCaptureMovesCount` represent number of capturing moves in the game made by Black player\n",
    " - `WOrdMovesCount` represent number of ordinary moves in the game made by White player\n",
    " - `BOrdMovesCount` represent number of oridnary moves in the game made by Black player"
   ]
  },
  {
   "cell_type": "code",
   "execution_count": 35,
   "metadata": {},
   "outputs": [],
   "source": [
    "def captureCount(moves):\n",
    "    count = 0\n",
    "    for move in moves:\n",
    "        if \"x\" in move:\n",
    "            count += 1\n",
    "    return count\n",
    "            "
>>>>>>> eea255bef6a1b44527b3050d98af882562915957
   ]
  },
  {
   "cell_type": "code",
<<<<<<< HEAD
   "execution_count": null,
=======
   "execution_count": 36,
>>>>>>> eea255bef6a1b44527b3050d98af882562915957
   "metadata": {},
   "outputs": [],
   "source": [
    "get_favPiece()"
   ]
  },
  {
   "cell_type": "code",
<<<<<<< HEAD
   "execution_count": null,
=======
   "execution_count": 37,
   "metadata": {},
   "outputs": [],
   "source": [
    "def addmovesCount():\n",
    "    df[\"WCaptureMovesCount\"] = df[\"WMoves\"].apply(captureCount)\n",
    "    df[\"BCaptureMovesCount\"] = df[\"BMoves\"].apply(captureCount)\n",
    "\n",
    "    df[\"WOrdMovesCount\"] = df[\"WMoves\"].apply(ordinaryCount)\n",
    "\n",
    "    df[\"BOrdMovesCount\"] = df[\"BMoves\"].apply(ordinaryCount)"
   ]
  },
  {
   "cell_type": "code",
   "execution_count": 38,
>>>>>>> eea255bef6a1b44527b3050d98af882562915957
   "metadata": {},
   "outputs": [],
   "source": [
    "df.head()"
   ]
  },
  {
<<<<<<< HEAD
   "cell_type": "markdown",
   "metadata": {},
   "source": [
    "## Moves Count\n",
    "Moves can either be ordinary move or capturing move, \n",
    " - `WCaptureMovesCount` represent number of capturing moves in the game made by White player\n",
    " - `BCaptureMovesCount` represent number of capturing moves in the game made by Black player\n",
    " - `WOrdMovesCount` represent number of ordinary moves in the game made by White player\n",
    " - `BOrdMovesCount` represent number of oridnary moves in the game made by Black player"
   ]
  },
  {
   "cell_type": "code",
   "execution_count": null,
   "metadata": {},
   "outputs": [],
   "source": [
    "def captureCount(moves):\n",
    "    count = 0\n",
    "    for move in moves:\n",
    "        if \"x\" in move:\n",
    "            count += 1\n",
    "    return count\n",
    "            "
   ]
  },
  {
   "cell_type": "code",
   "execution_count": null,
   "metadata": {},
   "outputs": [],
   "source": [
    "def ordinaryCount(moves):\n",
    "    count = 0\n",
    "    for move in moves:\n",
    "        if \"x\" not in move:\n",
    "            count += 1\n",
    "    return count"
   ]
  },
  {
   "cell_type": "code",
   "execution_count": null,
   "metadata": {},
   "outputs": [],
   "source": [
    "def addmovesCount():\n",
    "    df[\"WCaptureMovesCount\"] = df[\"WMoves\"].apply(captureCount)\n",
    "    df[\"BCaptureMovesCount\"] = df[\"BMoves\"].apply(captureCount)\n",
    "\n",
    "    df[\"WOrdMovesCount\"] = df[\"WMoves\"].apply(ordinaryCount)\n",
    "\n",
    "    df[\"BOrdMovesCount\"] = df[\"BMoves\"].apply(ordinaryCount)"
   ]
  },
  {
   "cell_type": "code",
   "execution_count": null,
   "metadata": {},
   "outputs": [],
   "source": [
    "addmovesCount()"
   ]
  },
  {
   "cell_type": "code",
   "execution_count": null,
   "metadata": {},
   "outputs": [],
=======
   "cell_type": "code",
   "execution_count": 39,
   "metadata": {},
   "outputs": [
    {
     "data": {
      "text/html": [
       "<div>\n",
       "<style scoped>\n",
       "    .dataframe tbody tr th:only-of-type {\n",
       "        vertical-align: middle;\n",
       "    }\n",
       "\n",
       "    .dataframe tbody tr th {\n",
       "        vertical-align: top;\n",
       "    }\n",
       "\n",
       "    .dataframe thead th {\n",
       "        text-align: right;\n",
       "    }\n",
       "</style>\n",
       "<table border=\"1\" class=\"dataframe\">\n",
       "  <thead>\n",
       "    <tr style=\"text-align: right;\">\n",
       "      <th></th>\n",
       "      <th>Event</th>\n",
       "      <th>Site</th>\n",
       "      <th>GameNumber</th>\n",
       "      <th>WName</th>\n",
       "      <th>BName</th>\n",
       "      <th>WElo</th>\n",
       "      <th>BElo</th>\n",
       "      <th>WRD</th>\n",
       "      <th>BRD</th>\n",
       "      <th>WIsComp</th>\n",
       "      <th>...</th>\n",
       "      <th>PlyCount</th>\n",
       "      <th>Result</th>\n",
       "      <th>WMoves</th>\n",
       "      <th>BMoves</th>\n",
       "      <th>WResult</th>\n",
       "      <th>BResult</th>\n",
       "      <th>WCaptureMovesCount</th>\n",
       "      <th>BCaptureMovesCount</th>\n",
       "      <th>WOrdMovesCount</th>\n",
       "      <th>BOrdMovesCount</th>\n",
       "    </tr>\n",
       "  </thead>\n",
       "  <tbody>\n",
       "    <tr>\n",
       "      <th>0</th>\n",
       "      <td>FICS rated blitz game</td>\n",
       "      <td>FICS freechess.org</td>\n",
       "      <td>470452425</td>\n",
       "      <td>chesspickle</td>\n",
       "      <td>lawrencegern</td>\n",
       "      <td>1963</td>\n",
       "      <td>764</td>\n",
       "      <td>21.2</td>\n",
       "      <td>112.2</td>\n",
       "      <td>Yes</td>\n",
       "      <td>...</td>\n",
       "      <td>43</td>\n",
       "      <td>1-0</td>\n",
       "      <td>[d4, c4, Nf3, e3, Bxc4, Be2, Bd2, Nbxd2, a4, O...</td>\n",
       "      <td>[d5, c6, dxc4, e6, b5, Bb4+, Bxd2+, Nf6, Bd7, ...</td>\n",
       "      <td>1</td>\n",
       "      <td>0</td>\n",
       "      <td>7</td>\n",
       "      <td>5</td>\n",
       "      <td>15</td>\n",
       "      <td>16</td>\n",
       "    </tr>\n",
       "    <tr>\n",
       "      <th>1</th>\n",
       "      <td>FICS rated blitz game</td>\n",
       "      <td>FICS freechess.org</td>\n",
       "      <td>470452424</td>\n",
       "      <td>ZoneBlindTal</td>\n",
       "      <td>AhNeow</td>\n",
       "      <td>1600</td>\n",
       "      <td>1487</td>\n",
       "      <td>36.6</td>\n",
       "      <td>28.5</td>\n",
       "      <td>NaN</td>\n",
       "      <td>...</td>\n",
       "      <td>48</td>\n",
       "      <td>0-1</td>\n",
       "      <td>[e4, Nf3, d4, dxe5, Nc3, Nd5, Bd2, Bb4, Bxf8, ...</td>\n",
       "      <td>[e5, d6, Qe7, dxe5, f6, Qd6, c6, Qd7, cxd5, dx...</td>\n",
       "      <td>0</td>\n",
       "      <td>1</td>\n",
       "      <td>4</td>\n",
       "      <td>6</td>\n",
       "      <td>20</td>\n",
       "      <td>18</td>\n",
       "    </tr>\n",
       "    <tr>\n",
       "      <th>2</th>\n",
       "      <td>FICS rated blitz game</td>\n",
       "      <td>FICS freechess.org</td>\n",
       "      <td>470452423</td>\n",
       "      <td>forlat</td>\n",
       "      <td>naraindra</td>\n",
       "      <td>1948</td>\n",
       "      <td>1089</td>\n",
       "      <td>15.3</td>\n",
       "      <td>30.7</td>\n",
       "      <td>Yes</td>\n",
       "      <td>...</td>\n",
       "      <td>67</td>\n",
       "      <td>1-0</td>\n",
       "      <td>[d4, g3, Bg2, Nf3, O-O, e3, c3, a4, Ne5, cxb4,...</td>\n",
       "      <td>[d5, b5, Bb7, h6, e6, Bd6, Nf6, b4, O-O, Bxb4,...</td>\n",
       "      <td>1</td>\n",
       "      <td>0</td>\n",
       "      <td>10</td>\n",
       "      <td>8</td>\n",
       "      <td>24</td>\n",
       "      <td>25</td>\n",
       "    </tr>\n",
       "    <tr>\n",
       "      <th>3</th>\n",
       "      <td>FICS rated blitz game</td>\n",
       "      <td>FICS freechess.org</td>\n",
       "      <td>470452420</td>\n",
       "      <td>PGierech</td>\n",
       "      <td>kkpsA</td>\n",
       "      <td>1497</td>\n",
       "      <td>1224</td>\n",
       "      <td>32.4</td>\n",
       "      <td>37.6</td>\n",
       "      <td>NaN</td>\n",
       "      <td>...</td>\n",
       "      <td>23</td>\n",
       "      <td>1-0</td>\n",
       "      <td>[e4, d4, dxe5, exd5, Nf3, Be2, Bxf3, Qxf3, Bg5...</td>\n",
       "      <td>[d5, e5, Nc6, Nxe5, Bg4, Nxf3+, Bxf3, Nf6, Be7...</td>\n",
       "      <td>1</td>\n",
       "      <td>0</td>\n",
       "      <td>5</td>\n",
       "      <td>3</td>\n",
       "      <td>7</td>\n",
       "      <td>8</td>\n",
       "    </tr>\n",
       "    <tr>\n",
       "      <th>4</th>\n",
       "      <td>FICS rated blitz game</td>\n",
       "      <td>FICS freechess.org</td>\n",
       "      <td>470452419</td>\n",
       "      <td>Liszt</td>\n",
       "      <td>Sotavaunu</td>\n",
       "      <td>1594</td>\n",
       "      <td>1554</td>\n",
       "      <td>26.8</td>\n",
       "      <td>34.9</td>\n",
       "      <td>NaN</td>\n",
       "      <td>...</td>\n",
       "      <td>53</td>\n",
       "      <td>0-1</td>\n",
       "      <td>[e4, d4, f4, c3, cxd4, e5, Nc3, Bb5, Nf3, Be3,...</td>\n",
       "      <td>[g6, Bg7, c5, cxd4, d5, Nc6, Nh6, O-O, Bg4, Nf...</td>\n",
       "      <td>0</td>\n",
       "      <td>1</td>\n",
       "      <td>5</td>\n",
       "      <td>10</td>\n",
       "      <td>22</td>\n",
       "      <td>16</td>\n",
       "    </tr>\n",
       "  </tbody>\n",
       "</table>\n",
       "<p>5 rows × 27 columns</p>\n",
       "</div>"
      ],
      "text/plain": [
       "                   Event                Site GameNumber         WName  \\\n",
       "0  FICS rated blitz game  FICS freechess.org  470452425   chesspickle   \n",
       "1  FICS rated blitz game  FICS freechess.org  470452424  ZoneBlindTal   \n",
       "2  FICS rated blitz game  FICS freechess.org  470452423        forlat   \n",
       "3  FICS rated blitz game  FICS freechess.org  470452420      PGierech   \n",
       "4  FICS rated blitz game  FICS freechess.org  470452419         Liszt   \n",
       "\n",
       "          BName  WElo  BElo   WRD    BRD WIsComp  ... PlyCount Result  \\\n",
       "0  lawrencegern  1963   764  21.2  112.2     Yes  ...       43    1-0   \n",
       "1        AhNeow  1600  1487  36.6   28.5     NaN  ...       48    0-1   \n",
       "2     naraindra  1948  1089  15.3   30.7     Yes  ...       67    1-0   \n",
       "3         kkpsA  1497  1224  32.4   37.6     NaN  ...       23    1-0   \n",
       "4     Sotavaunu  1594  1554  26.8   34.9     NaN  ...       53    0-1   \n",
       "\n",
       "                                              WMoves  \\\n",
       "0  [d4, c4, Nf3, e3, Bxc4, Be2, Bd2, Nbxd2, a4, O...   \n",
       "1  [e4, Nf3, d4, dxe5, Nc3, Nd5, Bd2, Bb4, Bxf8, ...   \n",
       "2  [d4, g3, Bg2, Nf3, O-O, e3, c3, a4, Ne5, cxb4,...   \n",
       "3  [e4, d4, dxe5, exd5, Nf3, Be2, Bxf3, Qxf3, Bg5...   \n",
       "4  [e4, d4, f4, c3, cxd4, e5, Nc3, Bb5, Nf3, Be3,...   \n",
       "\n",
       "                                              BMoves WResult BResult  \\\n",
       "0  [d5, c6, dxc4, e6, b5, Bb4+, Bxd2+, Nf6, Bd7, ...       1       0   \n",
       "1  [e5, d6, Qe7, dxe5, f6, Qd6, c6, Qd7, cxd5, dx...       0       1   \n",
       "2  [d5, b5, Bb7, h6, e6, Bd6, Nf6, b4, O-O, Bxb4,...       1       0   \n",
       "3  [d5, e5, Nc6, Nxe5, Bg4, Nxf3+, Bxf3, Nf6, Be7...       1       0   \n",
       "4  [g6, Bg7, c5, cxd4, d5, Nc6, Nh6, O-O, Bg4, Nf...       0       1   \n",
       "\n",
       "  WCaptureMovesCount  BCaptureMovesCount WOrdMovesCount BOrdMovesCount  \n",
       "0                  7                   5             15             16  \n",
       "1                  4                   6             20             18  \n",
       "2                 10                   8             24             25  \n",
       "3                  5                   3              7              8  \n",
       "4                  5                  10             22             16  \n",
       "\n",
       "[5 rows x 27 columns]"
      ]
     },
     "execution_count": 39,
     "metadata": {},
     "output_type": "execute_result"
    }
   ],
>>>>>>> eea255bef6a1b44527b3050d98af882562915957
   "source": [
    "df.head()"
   ]
  },
  {
   "cell_type": "markdown",
   "metadata": {},
   "source": [
    "## Number of pieces at the end of the game"
   ]
  },
  {
   "cell_type": "code",
<<<<<<< HEAD
   "execution_count": null,
=======
   "execution_count": 43,
>>>>>>> eea255bef6a1b44527b3050d98af882562915957
   "metadata": {},
   "outputs": [],
   "source": [
    "def addpieces():\n",
    "    df[\"WPiecesCount\"] = np.abs(df[\"BCaptureMovesCount\"].subtract(16))\n",
    "\n",
    "    df[\"BPiecesCount\"] = np.abs(df[\"WCaptureMovesCount\"].subtract(16))"
   ]
  },
  {
   "cell_type": "code",
<<<<<<< HEAD
   "execution_count": null,
=======
   "execution_count": 44,
>>>>>>> eea255bef6a1b44527b3050d98af882562915957
   "metadata": {},
   "outputs": [],
   "source": [
    "addpieces()"
   ]
  },
  {
   "cell_type": "code",
<<<<<<< HEAD
   "execution_count": null,
   "metadata": {},
   "outputs": [],
=======
   "execution_count": 45,
   "metadata": {},
   "outputs": [
    {
     "data": {
      "text/html": [
       "<div>\n",
       "<style scoped>\n",
       "    .dataframe tbody tr th:only-of-type {\n",
       "        vertical-align: middle;\n",
       "    }\n",
       "\n",
       "    .dataframe tbody tr th {\n",
       "        vertical-align: top;\n",
       "    }\n",
       "\n",
       "    .dataframe thead th {\n",
       "        text-align: right;\n",
       "    }\n",
       "</style>\n",
       "<table border=\"1\" class=\"dataframe\">\n",
       "  <thead>\n",
       "    <tr style=\"text-align: right;\">\n",
       "      <th></th>\n",
       "      <th>Event</th>\n",
       "      <th>Site</th>\n",
       "      <th>GameNumber</th>\n",
       "      <th>WName</th>\n",
       "      <th>BName</th>\n",
       "      <th>WElo</th>\n",
       "      <th>BElo</th>\n",
       "      <th>WRD</th>\n",
       "      <th>BRD</th>\n",
       "      <th>WIsComp</th>\n",
       "      <th>...</th>\n",
       "      <th>WMoves</th>\n",
       "      <th>BMoves</th>\n",
       "      <th>WResult</th>\n",
       "      <th>BResult</th>\n",
       "      <th>WCaptureMovesCount</th>\n",
       "      <th>BCaptureMovesCount</th>\n",
       "      <th>WOrdMovesCount</th>\n",
       "      <th>BOrdMovesCount</th>\n",
       "      <th>WPiecesCount</th>\n",
       "      <th>BPiecesCount</th>\n",
       "    </tr>\n",
       "  </thead>\n",
       "  <tbody>\n",
       "    <tr>\n",
       "      <th>0</th>\n",
       "      <td>FICS rated blitz game</td>\n",
       "      <td>FICS freechess.org</td>\n",
       "      <td>470452425</td>\n",
       "      <td>chesspickle</td>\n",
       "      <td>lawrencegern</td>\n",
       "      <td>1963</td>\n",
       "      <td>764</td>\n",
       "      <td>21.2</td>\n",
       "      <td>112.2</td>\n",
       "      <td>Yes</td>\n",
       "      <td>...</td>\n",
       "      <td>[d4, c4, Nf3, e3, Bxc4, Be2, Bd2, Nbxd2, a4, O...</td>\n",
       "      <td>[d5, c6, dxc4, e6, b5, Bb4+, Bxd2+, Nf6, Bd7, ...</td>\n",
       "      <td>1</td>\n",
       "      <td>0</td>\n",
       "      <td>7</td>\n",
       "      <td>5</td>\n",
       "      <td>15</td>\n",
       "      <td>16</td>\n",
       "      <td>11</td>\n",
       "      <td>9</td>\n",
       "    </tr>\n",
       "    <tr>\n",
       "      <th>1</th>\n",
       "      <td>FICS rated blitz game</td>\n",
       "      <td>FICS freechess.org</td>\n",
       "      <td>470452424</td>\n",
       "      <td>ZoneBlindTal</td>\n",
       "      <td>AhNeow</td>\n",
       "      <td>1600</td>\n",
       "      <td>1487</td>\n",
       "      <td>36.6</td>\n",
       "      <td>28.5</td>\n",
       "      <td>NaN</td>\n",
       "      <td>...</td>\n",
       "      <td>[e4, Nf3, d4, dxe5, Nc3, Nd5, Bd2, Bb4, Bxf8, ...</td>\n",
       "      <td>[e5, d6, Qe7, dxe5, f6, Qd6, c6, Qd7, cxd5, dx...</td>\n",
       "      <td>0</td>\n",
       "      <td>1</td>\n",
       "      <td>4</td>\n",
       "      <td>6</td>\n",
       "      <td>20</td>\n",
       "      <td>18</td>\n",
       "      <td>10</td>\n",
       "      <td>12</td>\n",
       "    </tr>\n",
       "    <tr>\n",
       "      <th>2</th>\n",
       "      <td>FICS rated blitz game</td>\n",
       "      <td>FICS freechess.org</td>\n",
       "      <td>470452423</td>\n",
       "      <td>forlat</td>\n",
       "      <td>naraindra</td>\n",
       "      <td>1948</td>\n",
       "      <td>1089</td>\n",
       "      <td>15.3</td>\n",
       "      <td>30.7</td>\n",
       "      <td>Yes</td>\n",
       "      <td>...</td>\n",
       "      <td>[d4, g3, Bg2, Nf3, O-O, e3, c3, a4, Ne5, cxb4,...</td>\n",
       "      <td>[d5, b5, Bb7, h6, e6, Bd6, Nf6, b4, O-O, Bxb4,...</td>\n",
       "      <td>1</td>\n",
       "      <td>0</td>\n",
       "      <td>10</td>\n",
       "      <td>8</td>\n",
       "      <td>24</td>\n",
       "      <td>25</td>\n",
       "      <td>8</td>\n",
       "      <td>6</td>\n",
       "    </tr>\n",
       "    <tr>\n",
       "      <th>3</th>\n",
       "      <td>FICS rated blitz game</td>\n",
       "      <td>FICS freechess.org</td>\n",
       "      <td>470452420</td>\n",
       "      <td>PGierech</td>\n",
       "      <td>kkpsA</td>\n",
       "      <td>1497</td>\n",
       "      <td>1224</td>\n",
       "      <td>32.4</td>\n",
       "      <td>37.6</td>\n",
       "      <td>NaN</td>\n",
       "      <td>...</td>\n",
       "      <td>[e4, d4, dxe5, exd5, Nf3, Be2, Bxf3, Qxf3, Bg5...</td>\n",
       "      <td>[d5, e5, Nc6, Nxe5, Bg4, Nxf3+, Bxf3, Nf6, Be7...</td>\n",
       "      <td>1</td>\n",
       "      <td>0</td>\n",
       "      <td>5</td>\n",
       "      <td>3</td>\n",
       "      <td>7</td>\n",
       "      <td>8</td>\n",
       "      <td>13</td>\n",
       "      <td>11</td>\n",
       "    </tr>\n",
       "    <tr>\n",
       "      <th>4</th>\n",
       "      <td>FICS rated blitz game</td>\n",
       "      <td>FICS freechess.org</td>\n",
       "      <td>470452419</td>\n",
       "      <td>Liszt</td>\n",
       "      <td>Sotavaunu</td>\n",
       "      <td>1594</td>\n",
       "      <td>1554</td>\n",
       "      <td>26.8</td>\n",
       "      <td>34.9</td>\n",
       "      <td>NaN</td>\n",
       "      <td>...</td>\n",
       "      <td>[e4, d4, f4, c3, cxd4, e5, Nc3, Bb5, Nf3, Be3,...</td>\n",
       "      <td>[g6, Bg7, c5, cxd4, d5, Nc6, Nh6, O-O, Bg4, Nf...</td>\n",
       "      <td>0</td>\n",
       "      <td>1</td>\n",
       "      <td>5</td>\n",
       "      <td>10</td>\n",
       "      <td>22</td>\n",
       "      <td>16</td>\n",
       "      <td>6</td>\n",
       "      <td>11</td>\n",
       "    </tr>\n",
       "  </tbody>\n",
       "</table>\n",
       "<p>5 rows × 29 columns</p>\n",
       "</div>"
      ],
      "text/plain": [
       "                   Event                Site GameNumber         WName  \\\n",
       "0  FICS rated blitz game  FICS freechess.org  470452425   chesspickle   \n",
       "1  FICS rated blitz game  FICS freechess.org  470452424  ZoneBlindTal   \n",
       "2  FICS rated blitz game  FICS freechess.org  470452423        forlat   \n",
       "3  FICS rated blitz game  FICS freechess.org  470452420      PGierech   \n",
       "4  FICS rated blitz game  FICS freechess.org  470452419         Liszt   \n",
       "\n",
       "          BName  WElo  BElo   WRD    BRD WIsComp  ...  \\\n",
       "0  lawrencegern  1963   764  21.2  112.2     Yes  ...   \n",
       "1        AhNeow  1600  1487  36.6   28.5     NaN  ...   \n",
       "2     naraindra  1948  1089  15.3   30.7     Yes  ...   \n",
       "3         kkpsA  1497  1224  32.4   37.6     NaN  ...   \n",
       "4     Sotavaunu  1594  1554  26.8   34.9     NaN  ...   \n",
       "\n",
       "                                              WMoves  \\\n",
       "0  [d4, c4, Nf3, e3, Bxc4, Be2, Bd2, Nbxd2, a4, O...   \n",
       "1  [e4, Nf3, d4, dxe5, Nc3, Nd5, Bd2, Bb4, Bxf8, ...   \n",
       "2  [d4, g3, Bg2, Nf3, O-O, e3, c3, a4, Ne5, cxb4,...   \n",
       "3  [e4, d4, dxe5, exd5, Nf3, Be2, Bxf3, Qxf3, Bg5...   \n",
       "4  [e4, d4, f4, c3, cxd4, e5, Nc3, Bb5, Nf3, Be3,...   \n",
       "\n",
       "                                              BMoves WResult BResult  \\\n",
       "0  [d5, c6, dxc4, e6, b5, Bb4+, Bxd2+, Nf6, Bd7, ...       1       0   \n",
       "1  [e5, d6, Qe7, dxe5, f6, Qd6, c6, Qd7, cxd5, dx...       0       1   \n",
       "2  [d5, b5, Bb7, h6, e6, Bd6, Nf6, b4, O-O, Bxb4,...       1       0   \n",
       "3  [d5, e5, Nc6, Nxe5, Bg4, Nxf3+, Bxf3, Nf6, Be7...       1       0   \n",
       "4  [g6, Bg7, c5, cxd4, d5, Nc6, Nh6, O-O, Bg4, Nf...       0       1   \n",
       "\n",
       "  WCaptureMovesCount BCaptureMovesCount WOrdMovesCount  BOrdMovesCount  \\\n",
       "0                  7                  5             15              16   \n",
       "1                  4                  6             20              18   \n",
       "2                 10                  8             24              25   \n",
       "3                  5                  3              7               8   \n",
       "4                  5                 10             22              16   \n",
       "\n",
       "  WPiecesCount BPiecesCount  \n",
       "0           11            9  \n",
       "1           10           12  \n",
       "2            8            6  \n",
       "3           13           11  \n",
       "4            6           11  \n",
       "\n",
       "[5 rows x 29 columns]"
      ]
     },
     "execution_count": 45,
     "metadata": {},
     "output_type": "execute_result"
    }
   ],
>>>>>>> eea255bef6a1b44527b3050d98af882562915957
   "source": [
    "df.head()"
   ]
  },
  {
   "cell_type": "markdown",
   "metadata": {},
   "source": [
    "## Pairwise capture count\n",
    "    - Uppercase letter(R,N,B,Q,K,P) represent White pieces \n",
    "    - lowercase letter(r,n,b,q,k,p) represent Black pieces\n",
    "    - Column \"Pp\" represent P captures p count"
   ]
  },
  {
   "cell_type": "code",
<<<<<<< HEAD
   "execution_count": null,
=======
   "execution_count": 51,
>>>>>>> eea255bef6a1b44527b3050d98af882562915957
   "metadata": {},
   "outputs": [],
   "source": [
    "def pairCaptureDict(WMoves, BMoves):\n",
    "#     Dictionary to store count\n",
    "    captureCount = dict()\n",
    "    for attacker in chess.UNICODE_PIECE_SYMBOLS.keys():\n",
    "        for captured in chess.UNICODE_PIECE_SYMBOLS.keys():\n",
    "            key = attacker+captured\n",
    "            if (not key.isupper()) and (not key.islower()):\n",
    "                captureCount[key] = 0\n",
    "                \n",
    "                \n",
    "    board = chess.Board()\n",
    " # zipping all the moves and merging into one list \n",
    "    allMoves = zip(WMoves, BMoves)\n",
    "    zippedMoves = list(chain.from_iterable(allMoves))\n",
    "\n",
    "    for move in zippedMoves:\n",
    "        if board.is_capture(board.parse_san(move)):\n",
    "            moveInUCI = board.uci(board.parse_san(move))\n",
    "#                 print(\"move:\",move)\n",
    "            attackerPosition, capturedPosition = moveInUCI[:2], moveInUCI[2:4]\n",
    "#                 print(\"ap,cp:\"+attackerPosition, capturedPosition)\n",
    "            attacker = board.piece_at(chess.SQUARE_NAMES.index(attackerPosition))\n",
    "            captured = board.piece_at(chess.SQUARE_NAMES.index(capturedPosition))\n",
    "#                 print(\"a,c:\",attacker,captured)\n",
    "            key = (str(attacker)+str(captured))\n",
    "            if (key in captureCount.keys()):\n",
    "                    captureCount[key] += 1\n",
    "        board.push_san(move)\n",
    "    return captureCount\n"
   ]
  },
  {
   "cell_type": "code",
   "execution_count": null,
   "metadata": {},
   "outputs": [],
   "source": [
    "#  Adds the features to the dataframe \n",
    "df['pairCaptureDict'] = df.apply(lambda x: pairCaptureDict(x.WMoves, x.BMoves), axis=1)\n",
    "\n",
    "new_df = pd.DataFrame(list(df[\"pairCaptureDict\"]))\n",
    "\n",
    "df = pd.concat([df, new_df], axis=1)\n",
    "\n",
    "df = df.drop(columns = \"pairCaptureDict\")"
   ]
  },
  {
   "cell_type": "code",
   "execution_count": null,
<<<<<<< HEAD
   "metadata": {
    "scrolled": true
   },
   "outputs": [],
   "source": [
    "df.head()"
   ]
  },
  {
   "cell_type": "markdown",
   "metadata": {},
   "source": [
    "## finding first check"
   ]
  },
  {
   "cell_type": "code",
   "execution_count": null,
   "metadata": {},
   "outputs": [],
   "source": [
    "def find_check(entry):\n",
    "    n_moves = 0;\n",
    "    for i in range(len(entry[\"WMoves\"])):\n",
    "        n_moves+=1\n",
    "        if entry[\"WMoves\"][i][-1] == \"+\":\n",
    "            return n_moves\n",
    "        if i == len(entry[\"WMoves\"]) - 1 and len(entry[\"WMoves\"]) != len(entry[\"BMoves\"]):\n",
    "            return -1\n",
    "        if entry[\"BMoves\"][i][-1] == \"+\":\n",
    "            return n_moves\n",
    "    return -1\n",
    "\n",
    "def find_checks(df):\n",
    "    chks = []\n",
    "    for i in range(len(df)):\n",
    "        chks.append(find_check(df.iloc[i]))\n",
    "    df[\"first_check\"] = chks"
   ]
  },
  {
   "cell_type": "code",
   "execution_count": null,
   "metadata": {},
   "outputs": [],
   "source": [
    "find_checks(df)"
   ]
  },
  {
   "cell_type": "code",
   "execution_count": null,
   "metadata": {},
   "outputs": [],
   "source": [
    "pd.set_option('display.max_columns', None)"
   ]
  },
  {
   "cell_type": "markdown",
   "metadata": {},
   "source": [
    "## High skill openings"
   ]
  },
  {
   "cell_type": "code",
   "execution_count": null,
   "metadata": {},
   "outputs": [],
   "source": [
    "def high_skill_openings(df):\n",
    "    open_elo = dd(int)\n",
    "    open_count = dd(int)\n",
    "    bOpens = []\n",
    "    wOpens = []\n",
    "    for i in range(len(df)):\n",
    "        wOpen = tuple(df[\"WMoves\"][i][0:5])\n",
    "        wOpens.append(wOpen)\n",
    "        wSkill = df[\"WElo\"][i]\n",
    "        open_elo[wOpen] += wSkill\n",
    "        open_count[wOpen] += 1\n",
    "        bOpen = tuple(df[\"BMoves\"][i][0:5])\n",
    "        bOpens.append(wOpen)\n",
    "        bSkill = df[\"BElo\"][i]\n",
    "        open_elo[bOpen] += bSkill\n",
    "        open_count[bOpen] += 1\n",
    "        \n",
    "    for key in open_elo.keys():\n",
    "        open_elo[key] = open_elo[key]/open_count[key]\n",
    "    return open_elo, bOpens, wOpens\n",
    "\n",
    "def openings(df):\n",
    "    elos, bOpens, wOpens = high_skill_openings(df)\n",
    "    df[\"bOpens\"] = bOpens\n",
    "    df[\"wOpens\"] = wOpens"
   ]
  },
  {
   "cell_type": "code",
   "execution_count": null,
   "metadata": {},
   "outputs": [],
   "source": [
    "openings(df)"
=======
   "metadata": {},
   "outputs": [],
   "source": [
    "df.head()"
>>>>>>> eea255bef6a1b44527b3050d98af882562915957
   ]
  },
  {
   "cell_type": "code",
   "execution_count": null,
   "metadata": {},
   "outputs": [],
   "source": [
    "df.head()"
   ]
  },
  {
   "cell_type": "markdown",
   "metadata": {},
   "source": [
    "**Score Calculation**"
   ]
  },
  {
   "cell_type": "code",
   "execution_count": null,
   "metadata": {},
   "outputs": [],
   "source": [
    "InitialBoardW = ['Pa2', 'Pb2', 'Pc2', 'Pd2', 'Pe2', 'Pf2', 'Pg2', 'Ph2', 'Ra1', 'Nb1', 'Bc1', 'Qd1', 'Ke1', 'Bf1', 'Ng1', 'Rh1']\n",
    "InitialBoardB = ['Pa7', 'Pb7', 'Pc7', 'Pd7', 'Pe7', 'Pf7', 'Pg7', 'Ph7', 'Ra8', 'Nb8', 'Bc8', 'Qd8', 'Ke8', 'Bf8', 'Ng8', 'Rh8']\n",
    "\n",
    "PieceVal = {'P': 1, 'N': 3, 'B': 3, 'R': 5, 'Q': 9, 'K':100}\n",
    "\n",
    "def calculateScore(movesList):\n",
    "    scoreW = scoreB = 39                                                                                                                           \n",
    "    for i in range(len(movesList)):\n",
    "        if 'x' in movesList[i]:       \n",
    "            posIndex = movesList[i].index('x') + 1\n",
    "            position = movesList[i][posIndex:]\n",
    "            j = i-1     \n",
    "            while j >= 0:\n",
    "                if position in movesList[j]:\n",
    "                    if position[0] == movesList[j][0]:\n",
    "                        if j%2 == 1:\n",
    "                            scoreB -= 1\n",
    "                        else:\n",
    "                            scoreW -= 1\n",
    "                    elif 'x' in movesList[j]:\n",
    "                        if movesList[j][0].islower():\n",
    "                            if j%2 == 1:\n",
    "                                scoreB -= 1\n",
    "                            else:\n",
    "                                scoreW -= 1\n",
    "                        else:\n",
    "                            if j%2 == 1:\n",
    "                                scoreB -= PieceVal[movesList[j][0]]\n",
    "                            else:\n",
    "                                scoreW -= PieceVal[movesList[j][0]]\n",
    "                            \n",
    "                    else:\n",
    "                        if j%2 == 1:\n",
    "                            scoreB -= PieceVal[movesList[j][0]]\n",
    "                        else:\n",
    "                            scoreW -= PieceVal[movesList[j][0]]\n",
    "                j -= 1\n",
    "                \n",
    "            if i%2 == 0:\n",
    "                for piece in InitialBoardB:\n",
    "                    if position in piece:\n",
    "                        scoreB -= PieceVal[piece[0]]\n",
    "            else:\n",
    "                for piece in InitialBoardW:\n",
    "                    if position in piece:\n",
    "                        scoreW -= PieceVal[piece[0]]        \n",
    "        \n",
    "    return scoreW, scoreB"
   ]
  },
  {
   "cell_type": "code",
   "execution_count": null,
   "metadata": {},
   "outputs": [],
   "source": [
    "completeList = []\n",
    "for i in range(len(df)):\n",
    "    moves = []\n",
    "    wmoves = df.loc[i,'WMoves']\n",
    "    bmoves = df.loc[i,'BMoves']\n",
    "    if len(wmoves) > len(bmoves):\n",
    "        for k in range(len(bmoves)):\n",
    "            moves.append(wmoves[k])\n",
    "            moves.append(bmoves[k])\n",
    "        #moves.append(wmoves[k+1])\n",
    "    elif len(wmoves) == len(bmoves):\n",
    "        for k in range(len(bmoves)):\n",
    "            moves.append(wmoves[k])\n",
    "            moves.append(bmoves[k])\n",
    "    else:\n",
    "        for k in range(len(wmoves)):\n",
    "            moves.append(wmoves[k])\n",
    "            moves.append(bmoves[k])\n",
    "        moves.append(bmoves[k+1])\n",
    "    completeList.append(moves)\n",
    "df['Moves'] = completeList"
   ]
  },
  {
   "cell_type": "code",
   "execution_count": null,
   "metadata": {},
   "outputs": [],
   "source": [
    "wscoreList = []\n",
    "bscoreList = []\n",
    "for i in range(len(df)):\n",
    "    w, b = calculateScore(df.loc[i, 'Moves'])\n",
    "    wscoreList.append(w)\n",
    "    bscoreList.append(b)\n",
    "    \n",
    "df['WScore'] = wscoreList\n",
    "df['BScore'] = bscoreList"
   ]
  }
 ],
 "metadata": {
  "kernelspec": {
   "display_name": "Python 3",
   "language": "python",
   "name": "python3"
  },
  "language_info": {
   "codemirror_mode": {
    "name": "ipython",
    "version": 3
   },
   "file_extension": ".py",
   "mimetype": "text/x-python",
   "name": "python",
   "nbconvert_exporter": "python",
   "pygments_lexer": "ipython3",
   "version": "3.6.9"
  }
 },
 "nbformat": 4,
 "nbformat_minor": 4
}
