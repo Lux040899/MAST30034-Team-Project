{
 "cells": [
  {
   "cell_type": "code",
   "execution_count": null,
   "metadata": {},
   "outputs": [],
   "source": [
    "!pip3 install python-chess"
   ]
  },
  {
   "cell_type": "code",
   "execution_count": 1,
   "metadata": {},
   "outputs": [],
   "source": [
    "import pandas as pd\n",
    "import ast\n",
    "from collections import defaultdict as dd\n",
    "import regex as re\n",
    "import seaborn as sns\n",
    "import numpy as np\n",
    "import chess\n",
    "from itertools import chain\n"
   ]
  },
  {
   "cell_type": "markdown",
   "metadata": {},
   "source": [
    "# Descriptive Analytics"
   ]
  },
  {
   "cell_type": "code",
   "execution_count": null,
   "metadata": {},
   "outputs": [],
   "source": [
    "df = pd.read_csv(\"sample.csv\", header=0, index_col = 0)"
   ]
  },
  {
   "cell_type": "code",
   "execution_count": null,
   "metadata": {
    "scrolled": true
   },
   "outputs": [],
   "source": [
    "df.head()"
   ]
  },
  {
   "cell_type": "code",
   "execution_count": null,
   "metadata": {},
   "outputs": [],
   "source": [
    "df[\"BMoves\"] = df[\"BMoves\"].apply(ast.literal_eval)\n",
    "df[\"WMoves\"] = df[\"WMoves\"].apply(ast.literal_eval)"
   ]
  },
  {
   "cell_type": "code",
   "execution_count": null,
   "metadata": {},
   "outputs": [],
   "source": [
    "df = df[df[\"WMoves\"] != \"eow\"]\n",
    "df = df[df[\"BMoves\"] != \"eow\"]"
   ]
  },
  {
   "cell_type": "code",
   "execution_count": null,
   "metadata": {},
   "outputs": [],
   "source": [
    "df.loc[2,'WMoves']"
   ]
  },
  {
   "cell_type": "markdown",
   "metadata": {},
   "source": [
    "## Most popular square?"
   ]
  },
  {
   "cell_type": "code",
   "execution_count": null,
   "metadata": {},
   "outputs": [],
   "source": [
    "lookups = [\n",
    "    (\"^.*[a-h][1-8].*$\", \"normal move\"),\n",
    "    (\"^O-O$\", \"kingside castle\"),\n",
    "    (\"^O-O-O$\", \"queenside castle\"),\n",
    "    (\"^.+[QNBR]\\+*#*$\", \"pawn conversion\"),\n",
    "    (\"^.*\\+$\", \"check\"),\n",
    "    (\"^.*#$\", \"checkmate\")\n",
    "]\n",
    "\n",
    "def is_not_castle(move):\n",
    "    return not bool(re.search(\"O-O\",move))\n"
   ]
  },
  {
   "cell_type": "code",
   "execution_count": null,
   "metadata": {},
   "outputs": [],
   "source": [
    "square_dict = dd(int)\n",
    "\n",
    "def count_squares(moves, colour):\n",
    "    for move in moves:\n",
    "        if is_not_castle(move):\n",
    "            square_dict[re.findall(\"[a-h][1-8]\",move)[-1]] += 1\n",
    "        else:\n",
    "            if re.search(\"^O-O$\", move):\n",
    "                if colour==\"W\":\n",
    "                    square_dict[\"g1\"] += 1\n",
    "                else:\n",
    "                    square_dict[\"g8\"] += 1\n",
    "            else: \n",
    "                if colour==\"W\":\n",
    "                    square_dict[\"c1\"] += 1\n",
    "                else:\n",
    "                    square_dict[\"c8\"] += 1\n",
    "    return\n"
   ]
  },
  {
   "cell_type": "code",
   "execution_count": null,
   "metadata": {
    "scrolled": true
   },
   "outputs": [],
   "source": [
    "df[\"BMoves\"].apply(lambda x : count_squares(x,'B'))\n",
    "df[\"WMoves\"].apply(lambda x : count_squares(x,'W'))"
   ]
  },
  {
   "cell_type": "markdown",
   "metadata": {},
   "source": [
    "## How many moves until a game becomes unique?"
   ]
  },
  {
   "cell_type": "code",
   "execution_count": null,
   "metadata": {},
   "outputs": [],
   "source": [
    "df.loc[195]"
   ]
  },
  {
   "cell_type": "code",
   "execution_count": null,
   "metadata": {},
   "outputs": [],
   "source": [
    "sample_df = df.head(1000)"
   ]
  },
  {
   "cell_type": "code",
   "execution_count": null,
   "metadata": {
    "scrolled": true
   },
   "outputs": [],
   "source": [
    "moves_until_unique = dd(int)\n",
    "\n",
    "for i in range(len(sample_df[\"WMoves\"])):\n",
    "    for j in range(i,len(sample_df[\"WMoves\"])):\n",
    "        move_count = -1\n",
    "        g1move = \"\"\n",
    "        g2move = \"\"\n",
    "        while g1move==g2move:\n",
    "            move_count += 1\n",
    "            try:\n",
    "                if move_count%2 == 0:\n",
    "                    #White's move\n",
    "                    g1move = df[\"WMoves\"][i][move_count//2]\n",
    "                    g2move = df[\"WMoves\"][j][move_count//2]\n",
    "                else:\n",
    "                    #Black's move\n",
    "                    g1move = df[\"BMoves\"][i][move_count//2]\n",
    "                    g2move = df[\"BMoves\"][j][move_count//2]\n",
    "            except:\n",
    "                #end of game\n",
    "                g1move = 1\n",
    "                g2move = 2\n",
    "        if moves_until_unique[i] < move_count:\n",
    "            moves_until_unique[i] = move_count\n",
    "        if moves_until_unique[j] < move_count:\n",
    "            moves_until_unique[j] = move_count\n",
    "            "
   ]
  },
  {
   "cell_type": "code",
   "execution_count": null,
   "metadata": {},
   "outputs": [],
   "source": [
    "moves_until_unique"
   ]
  },
  {
   "cell_type": "markdown",
   "metadata": {},
   "source": [
    "## CapturesByPiece\n",
    "function takes as argument the pandas dataframe and returns the pandas dataframe with capture count for pair of pieces"
   ]
  },
  {
   "cell_type": "code",
   "execution_count": null,
   "metadata": {},
   "outputs": [],
   "source": [
    "def capturesByPiece(df):\n",
    "    # Dict of dict to store the count of captures made by a piece\n",
    "\n",
    "    captureCount = dict()\n",
    "    for attacker in chess.UNICODE_PIECE_SYMBOLS.keys():\n",
    "        captureCount[attacker] = dict()\n",
    "        for captured in chess.UNICODE_PIECE_SYMBOLS.keys():\n",
    "            captureCount[attacker][captured] = 0\n",
    "    \n",
    "  \n",
    "            \n",
    "    for index, row in df.iterrows():\n",
    "        WMoves = row[\"WMoves\"]\n",
    "        BMoves = row[\"BMoves\"]\n",
    "\n",
    "        board = chess.Board()\n",
    "\n",
    "        # zipping all the moves and merging into one list \n",
    "        allMoves = zip(WMoves, BMoves)\n",
    "        zippedMoves = list(chain.from_iterable(allMoves))\n",
    "\n",
    "        for move in zippedMoves:\n",
    "            if board.is_capture(board.parse_san(move)):\n",
    "                moveInUCI = board.uci(board.parse_san(move))\n",
    "#                 print(\"move:\",move)\n",
    "                attackerPosition, capturedPosition = moveInUCI[:2], moveInUCI[2:4]\n",
    "#                 print(\"ap,cp:\"+attackerPosition, capturedPosition)\n",
    "                attacker = board.piece_at(chess.SQUARE_NAMES.index(attackerPosition))\n",
    "                captured = board.piece_at(chess.SQUARE_NAMES.index(capturedPosition))\n",
    "#                 print(\"a,c:\",attacker,captured)\n",
    "                \n",
    "                if (str(attacker) in captureCount.keys()) and (str(captured) in captureCount.keys()):\n",
    "                    captureCount[str(attacker)][str(captured)] += 1\n",
    "        \n",
    "            board.push_san(move)\n",
    "        \n",
    "#         print()\n",
    "    \n",
    "    capture_count = pd.DataFrame(captureCount)\n",
    "    capture_count.rename(columns = chess.UNICODE_PIECE_SYMBOLS, index =  chess.UNICODE_PIECE_SYMBOLS, inplace = True) \n",
    "\n",
    "    return  capture_count"
   ]
  },
  {
   "cell_type": "code",
   "execution_count": null,
   "metadata": {
    "scrolled": false
   },
   "outputs": [],
   "source": [
    "%%time\n",
    "sns.heatmap(capturesByPiece(df.head(5)), cmap=\"YlGnBu\")"
   ]
  },
  {
   "cell_type": "code",
   "execution_count": null,
   "metadata": {},
   "outputs": [],
   "source": []
  },
  {
   "cell_type": "markdown",
   "metadata": {},
   "source": [
    "# Prescriptive Analytics"
   ]
  },
  {
   "cell_type": "markdown",
   "metadata": {},
   "source": [
    "## Feature Engineering"
   ]
  },
  {
   "cell_type": "markdown",
   "metadata": {},
   "source": [
    "## Add columns for who won game"
   ]
  },
  {
   "cell_type": "code",
   "execution_count": null,
   "metadata": {},
   "outputs": [],
   "source": [
    "def get_player_result(result, colour):\n",
    "    if colour=='B':\n",
    "        if result[-1]=='0':\n",
    "            return 0\n",
    "        else:\n",
    "            return 1\n",
    "    else:\n",
    "        if result[0]=='0':\n",
    "            return 0\n",
    "        else:\n",
    "            return 1\n",
    "\n",
    "def add_WL_columns(df):\n",
    "    df['WResult'] = df[\"Result\"].apply(lambda x: get_player_result(x, 'W'))\n",
    "    df['BResult'] = df[\"Result\"].apply(lambda x: get_player_result(x, 'B'))\n",
    "    return"
   ]
  },
  {
   "cell_type": "code",
   "execution_count": null,
   "metadata": {},
   "outputs": [],
   "source": [
    "add_WL_columns(df)"
   ]
  },
  {
   "cell_type": "markdown",
   "metadata": {},
   "source": [
    "## Add columns for pawn conversions"
   ]
  },
  {
   "cell_type": "code",
   "execution_count": null,
   "metadata": {},
   "outputs": [],
   "source": [
    "def get_conversions(moves):\n",
    "    conversions = []\n",
    "    for move in moves:\n",
    "        if re.match(lookups[3][0], move) is not None:\n",
    "            conversions.append(re.search(\"(?<=[a-h][1-8]=)[QNBR]\",move).group(0))\n",
    "    return len(conversions)\n",
    "\n",
    "def add_conversions_columns(df):\n",
    "    df[\"WConversions\"] = df[\"WMoves\"].apply(lambda x: get_conversions(x))\n",
    "    df[\"BConversions\"] = df[\"BMoves\"].apply(lambda x: get_conversions(x))"
   ]
  },
  {
   "cell_type": "code",
   "execution_count": null,
   "metadata": {},
   "outputs": [],
   "source": [
    "add_conversions_columns(df)"
   ]
  },
  {
   "cell_type": "markdown",
   "metadata": {},
   "source": [
    "**Add columns for what piece was used the most by a player**"
   ]
  },
  {
   "cell_type": "code",
   "execution_count": null,
   "metadata": {},
   "outputs": [],
   "source": [
    "df['WFavPiece'] = 'null'\n",
    "df['BFavPiece'] = 'null'\n",
    "\n",
    "WPieceMoves = {'N': 0, 'B': 0, 'R': 0, 'Q': 0, 'K':0}\n",
    "BPieceMoves = {'N': 0, 'B': 0, 'R': 0, 'Q': 0, 'K':0}\n",
    "\n",
    "def get_favPiece():\n",
    "    for i in range(len(df)):\n",
    "        moves = df.loc[i, 'WMoves']\n",
    "        for move in moves:\n",
    "            if(move):\n",
    "                if move[0].isupper() and move[0] != 'O':\n",
    "                    WPieceMoves[move[0]] += 1\n",
    "        FavPiece = max(WPieceMoves, key=WPieceMoves.get)\n",
    "        df.loc[i, ['WFavPiece']] = FavPiece\n",
    "        \n",
    "        moves = df.loc[i, 'BMoves']\n",
    "        for move in moves:\n",
    "            if(move):\n",
    "                if move[0].isupper() and move[0] != 'O':\n",
    "                    BPieceMoves[move[0]] += 1\n",
    "        FavPiece = max(BPieceMoves, key=BPieceMoves.get)\n",
    "        df.loc[i, ['BFavPiece']] = FavPiece"
   ]
  },
  {
   "cell_type": "code",
   "execution_count": null,
   "metadata": {},
   "outputs": [],
   "source": [
    "get_favPiece()"
   ]
  },
  {
   "cell_type": "markdown",
   "metadata": {},
   "source": [
    "## Moves Count\n",
    "Moves can either be ordinary move or capturing move, \n",
    " - `WCaptureMovesCount` represent number of capturing moves in the game made by White player\n",
    " - `BCaptureMovesCount` represent number of capturing moves in the game made by Black player\n",
    " - `WOrdMovesCount` represent number of ordinary moves in the game made by White player\n",
    " - `BOrdMovesCount` represent number of oridnary moves in the game made by Black player"
   ]
  },
  {
   "cell_type": "code",
   "execution_count": null,
   "metadata": {},
   "outputs": [],
   "source": [
    "def captureCount(moves):\n",
    "    count = 0\n",
    "    for move in moves:\n",
    "        if \"x\" in move:\n",
    "            count += 1\n",
    "    return count\n",
    "            "
   ]
  },
  {
   "cell_type": "code",
   "execution_count": null,
   "metadata": {},
   "outputs": [],
   "source": [
    "def ordinaryCount(moves):\n",
    "    count = 0\n",
    "    for move in moves:\n",
    "        if \"x\" not in move:\n",
    "            count += 1\n",
    "    return count"
   ]
  },
  {
   "cell_type": "code",
   "execution_count": null,
   "metadata": {},
   "outputs": [],
   "source": [
    "def addmovesCount():\n",
    "    df[\"WCaptureMovesCount\"] = df[\"WMoves\"].apply(captureCount)\n",
    "    df[\"BCaptureMovesCount\"] = df[\"BMoves\"].apply(captureCount)\n",
    "\n",
    "    df[\"WOrdMovesCount\"] = df[\"WMoves\"].apply(ordinaryCount)\n",
    "\n",
    "    df[\"BOrdMovesCount\"] = df[\"BMoves\"].apply(ordinaryCount)"
   ]
  },
  {
   "cell_type": "code",
   "execution_count": null,
   "metadata": {},
   "outputs": [],
   "source": [
    "addmovesCount()"
   ]
  },
  {
   "cell_type": "markdown",
   "metadata": {},
   "source": [
    "## Number of pieces at the end of the game"
   ]
  },
  {
   "cell_type": "code",
   "execution_count": null,
   "metadata": {},
   "outputs": [],
   "source": [
    "def addpieces():\n",
    "    df[\"WPiecesCount\"] = np.abs(df[\"BCaptureMovesCount\"].subtract(16))\n",
    "\n",
    "    df[\"BPiecesCount\"] = np.abs(df[\"WCaptureMovesCount\"].subtract(16))"
   ]
  },
  {
   "cell_type": "code",
   "execution_count": null,
   "metadata": {},
   "outputs": [],
   "source": [
    "addpieces()"
   ]
  },
  {
   "cell_type": "markdown",
   "metadata": {},
   "source": [
    "## Pairwise capture count\n",
    "    - Uppercase letter(R,N,B,Q,K,P) represent White pieces \n",
    "    - lowercase letter(r,n,b,q,k,p) represent Black pieces\n",
    "    - Column \"Pp\" represent P captures p count"
   ]
  },
  {
   "cell_type": "code",
   "execution_count": null,
   "metadata": {},
   "outputs": [],
   "source": [
    "def pairCaptureDict(WMoves, BMoves):\n",
    "#     Dictionary to store count\n",
    "    captureCount = dict()\n",
    "    for attacker in chess.UNICODE_PIECE_SYMBOLS.keys():\n",
    "        for captured in chess.UNICODE_PIECE_SYMBOLS.keys():\n",
    "            key = attacker+captured\n",
    "            if (not key.isupper()) and (not key.islower()):\n",
    "                captureCount[key] = 0\n",
    "                \n",
    "                \n",
    "    board = chess.Board()\n",
    " # zipping all the moves and merging into one list \n",
    "    allMoves = zip(WMoves, BMoves)\n",
    "    zippedMoves = list(chain.from_iterable(allMoves))\n",
    "\n",
    "    for move in zippedMoves:\n",
    "        if board.is_capture(board.parse_san(move)):\n",
    "            moveInUCI = board.uci(board.parse_san(move))\n",
    "#                 print(\"move:\",move)\n",
    "            attackerPosition, capturedPosition = moveInUCI[:2], moveInUCI[2:4]\n",
    "#                 print(\"ap,cp:\"+attackerPosition, capturedPosition)\n",
    "            attacker = board.piece_at(chess.SQUARE_NAMES.index(attackerPosition))\n",
    "            captured = board.piece_at(chess.SQUARE_NAMES.index(capturedPosition))\n",
    "#                 print(\"a,c:\",attacker,captured)\n",
    "            key = (str(attacker)+str(captured))\n",
    "            if (key in captureCount.keys()):\n",
    "                    captureCount[key] += 1\n",
    "        board.push_san(move)\n",
    "    return captureCount\n"
   ]
  },
  {
   "cell_type": "code",
   "execution_count": null,
   "metadata": {},
   "outputs": [],
   "source": [
    "#  Adds the features to the dataframe \n",
    "df['pairCaptureDict'] = df.apply(lambda x: pairCaptureDict(x.WMoves, x.BMoves), axis=1)\n",
    "\n",
    "new_df = pd.DataFrame(list(df[\"pairCaptureDict\"]))\n",
    "\n",
    "df = pd.concat([df, new_df], axis=1)\n",
    "\n",
    "df = df.drop(columns = \"pairCaptureDict\")"
   ]
  },
  {
   "cell_type": "code",
   "execution_count": null,
   "metadata": {
    "scrolled": true
   },
   "outputs": [],
   "source": [
    "df.head()"
   ]
  },
  {
   "cell_type": "markdown",
   "metadata": {},
   "source": [
    "## finding first check"
   ]
  },
  {
   "cell_type": "code",
   "execution_count": null,
   "metadata": {},
   "outputs": [],
   "source": [
    "def find_check(entry):\n",
    "    n_moves = 0;\n",
    "    for i in range(len(entry[\"WMoves\"])):\n",
    "        n_moves+=1\n",
    "        if entry[\"WMoves\"][i][-1] == \"+\":\n",
    "            return n_moves\n",
    "        if i == len(entry[\"WMoves\"]) - 1 and len(entry[\"WMoves\"]) != len(entry[\"BMoves\"]):\n",
    "            return -1\n",
    "        if entry[\"BMoves\"][i][-1] == \"+\":\n",
    "            return n_moves\n",
    "    return -1\n",
    "\n",
    "def find_checks(df):\n",
    "    chks = []\n",
    "    for i in range(len(df)):\n",
    "        chks.append(find_check(df.iloc[i]))\n",
    "    df[\"first_check\"] = chks"
   ]
  },
  {
   "cell_type": "code",
   "execution_count": null,
   "metadata": {},
   "outputs": [],
   "source": [
    "def find_first_check(moves):\n",
    "    for i in range(len(moves)):\n",
    "        if moves[i][-1] == \"+\":\n",
    "            return i\n",
    "    return len(moves)\n",
    "\n",
    "def get_check(moves):\n",
    "    for i in range(len(moves)):\n",
    "        if moves[i][-1] == \"+\":\n",
    "            return i\n",
    "    else:\n",
    "        return 0\n",
    "\n",
    "def make_check_columns(df):\n",
    "    df[\"BCheck\"] = df[\"BMoves\"].apply(lambda x: get_check(x))\n",
    "    df[\"WCheck\"] = df[\"WMoves\"].apply(lambda x: get_check(x))\n",
    "    df[\"BChecked\"] = df[\"WMoves\"].apply(lambda x: get_check(x))\n",
    "    df[\"WChecked\"] = df[\"BMoves\"].apply(lambda x: get_check(x))"
   ]
  },
  {
   "cell_type": "code",
   "execution_count": null,
   "metadata": {},
   "outputs": [],
   "source": [
    "make_check_columns(df)"
   ]
  },
  {
   "cell_type": "code",
   "execution_count": null,
   "metadata": {},
   "outputs": [],
   "source": [
    "pd.set_option('display.max_columns', None)"
   ]
  },
  {
   "cell_type": "markdown",
   "metadata": {},
   "source": [
    "## High skill openings"
   ]
  },
  {
   "cell_type": "code",
   "execution_count": null,
   "metadata": {},
   "outputs": [],
   "source": [
    "def high_skill_openings(df):\n",
    "    open_elo = dd(int)\n",
    "    open_count = dd(int)\n",
    "    bOpens = []\n",
    "    wOpens = []\n",
    "    for i in range(len(df)):\n",
    "        wOpen = tuple(df[\"WMoves\"][i][0:5])\n",
    "        wOpens.append(wOpen)\n",
    "        wSkill = df[\"WElo\"][i]\n",
    "        open_elo[wOpen] += int(wSkill)\n",
    "        open_count[wOpen] += 1\n",
    "        bOpen = tuple(df[\"BMoves\"][i][0:5])\n",
    "        bOpens.append(wOpen)\n",
    "        bSkill = df[\"BElo\"][i]\n",
    "        open_elo[bOpen] += bSkill\n",
    "        open_count[bOpen] += 1\n",
    "        \n",
    "    for key in open_elo.keys():\n",
    "        open_elo[key] = open_elo[key]/open_count[key]\n",
    "    return open_elo, bOpens, wOpens\n",
    "\n",
    "def openings(df):\n",
    "    elos, bOpens, wOpens = high_skill_openings(df)\n",
    "    df[\"bOpens\"] = bOpens\n",
    "    df[\"wOpens\"] = wOpens"
   ]
  },
  {
   "cell_type": "code",
   "execution_count": null,
   "metadata": {},
   "outputs": [],
   "source": [
    "openings(df)"
   ]
  },
  {
   "cell_type": "code",
   "execution_count": null,
   "metadata": {},
   "outputs": [],
   "source": [
    "df.head()"
   ]
  },
  {
   "cell_type": "markdown",
   "metadata": {},
   "source": [
    "**Score Calculation**"
   ]
  },
  {
   "cell_type": "code",
   "execution_count": null,
   "metadata": {},
   "outputs": [],
   "source": [
    "InitialBoardW = ['Pa2', 'Pb2', 'Pc2', 'Pd2', 'Pe2', 'Pf2', 'Pg2', 'Ph2', 'Ra1', 'Nb1', 'Bc1', 'Qd1', 'Ke1', 'Bf1', 'Ng1', 'Rh1']\n",
    "InitialBoardB = ['Pa7', 'Pb7', 'Pc7', 'Pd7', 'Pe7', 'Pf7', 'Pg7', 'Ph7', 'Ra8', 'Nb8', 'Bc8', 'Qd8', 'Ke8', 'Bf8', 'Ng8', 'Rh8']\n",
    "\n",
    "PieceVal = {'P': 1, 'N': 3, 'B': 3, 'R': 5, 'Q': 9, 'K':100}\n",
    "\n",
    "def calculateScore(movesList):\n",
    "    scoreW = scoreB = 39                                                                                                                           \n",
    "    for i in range(len(movesList)):\n",
    "        if 'x' in movesList[i]:       \n",
    "            posIndex = movesList[i].index('x') + 1\n",
    "            position = movesList[i][posIndex:]\n",
    "            j = i-1     \n",
    "            while j >= 0:\n",
    "                if position in movesList[j]:\n",
    "                    if position[0] == movesList[j][0]:\n",
    "                        if j%2 == 1:\n",
    "                            scoreB -= 1\n",
    "                        else:\n",
    "                            scoreW -= 1\n",
    "                    elif 'x' in movesList[j]:\n",
    "                        if movesList[j][0].islower():\n",
    "                            if j%2 == 1:\n",
    "                                scoreB -= 1\n",
    "                            else:\n",
    "                                scoreW -= 1\n",
    "                        else:\n",
    "                            if j%2 == 1:\n",
    "                                scoreB -= PieceVal[movesList[j][0]]\n",
    "                            else:\n",
    "                                scoreW -= PieceVal[movesList[j][0]]\n",
    "                            \n",
    "                    else:\n",
    "                        if j%2 == 1:\n",
    "                            scoreB -= PieceVal[movesList[j][0]]\n",
    "                        else:\n",
    "                            scoreW -= PieceVal[movesList[j][0]]\n",
    "                j -= 1\n",
    "                \n",
    "            if i%2 == 0:\n",
    "                for piece in InitialBoardB:\n",
    "                    if position in piece:\n",
    "                        scoreB -= PieceVal[piece[0]]\n",
    "            else:\n",
    "                for piece in InitialBoardW:\n",
    "                    if position in piece:\n",
    "                        scoreW -= PieceVal[piece[0]]        \n",
    "        \n",
    "    return scoreW, scoreB"
   ]
  },
  {
   "cell_type": "code",
   "execution_count": null,
   "metadata": {},
   "outputs": [],
   "source": [
    "completeList = []\n",
    "for i in range(len(df)):\n",
    "    moves = []\n",
    "    wmoves = df.loc[i,'WMoves']\n",
    "    bmoves = df.loc[i,'BMoves']\n",
    "    if len(wmoves) > len(bmoves):\n",
    "        for k in range(len(bmoves)):\n",
    "            moves.append(wmoves[k])\n",
    "            moves.append(bmoves[k])\n",
    "        #moves.append(wmoves[k+1])\n",
    "    elif len(wmoves) == len(bmoves):\n",
    "        for k in range(len(bmoves)):\n",
    "            moves.append(wmoves[k])\n",
    "            moves.append(bmoves[k])\n",
    "    else:\n",
    "        for k in range(len(wmoves)):\n",
    "            moves.append(wmoves[k])\n",
    "            moves.append(bmoves[k])\n",
    "        moves.append(bmoves[k+1])\n",
    "    completeList.append(moves)\n",
    "df['Moves'] = completeList"
   ]
  },
  {
   "cell_type": "code",
   "execution_count": null,
   "metadata": {},
   "outputs": [],
   "source": [
    "wscoreList = []\n",
    "bscoreList = []\n",
    "for i in range(len(df)):\n",
    "    w, b = calculateScore(df.loc[i, 'Moves'])\n",
    "    wscoreList.append(w)\n",
    "    bscoreList.append(b)\n",
    "    \n",
    "df['WScore'] = wscoreList\n",
    "df['BScore'] = bscoreList"
   ]
  },
  {
   "cell_type": "code",
   "execution_count": null,
   "metadata": {},
   "outputs": [],
   "source": [
    "df.head(1)"
   ]
  },
  {
   "cell_type": "markdown",
   "metadata": {},
   "source": [
    "## one hot encoding for `ECO` column"
   ]
  },
  {
   "cell_type": "code",
   "execution_count": null,
   "metadata": {},
   "outputs": [],
   "source": [
    "# Get one hot encoding of columns B\n",
    "one_hot = pd.get_dummies(df['ECO'])\n",
    "# Drop column B as it is now encoded\n",
    "df = df.drop('ECO',axis = 1)\n",
    "# Join the encoded df\n",
    "df = df.join(one_hot)"
   ]
  },
  {
   "cell_type": "code",
   "execution_count": null,
   "metadata": {},
   "outputs": [],
   "source": [
    "df.head(1)"
   ]
  },
  {
   "cell_type": "code",
   "execution_count": null,
   "metadata": {},
   "outputs": [],
   "source": [
    "df.to_csv(\"sample1.csv\")"
   ]
  },
  {
   "cell_type": "markdown",
   "metadata": {},
   "source": [
    "# Feature Selection\n",
    "https://machinelearningmastery.com/feature-selection-for-regression-data/"
   ]
  },
  {
   "cell_type": "code",
   "execution_count": 27,
   "metadata": {},
   "outputs": [],
   "source": [
    "from sklearn.model_selection import train_test_split\n",
    "from sklearn.linear_model import RANSACRegressor, Perceptron, RidgeCV, SGDRegressor, ElasticNetCV, LarsCV, LassoCV, LassoLarsCV, OrthogonalMatchingPursuitCV, BayesianRidge, ARDRegression, MultiTaskElasticNetCV, PoissonRegressor, TweedieRegressor, GammaRegressor, enet_path\n",
    "from sklearn.ensemble import AdaBoostRegressor\n",
    "from sklearn.neural_network import MLPRegressor\n",
    "from sklearn.metrics import mean_squared_error, r2_score\n",
    "# example of correlation feature selection for numerical data\n",
    "from sklearn.feature_selection import SelectKBest\n",
    "from sklearn.feature_selection import f_regression\n",
    "from matplotlib import pyplot\n",
    "from sklearn.ensemble import GradientBoostingRegressor\n",
    "from sklearn.linear_model import LinearRegression\n",
    "import matplotlib.pyplot as plt\n",
    "from sklearn.metrics import mean_absolute_error"
   ]
  },
  {
   "cell_type": "code",
   "execution_count": 3,
   "metadata": {},
   "outputs": [
    {
     "name": "stderr",
     "output_type": "stream",
     "text": [
      "/home/student.unimelb.edu.au/jmohammed/.local/lib/python3.6/site-packages/IPython/core/interactiveshell.py:3072: DtypeWarning: Columns (3,6,8) have mixed types.Specify dtype option on import or set low_memory=False.\n",
      "  interactivity=interactivity, compiler=compiler, result=result)\n"
     ]
    }
   ],
   "source": [
    "df = pd.read_csv(\"sample1.csv\")"
   ]
  },
  {
   "cell_type": "code",
   "execution_count": 4,
   "metadata": {},
   "outputs": [
    {
     "data": {
      "text/html": [
       "<div>\n",
       "<style scoped>\n",
       "    .dataframe tbody tr th:only-of-type {\n",
       "        vertical-align: middle;\n",
       "    }\n",
       "\n",
       "    .dataframe tbody tr th {\n",
       "        vertical-align: top;\n",
       "    }\n",
       "\n",
       "    .dataframe thead th {\n",
       "        text-align: right;\n",
       "    }\n",
       "</style>\n",
       "<table border=\"1\" class=\"dataframe\">\n",
       "  <thead>\n",
       "    <tr style=\"text-align: right;\">\n",
       "      <th></th>\n",
       "      <th>Unnamed: 0</th>\n",
       "      <th>Event</th>\n",
       "      <th>Site</th>\n",
       "      <th>GameNumber</th>\n",
       "      <th>WName</th>\n",
       "      <th>BName</th>\n",
       "      <th>WElo</th>\n",
       "      <th>BElo</th>\n",
       "      <th>WRD</th>\n",
       "      <th>BRD</th>\n",
       "      <th>...</th>\n",
       "      <th>E88</th>\n",
       "      <th>E90</th>\n",
       "      <th>E91</th>\n",
       "      <th>E92</th>\n",
       "      <th>E93</th>\n",
       "      <th>E94</th>\n",
       "      <th>E95</th>\n",
       "      <th>E97</th>\n",
       "      <th>E98</th>\n",
       "      <th>E99</th>\n",
       "    </tr>\n",
       "  </thead>\n",
       "  <tbody>\n",
       "    <tr>\n",
       "      <th>0</th>\n",
       "      <td>0</td>\n",
       "      <td>FICS rated blitz game</td>\n",
       "      <td>FICS freechess.org</td>\n",
       "      <td>470452425</td>\n",
       "      <td>chesspickle</td>\n",
       "      <td>lawrencegern</td>\n",
       "      <td>1963</td>\n",
       "      <td>764</td>\n",
       "      <td>21.2</td>\n",
       "      <td>112.2</td>\n",
       "      <td>...</td>\n",
       "      <td>0</td>\n",
       "      <td>0</td>\n",
       "      <td>0</td>\n",
       "      <td>0</td>\n",
       "      <td>0</td>\n",
       "      <td>0</td>\n",
       "      <td>0</td>\n",
       "      <td>0</td>\n",
       "      <td>0</td>\n",
       "      <td>0</td>\n",
       "    </tr>\n",
       "    <tr>\n",
       "      <th>1</th>\n",
       "      <td>1</td>\n",
       "      <td>FICS rated blitz game</td>\n",
       "      <td>FICS freechess.org</td>\n",
       "      <td>470452424</td>\n",
       "      <td>ZoneBlindTal</td>\n",
       "      <td>AhNeow</td>\n",
       "      <td>1600</td>\n",
       "      <td>1487</td>\n",
       "      <td>36.6</td>\n",
       "      <td>28.5</td>\n",
       "      <td>...</td>\n",
       "      <td>0</td>\n",
       "      <td>0</td>\n",
       "      <td>0</td>\n",
       "      <td>0</td>\n",
       "      <td>0</td>\n",
       "      <td>0</td>\n",
       "      <td>0</td>\n",
       "      <td>0</td>\n",
       "      <td>0</td>\n",
       "      <td>0</td>\n",
       "    </tr>\n",
       "    <tr>\n",
       "      <th>2</th>\n",
       "      <td>2</td>\n",
       "      <td>FICS rated blitz game</td>\n",
       "      <td>FICS freechess.org</td>\n",
       "      <td>470452423</td>\n",
       "      <td>forlat</td>\n",
       "      <td>naraindra</td>\n",
       "      <td>1948</td>\n",
       "      <td>1089</td>\n",
       "      <td>15.3</td>\n",
       "      <td>30.7</td>\n",
       "      <td>...</td>\n",
       "      <td>0</td>\n",
       "      <td>0</td>\n",
       "      <td>0</td>\n",
       "      <td>0</td>\n",
       "      <td>0</td>\n",
       "      <td>0</td>\n",
       "      <td>0</td>\n",
       "      <td>0</td>\n",
       "      <td>0</td>\n",
       "      <td>0</td>\n",
       "    </tr>\n",
       "    <tr>\n",
       "      <th>3</th>\n",
       "      <td>3</td>\n",
       "      <td>FICS rated blitz game</td>\n",
       "      <td>FICS freechess.org</td>\n",
       "      <td>470452420</td>\n",
       "      <td>PGierech</td>\n",
       "      <td>kkpsA</td>\n",
       "      <td>1497</td>\n",
       "      <td>1224</td>\n",
       "      <td>32.4</td>\n",
       "      <td>37.6</td>\n",
       "      <td>...</td>\n",
       "      <td>0</td>\n",
       "      <td>0</td>\n",
       "      <td>0</td>\n",
       "      <td>0</td>\n",
       "      <td>0</td>\n",
       "      <td>0</td>\n",
       "      <td>0</td>\n",
       "      <td>0</td>\n",
       "      <td>0</td>\n",
       "      <td>0</td>\n",
       "    </tr>\n",
       "    <tr>\n",
       "      <th>4</th>\n",
       "      <td>4</td>\n",
       "      <td>FICS rated blitz game</td>\n",
       "      <td>FICS freechess.org</td>\n",
       "      <td>470452419</td>\n",
       "      <td>Liszt</td>\n",
       "      <td>Sotavaunu</td>\n",
       "      <td>1594</td>\n",
       "      <td>1554</td>\n",
       "      <td>26.8</td>\n",
       "      <td>34.9</td>\n",
       "      <td>...</td>\n",
       "      <td>0</td>\n",
       "      <td>0</td>\n",
       "      <td>0</td>\n",
       "      <td>0</td>\n",
       "      <td>0</td>\n",
       "      <td>0</td>\n",
       "      <td>0</td>\n",
       "      <td>0</td>\n",
       "      <td>0</td>\n",
       "      <td>0</td>\n",
       "    </tr>\n",
       "  </tbody>\n",
       "</table>\n",
       "<p>5 rows × 495 columns</p>\n",
       "</div>"
      ],
      "text/plain": [
       "   Unnamed: 0                  Event                Site GameNumber  \\\n",
       "0           0  FICS rated blitz game  FICS freechess.org  470452425   \n",
       "1           1  FICS rated blitz game  FICS freechess.org  470452424   \n",
       "2           2  FICS rated blitz game  FICS freechess.org  470452423   \n",
       "3           3  FICS rated blitz game  FICS freechess.org  470452420   \n",
       "4           4  FICS rated blitz game  FICS freechess.org  470452419   \n",
       "\n",
       "          WName         BName  WElo  BElo   WRD    BRD  ... E88 E90 E91 E92  \\\n",
       "0   chesspickle  lawrencegern  1963   764  21.2  112.2  ...   0   0   0   0   \n",
       "1  ZoneBlindTal        AhNeow  1600  1487  36.6   28.5  ...   0   0   0   0   \n",
       "2        forlat     naraindra  1948  1089  15.3   30.7  ...   0   0   0   0   \n",
       "3      PGierech         kkpsA  1497  1224  32.4   37.6  ...   0   0   0   0   \n",
       "4         Liszt     Sotavaunu  1594  1554  26.8   34.9  ...   0   0   0   0   \n",
       "\n",
       "  E93 E94 E95  E97 E98 E99  \n",
       "0   0   0   0    0   0   0  \n",
       "1   0   0   0    0   0   0  \n",
       "2   0   0   0    0   0   0  \n",
       "3   0   0   0    0   0   0  \n",
       "4   0   0   0    0   0   0  \n",
       "\n",
       "[5 rows x 495 columns]"
      ]
     },
     "execution_count": 4,
     "metadata": {},
     "output_type": "execute_result"
    }
   ],
   "source": [
    "df.head()"
   ]
  },
  {
   "cell_type": "code",
   "execution_count": 5,
   "metadata": {},
   "outputs": [],
   "source": [
    "BX = df[[\"PlyCount\",\"WResult\",\"BResult\",\"WConversions\",\"BConversions\",\"WCaptureMovesCount\",\"BCaptureMovesCount\",\"WOrdMovesCount\",\"BOrdMovesCount\",\"WPiecesCount\",\"BPiecesCount\",\"Rr\",\"Rn\",\"Rb\",\"Rq\",\"Rk\",\"Rp\",\"rR\",\"rN\",\"rB\",\"rQ\",\"rK\",\"rP\",\"Nr\",\"Nn\",\"Nb\",\"Nq\",\"Nk\",\"Np\",\"nR\",\"nN\",\"nB\",\"nQ\",\"nK\",\"nP\",\"Br\",\"Bn\",\"Bb\",\"Bq\",\"Bk\",\"Bp\",\"bR\",\"bN\",\"bB\",\"bQ\",\"bK\",\"bP\",\"Qr\",\"Qn\",\"Qb\",\"Qq\",\"Qk\",\"Qp\",\"qR\",\"qN\",\"qB\",\"qQ\",\"qK\",\"qP\",\"Kr\",\"Kn\",\"Kb\",\"Kq\",\"Kk\",\"Kp\",\"kR\",\"kN\",\"kB\",\"kQ\",\"kK\",\"kP\",\"Pr\",\"Pn\",\"Pb\",\"Pq\",\"Pk\",\"Pp\",\"pR\",\"pN\",\"pB\",\"pQ\",\"pK\",\"pP\",\"BCheck\",\"WCheck\",\"BChecked\",\"WChecked\",\"WScore\",\"BScore\",\"A00\",\"A01\",\"A02\",\"A03\",\"A04\",\"A05\",\"A06\",\"A07\",\"A08\",\"A09\",\"A10\",\"A11\",\"A12\",\"A13\",\"A14\",\"A15\",\"A16\",\"A17\",\"A18\",\"A19\",\"A20\",\"A21\",\"A22\",\"A23\",\"A24\",\"A25\",\"A26\",\"A27\",\"A28\",\"A29\",\"A30\",\"A31\",\"A32\",\"A33\",\"A34\",\"A35\",\"A36\",\"A37\",\"A38\",\"A39\",\"A40\",\"A41\",\"A42\",\"A43\",\"A44\",\"A45\",\"A46\",\"A47\",\"A48\",\"A49\",\"A50\",\"A51\",\"A52\",\"A53\",\"A54\",\"A55\",\"A56\",\"A57\",\"A58\",\"A59\",\"A60\",\"A65\",\"A68\",\"A69\",\"A70\",\"A72\",\"A80\",\"A81\",\"A82\",\"A83\",\"A84\",\"A85\",\"A86\",\"A87\",\"A89\",\"A90\",\"A91\",\"A92\",\"A95\",\"A96\",\"B00\",\"B01\",\"B02\",\"B03\",\"B04\",\"B05\",\"B06\",\"B07\",\"B08\",\"B09\",\"B10\",\"B11\",\"B12\",\"B13\",\"B14\",\"B15\",\"B16\",\"B17\",\"B18\",\"B19\",\"B20\",\"B21\",\"B22\",\"B23\",\"B24\",\"B25\",\"B26\",\"B27\",\"B28\",\"B29\",\"B30\",\"B31\",\"B32\",\"B33\",\"B34\",\"B35\",\"B36\",\"B38\",\"B40\",\"B41\",\"B42\",\"B43\",\"B44\",\"B45\",\"B46\",\"B47\",\"B49\",\"B50\",\"B51\",\"B52\",\"B53\",\"B54\",\"B56\",\"B57\",\"B58\",\"B60\",\"B62\",\"B63\",\"B70\",\"B71\",\"B72\",\"B73\",\"B74\",\"B75\",\"B76\",\"B77\",\"B78\",\"B80\",\"B81\",\"B82\",\"B83\",\"B84\",\"B86\",\"B87\",\"B88\",\"B90\",\"B92\",\"B94\",\"B95\",\"B96\",\"B97\",\"B98\",\"C00\",\"C01\",\"C02\",\"C03\",\"C05\",\"C06\",\"C07\",\"C10\",\"C11\",\"C12\",\"C13\",\"C14\",\"C15\",\"C16\",\"C17\",\"C18\",\"C19\",\"C20\",\"C21\",\"C22\",\"C23\",\"C24\",\"C25\",\"C26\",\"C27\",\"C28\",\"C29\",\"C30\",\"C31\",\"C32\",\"C33\",\"C34\",\"C35\",\"C36\",\"C37\",\"C38\",\"C39\",\"C40\",\"C41\",\"C42\",\"C43\",\"C44\",\"C45\",\"C46\",\"C47\",\"C48\",\"C49\",\"C50\",\"C51\",\"C52\",\"C53\",\"C54\",\"C55\",\"C56\",\"C57\",\"C58\",\"C60\",\"C61\",\"C62\",\"C63\",\"C64\",\"C65\",\"C66\",\"C67\",\"C68\",\"C69\",\"C70\",\"C71\",\"C74\",\"C75\",\"C77\",\"C78\",\"C79\",\"C80\",\"C82\",\"C84\",\"C87\",\"C88\",\"C89\",\"C91\",\"C92\",\"C93\",\"D00\",\"D01\",\"D02\",\"D03\",\"D04\",\"D05\",\"D06\",\"D07\",\"D08\",\"D09\",\"D10\",\"D11\",\"D12\",\"D13\",\"D14\",\"D15\",\"D16\",\"D17\",\"D18\",\"D20\",\"D21\",\"D22\",\"D23\",\"D24\",\"D25\",\"D26\",\"D28\",\"D29\",\"D30\",\"D31\",\"D32\",\"D33\",\"D34\",\"D35\",\"D36\",\"D37\",\"D38\",\"D40\",\"D41\",\"D43\",\"D44\",\"D45\",\"D46\",\"D47\",\"D48\",\"D50\",\"D51\",\"D52\",\"D53\",\"D55\",\"D56\",\"D57\",\"D58\",\"D60\",\"D61\",\"D63\",\"D66\",\"D67\",\"D70\",\"D73\",\"D77\",\"D78\",\"D79\",\"D80\",\"D82\",\"D85\",\"D87\",\"D90\",\"D91\",\"D92\",\"D93\",\"D94\",\"D96\",\"D97\",\"D98\",\"E00\",\"E01\",\"E04\",\"E05\",\"E06\",\"E07\",\"E09\",\"E10\",\"E11\",\"E12\",\"E13\",\"E14\",\"E15\",\"E16\",\"E17\",\"E18\",\"E19\",\"E20\",\"E21\",\"E22\",\"E23\",\"E24\",\"E27\",\"E30\",\"E32\",\"E34\",\"E36\",\"E38\",\"E39\",\"E40\",\"E42\",\"E43\",\"E46\",\"E48\",\"E56\",\"E60\",\"E61\",\"E62\",\"E65\",\"E66\",\"E67\",\"E70\",\"E71\",\"E72\",\"E73\",\"E76\",\"E77\",\"E80\",\"E81\",\"E82\",\"E83\",\"E85\",\"E86\",\"E87\",\"E88\",\"E90\",\"E91\",\"E92\",\"E93\",\"E94\",\"E95\",\"E97\",\"E98\",\"E99\"]]\n",
    "By = df[\"BElo\"]"
   ]
  },
  {
   "cell_type": "code",
   "execution_count": 6,
   "metadata": {},
   "outputs": [],
   "source": [
    "train_bx, test_bx, train_by, test_by= train_test_split(BX, By)"
   ]
  },
  {
   "cell_type": "code",
   "execution_count": null,
   "metadata": {},
   "outputs": [],
   "source": [
    "# feature selection\n",
    "def select_features(X_train, y_train, X_test):\n",
    "\t# configure to select all features\n",
    "\tfs = SelectKBest(score_func=f_regression, k='all')\n",
    "\t# learn relationship from training data\n",
    "\tfs.fit(X_train, y_train)\n",
    "\t# transform train input data\n",
    "\tX_train_fs = fs.transform(X_train)\n",
    "\t# transform test input data\n",
    "\tX_test_fs = fs.transform(X_test)\n",
    "\treturn X_train_fs, X_test_fs, fs"
   ]
  },
  {
   "cell_type": "code",
   "execution_count": null,
   "metadata": {},
   "outputs": [],
   "source": [
    "# feature selection\n",
    "X_train_fs, X_test_fs, fs = select_features(train_bx, train_by, test_bx)"
   ]
  },
  {
   "cell_type": "code",
   "execution_count": null,
   "metadata": {
    "scrolled": true
   },
   "outputs": [],
   "source": [
    "# what are scores for the features\n",
    "for i in range(len(fs.scores_)):\n",
    "\tprint('Feature %d: %f' % (i, fs.scores_[i]))\n",
    "# plot the scores\n",
    "pyplot.bar([i for i in range(len(fs.scores_))], fs.scores_)\n",
    "pyplot.show()"
   ]
  },
  {
   "cell_type": "code",
   "execution_count": null,
   "metadata": {
    "scrolled": false
   },
   "outputs": [],
   "source": [
    "# Get the indices sorted by most important to least important\n",
    "indices = np.argsort(fs.scores_)[::-1]\n",
    "\n",
    "# To get your top 10 feature names\n",
    "features = []\n",
    "for i in range(len(fs.scores_)):\n",
    "    features.append(df.columns[indices[i]])"
   ]
  },
  {
   "cell_type": "code",
   "execution_count": null,
   "metadata": {
    "scrolled": true
   },
   "outputs": [],
   "source": [
    "# Now plot\n",
    "plt.figure()\n",
    "plt.bar(features, fs.scores_[indices[range(len(fs.scores_))]], color='r', align='center')\n",
    "plt.xticks(rotation='vertical')\n",
    "plt.show()"
   ]
  },
  {
   "cell_type": "code",
   "execution_count": null,
   "metadata": {},
   "outputs": [],
   "source": [
    "(fs.scores_[indices[range(len(fs.scores_))]] > 20).sum()"
   ]
  },
  {
   "cell_type": "code",
   "execution_count": null,
   "metadata": {},
   "outputs": [],
   "source": [
    "train_by.head()"
   ]
  },
  {
   "cell_type": "markdown",
   "metadata": {},
   "source": [
    "# Model Building"
   ]
  },
  {
   "cell_type": "code",
   "execution_count": null,
   "metadata": {
    "scrolled": true
   },
   "outputs": [],
   "source": [
    "models = [LinearRegression, RidgeCV, SGDRegressor, ElasticNetCV, LarsCV, LassoCV, LassoLarsCV, OrthogonalMatchingPursuitCV, BayesianRidge, RANSACRegressor, AdaBoostRegressor, ARDRegression, PoissonRegressor, TweedieRegressor, GammaRegressor, GradientBoostingRegressor,MLPRegressor ]\n",
    "for model in models:\n",
    "    cur_model = model()\n",
    "    cur_model.fit(train_bx, train_by)\n",
    "    by_pred = cur_model.predict(test_bx)\n",
    "    print(\"{}: r2:{} MSE:{}\".format(type(cur_model).__name__, r2_score(test_by, by_pred),mean_squared_error(test_by,by_pred)))\n"
   ]
  },
  {
   "cell_type": "code",
   "execution_count": 19,
   "metadata": {},
   "outputs": [
    {
     "data": {
      "text/html": [
       "<div>\n",
       "<style scoped>\n",
       "    .dataframe tbody tr th:only-of-type {\n",
       "        vertical-align: middle;\n",
       "    }\n",
       "\n",
       "    .dataframe tbody tr th {\n",
       "        vertical-align: top;\n",
       "    }\n",
       "\n",
       "    .dataframe thead th {\n",
       "        text-align: right;\n",
       "    }\n",
       "</style>\n",
       "<table border=\"1\" class=\"dataframe\">\n",
       "  <thead>\n",
       "    <tr style=\"text-align: right;\">\n",
       "      <th></th>\n",
       "      <th>PlyCount</th>\n",
       "      <th>WResult</th>\n",
       "      <th>BResult</th>\n",
       "      <th>WConversions</th>\n",
       "      <th>BConversions</th>\n",
       "      <th>WCaptureMovesCount</th>\n",
       "      <th>BCaptureMovesCount</th>\n",
       "      <th>WOrdMovesCount</th>\n",
       "      <th>BOrdMovesCount</th>\n",
       "      <th>WPiecesCount</th>\n",
       "      <th>...</th>\n",
       "      <th>E88</th>\n",
       "      <th>E90</th>\n",
       "      <th>E91</th>\n",
       "      <th>E92</th>\n",
       "      <th>E93</th>\n",
       "      <th>E94</th>\n",
       "      <th>E95</th>\n",
       "      <th>E97</th>\n",
       "      <th>E98</th>\n",
       "      <th>E99</th>\n",
       "    </tr>\n",
       "  </thead>\n",
       "  <tbody>\n",
       "    <tr>\n",
       "      <th>13370</th>\n",
       "      <td>107</td>\n",
       "      <td>1</td>\n",
       "      <td>0</td>\n",
       "      <td>0</td>\n",
       "      <td>0</td>\n",
       "      <td>15</td>\n",
       "      <td>12</td>\n",
       "      <td>39</td>\n",
       "      <td>41</td>\n",
       "      <td>4</td>\n",
       "      <td>...</td>\n",
       "      <td>0</td>\n",
       "      <td>0</td>\n",
       "      <td>0</td>\n",
       "      <td>0</td>\n",
       "      <td>0</td>\n",
       "      <td>0</td>\n",
       "      <td>0</td>\n",
       "      <td>0</td>\n",
       "      <td>0</td>\n",
       "      <td>0</td>\n",
       "    </tr>\n",
       "    <tr>\n",
       "      <th>32878</th>\n",
       "      <td>71</td>\n",
       "      <td>1</td>\n",
       "      <td>0</td>\n",
       "      <td>0</td>\n",
       "      <td>0</td>\n",
       "      <td>8</td>\n",
       "      <td>7</td>\n",
       "      <td>28</td>\n",
       "      <td>28</td>\n",
       "      <td>9</td>\n",
       "      <td>...</td>\n",
       "      <td>0</td>\n",
       "      <td>0</td>\n",
       "      <td>0</td>\n",
       "      <td>0</td>\n",
       "      <td>0</td>\n",
       "      <td>0</td>\n",
       "      <td>0</td>\n",
       "      <td>0</td>\n",
       "      <td>0</td>\n",
       "      <td>0</td>\n",
       "    </tr>\n",
       "    <tr>\n",
       "      <th>4988</th>\n",
       "      <td>69</td>\n",
       "      <td>1</td>\n",
       "      <td>0</td>\n",
       "      <td>0</td>\n",
       "      <td>0</td>\n",
       "      <td>10</td>\n",
       "      <td>8</td>\n",
       "      <td>25</td>\n",
       "      <td>26</td>\n",
       "      <td>8</td>\n",
       "      <td>...</td>\n",
       "      <td>0</td>\n",
       "      <td>0</td>\n",
       "      <td>0</td>\n",
       "      <td>0</td>\n",
       "      <td>0</td>\n",
       "      <td>0</td>\n",
       "      <td>0</td>\n",
       "      <td>0</td>\n",
       "      <td>0</td>\n",
       "      <td>0</td>\n",
       "    </tr>\n",
       "    <tr>\n",
       "      <th>20146</th>\n",
       "      <td>44</td>\n",
       "      <td>0</td>\n",
       "      <td>1</td>\n",
       "      <td>0</td>\n",
       "      <td>0</td>\n",
       "      <td>4</td>\n",
       "      <td>4</td>\n",
       "      <td>18</td>\n",
       "      <td>18</td>\n",
       "      <td>12</td>\n",
       "      <td>...</td>\n",
       "      <td>0</td>\n",
       "      <td>0</td>\n",
       "      <td>0</td>\n",
       "      <td>0</td>\n",
       "      <td>0</td>\n",
       "      <td>0</td>\n",
       "      <td>0</td>\n",
       "      <td>0</td>\n",
       "      <td>0</td>\n",
       "      <td>0</td>\n",
       "    </tr>\n",
       "    <tr>\n",
       "      <th>19482</th>\n",
       "      <td>3</td>\n",
       "      <td>1</td>\n",
       "      <td>0</td>\n",
       "      <td>0</td>\n",
       "      <td>0</td>\n",
       "      <td>1</td>\n",
       "      <td>0</td>\n",
       "      <td>1</td>\n",
       "      <td>1</td>\n",
       "      <td>16</td>\n",
       "      <td>...</td>\n",
       "      <td>0</td>\n",
       "      <td>0</td>\n",
       "      <td>0</td>\n",
       "      <td>0</td>\n",
       "      <td>0</td>\n",
       "      <td>0</td>\n",
       "      <td>0</td>\n",
       "      <td>0</td>\n",
       "      <td>0</td>\n",
       "      <td>0</td>\n",
       "    </tr>\n",
       "    <tr>\n",
       "      <th>...</th>\n",
       "      <td>...</td>\n",
       "      <td>...</td>\n",
       "      <td>...</td>\n",
       "      <td>...</td>\n",
       "      <td>...</td>\n",
       "      <td>...</td>\n",
       "      <td>...</td>\n",
       "      <td>...</td>\n",
       "      <td>...</td>\n",
       "      <td>...</td>\n",
       "      <td>...</td>\n",
       "      <td>...</td>\n",
       "      <td>...</td>\n",
       "      <td>...</td>\n",
       "      <td>...</td>\n",
       "      <td>...</td>\n",
       "      <td>...</td>\n",
       "      <td>...</td>\n",
       "      <td>...</td>\n",
       "      <td>...</td>\n",
       "      <td>...</td>\n",
       "    </tr>\n",
       "    <tr>\n",
       "      <th>18943</th>\n",
       "      <td>81</td>\n",
       "      <td>1</td>\n",
       "      <td>0</td>\n",
       "      <td>0</td>\n",
       "      <td>0</td>\n",
       "      <td>10</td>\n",
       "      <td>9</td>\n",
       "      <td>31</td>\n",
       "      <td>31</td>\n",
       "      <td>7</td>\n",
       "      <td>...</td>\n",
       "      <td>0</td>\n",
       "      <td>0</td>\n",
       "      <td>0</td>\n",
       "      <td>0</td>\n",
       "      <td>0</td>\n",
       "      <td>0</td>\n",
       "      <td>0</td>\n",
       "      <td>0</td>\n",
       "      <td>0</td>\n",
       "      <td>0</td>\n",
       "    </tr>\n",
       "    <tr>\n",
       "      <th>20838</th>\n",
       "      <td>38</td>\n",
       "      <td>0</td>\n",
       "      <td>1</td>\n",
       "      <td>0</td>\n",
       "      <td>0</td>\n",
       "      <td>4</td>\n",
       "      <td>5</td>\n",
       "      <td>15</td>\n",
       "      <td>14</td>\n",
       "      <td>11</td>\n",
       "      <td>...</td>\n",
       "      <td>0</td>\n",
       "      <td>0</td>\n",
       "      <td>0</td>\n",
       "      <td>0</td>\n",
       "      <td>0</td>\n",
       "      <td>0</td>\n",
       "      <td>0</td>\n",
       "      <td>0</td>\n",
       "      <td>0</td>\n",
       "      <td>0</td>\n",
       "    </tr>\n",
       "    <tr>\n",
       "      <th>9774</th>\n",
       "      <td>48</td>\n",
       "      <td>0</td>\n",
       "      <td>1</td>\n",
       "      <td>0</td>\n",
       "      <td>0</td>\n",
       "      <td>3</td>\n",
       "      <td>3</td>\n",
       "      <td>21</td>\n",
       "      <td>21</td>\n",
       "      <td>13</td>\n",
       "      <td>...</td>\n",
       "      <td>0</td>\n",
       "      <td>0</td>\n",
       "      <td>0</td>\n",
       "      <td>0</td>\n",
       "      <td>0</td>\n",
       "      <td>0</td>\n",
       "      <td>0</td>\n",
       "      <td>0</td>\n",
       "      <td>0</td>\n",
       "      <td>0</td>\n",
       "    </tr>\n",
       "    <tr>\n",
       "      <th>8237</th>\n",
       "      <td>31</td>\n",
       "      <td>1</td>\n",
       "      <td>0</td>\n",
       "      <td>0</td>\n",
       "      <td>0</td>\n",
       "      <td>5</td>\n",
       "      <td>4</td>\n",
       "      <td>11</td>\n",
       "      <td>11</td>\n",
       "      <td>12</td>\n",
       "      <td>...</td>\n",
       "      <td>0</td>\n",
       "      <td>0</td>\n",
       "      <td>0</td>\n",
       "      <td>0</td>\n",
       "      <td>0</td>\n",
       "      <td>0</td>\n",
       "      <td>0</td>\n",
       "      <td>0</td>\n",
       "      <td>0</td>\n",
       "      <td>0</td>\n",
       "    </tr>\n",
       "    <tr>\n",
       "      <th>23657</th>\n",
       "      <td>67</td>\n",
       "      <td>1</td>\n",
       "      <td>0</td>\n",
       "      <td>0</td>\n",
       "      <td>0</td>\n",
       "      <td>10</td>\n",
       "      <td>8</td>\n",
       "      <td>24</td>\n",
       "      <td>25</td>\n",
       "      <td>8</td>\n",
       "      <td>...</td>\n",
       "      <td>0</td>\n",
       "      <td>0</td>\n",
       "      <td>0</td>\n",
       "      <td>0</td>\n",
       "      <td>0</td>\n",
       "      <td>0</td>\n",
       "      <td>0</td>\n",
       "      <td>0</td>\n",
       "      <td>0</td>\n",
       "      <td>0</td>\n",
       "    </tr>\n",
       "  </tbody>\n",
       "</table>\n",
       "<p>29445 rows × 472 columns</p>\n",
       "</div>"
      ],
      "text/plain": [
       "       PlyCount  WResult  BResult  WConversions  BConversions  \\\n",
       "13370       107        1        0             0             0   \n",
       "32878        71        1        0             0             0   \n",
       "4988         69        1        0             0             0   \n",
       "20146        44        0        1             0             0   \n",
       "19482         3        1        0             0             0   \n",
       "...         ...      ...      ...           ...           ...   \n",
       "18943        81        1        0             0             0   \n",
       "20838        38        0        1             0             0   \n",
       "9774         48        0        1             0             0   \n",
       "8237         31        1        0             0             0   \n",
       "23657        67        1        0             0             0   \n",
       "\n",
       "       WCaptureMovesCount  BCaptureMovesCount  WOrdMovesCount  BOrdMovesCount  \\\n",
       "13370                  15                  12              39              41   \n",
       "32878                   8                   7              28              28   \n",
       "4988                   10                   8              25              26   \n",
       "20146                   4                   4              18              18   \n",
       "19482                   1                   0               1               1   \n",
       "...                   ...                 ...             ...             ...   \n",
       "18943                  10                   9              31              31   \n",
       "20838                   4                   5              15              14   \n",
       "9774                    3                   3              21              21   \n",
       "8237                    5                   4              11              11   \n",
       "23657                  10                   8              24              25   \n",
       "\n",
       "       WPiecesCount  ...  E88  E90  E91  E92  E93  E94  E95  E97  E98  E99  \n",
       "13370             4  ...    0    0    0    0    0    0    0    0    0    0  \n",
       "32878             9  ...    0    0    0    0    0    0    0    0    0    0  \n",
       "4988              8  ...    0    0    0    0    0    0    0    0    0    0  \n",
       "20146            12  ...    0    0    0    0    0    0    0    0    0    0  \n",
       "19482            16  ...    0    0    0    0    0    0    0    0    0    0  \n",
       "...             ...  ...  ...  ...  ...  ...  ...  ...  ...  ...  ...  ...  \n",
       "18943             7  ...    0    0    0    0    0    0    0    0    0    0  \n",
       "20838            11  ...    0    0    0    0    0    0    0    0    0    0  \n",
       "9774             13  ...    0    0    0    0    0    0    0    0    0    0  \n",
       "8237             12  ...    0    0    0    0    0    0    0    0    0    0  \n",
       "23657             8  ...    0    0    0    0    0    0    0    0    0    0  \n",
       "\n",
       "[29445 rows x 472 columns]"
      ]
     },
     "execution_count": 19,
     "metadata": {},
     "output_type": "execute_result"
    }
   ],
   "source": [
    "train_bx"
   ]
  },
  {
   "cell_type": "code",
   "execution_count": 18,
   "metadata": {},
   "outputs": [
    {
     "data": {
      "text/html": [
       "<div>\n",
       "<style scoped>\n",
       "    .dataframe tbody tr th:only-of-type {\n",
       "        vertical-align: middle;\n",
       "    }\n",
       "\n",
       "    .dataframe tbody tr th {\n",
       "        vertical-align: top;\n",
       "    }\n",
       "\n",
       "    .dataframe thead th {\n",
       "        text-align: right;\n",
       "    }\n",
       "</style>\n",
       "<table border=\"1\" class=\"dataframe\">\n",
       "  <thead>\n",
       "    <tr style=\"text-align: right;\">\n",
       "      <th></th>\n",
       "      <th>PlyCount</th>\n",
       "      <th>WResult</th>\n",
       "      <th>BResult</th>\n",
       "      <th>WConversions</th>\n",
       "      <th>BConversions</th>\n",
       "      <th>WCaptureMovesCount</th>\n",
       "      <th>BCaptureMovesCount</th>\n",
       "      <th>WOrdMovesCount</th>\n",
       "      <th>BOrdMovesCount</th>\n",
       "      <th>WPiecesCount</th>\n",
       "      <th>...</th>\n",
       "      <th>E88</th>\n",
       "      <th>E90</th>\n",
       "      <th>E91</th>\n",
       "      <th>E92</th>\n",
       "      <th>E93</th>\n",
       "      <th>E94</th>\n",
       "      <th>E95</th>\n",
       "      <th>E97</th>\n",
       "      <th>E98</th>\n",
       "      <th>E99</th>\n",
       "    </tr>\n",
       "  </thead>\n",
       "  <tbody>\n",
       "    <tr>\n",
       "      <th>38330</th>\n",
       "      <td>80</td>\n",
       "      <td>0</td>\n",
       "      <td>1</td>\n",
       "      <td>0</td>\n",
       "      <td>0</td>\n",
       "      <td>10</td>\n",
       "      <td>11</td>\n",
       "      <td>30</td>\n",
       "      <td>29</td>\n",
       "      <td>5</td>\n",
       "      <td>...</td>\n",
       "      <td>0</td>\n",
       "      <td>0</td>\n",
       "      <td>0</td>\n",
       "      <td>0</td>\n",
       "      <td>0</td>\n",
       "      <td>0</td>\n",
       "      <td>0</td>\n",
       "      <td>0</td>\n",
       "      <td>0</td>\n",
       "      <td>0</td>\n",
       "    </tr>\n",
       "    <tr>\n",
       "      <th>2359</th>\n",
       "      <td>63</td>\n",
       "      <td>1</td>\n",
       "      <td>0</td>\n",
       "      <td>1</td>\n",
       "      <td>0</td>\n",
       "      <td>11</td>\n",
       "      <td>8</td>\n",
       "      <td>21</td>\n",
       "      <td>23</td>\n",
       "      <td>8</td>\n",
       "      <td>...</td>\n",
       "      <td>0</td>\n",
       "      <td>0</td>\n",
       "      <td>0</td>\n",
       "      <td>0</td>\n",
       "      <td>0</td>\n",
       "      <td>0</td>\n",
       "      <td>0</td>\n",
       "      <td>0</td>\n",
       "      <td>0</td>\n",
       "      <td>0</td>\n",
       "    </tr>\n",
       "    <tr>\n",
       "      <th>24050</th>\n",
       "      <td>55</td>\n",
       "      <td>1</td>\n",
       "      <td>0</td>\n",
       "      <td>0</td>\n",
       "      <td>0</td>\n",
       "      <td>5</td>\n",
       "      <td>5</td>\n",
       "      <td>23</td>\n",
       "      <td>22</td>\n",
       "      <td>11</td>\n",
       "      <td>...</td>\n",
       "      <td>0</td>\n",
       "      <td>0</td>\n",
       "      <td>0</td>\n",
       "      <td>0</td>\n",
       "      <td>0</td>\n",
       "      <td>0</td>\n",
       "      <td>0</td>\n",
       "      <td>0</td>\n",
       "      <td>0</td>\n",
       "      <td>0</td>\n",
       "    </tr>\n",
       "    <tr>\n",
       "      <th>23573</th>\n",
       "      <td>128</td>\n",
       "      <td>0</td>\n",
       "      <td>1</td>\n",
       "      <td>0</td>\n",
       "      <td>1</td>\n",
       "      <td>11</td>\n",
       "      <td>12</td>\n",
       "      <td>53</td>\n",
       "      <td>52</td>\n",
       "      <td>4</td>\n",
       "      <td>...</td>\n",
       "      <td>0</td>\n",
       "      <td>0</td>\n",
       "      <td>0</td>\n",
       "      <td>0</td>\n",
       "      <td>0</td>\n",
       "      <td>0</td>\n",
       "      <td>0</td>\n",
       "      <td>0</td>\n",
       "      <td>0</td>\n",
       "      <td>0</td>\n",
       "    </tr>\n",
       "    <tr>\n",
       "      <th>32511</th>\n",
       "      <td>58</td>\n",
       "      <td>1</td>\n",
       "      <td>0</td>\n",
       "      <td>0</td>\n",
       "      <td>0</td>\n",
       "      <td>10</td>\n",
       "      <td>5</td>\n",
       "      <td>19</td>\n",
       "      <td>24</td>\n",
       "      <td>11</td>\n",
       "      <td>...</td>\n",
       "      <td>0</td>\n",
       "      <td>0</td>\n",
       "      <td>0</td>\n",
       "      <td>0</td>\n",
       "      <td>0</td>\n",
       "      <td>0</td>\n",
       "      <td>0</td>\n",
       "      <td>0</td>\n",
       "      <td>0</td>\n",
       "      <td>0</td>\n",
       "    </tr>\n",
       "    <tr>\n",
       "      <th>...</th>\n",
       "      <td>...</td>\n",
       "      <td>...</td>\n",
       "      <td>...</td>\n",
       "      <td>...</td>\n",
       "      <td>...</td>\n",
       "      <td>...</td>\n",
       "      <td>...</td>\n",
       "      <td>...</td>\n",
       "      <td>...</td>\n",
       "      <td>...</td>\n",
       "      <td>...</td>\n",
       "      <td>...</td>\n",
       "      <td>...</td>\n",
       "      <td>...</td>\n",
       "      <td>...</td>\n",
       "      <td>...</td>\n",
       "      <td>...</td>\n",
       "      <td>...</td>\n",
       "      <td>...</td>\n",
       "      <td>...</td>\n",
       "      <td>...</td>\n",
       "    </tr>\n",
       "    <tr>\n",
       "      <th>1720</th>\n",
       "      <td>150</td>\n",
       "      <td>0</td>\n",
       "      <td>1</td>\n",
       "      <td>0</td>\n",
       "      <td>1</td>\n",
       "      <td>14</td>\n",
       "      <td>15</td>\n",
       "      <td>61</td>\n",
       "      <td>60</td>\n",
       "      <td>1</td>\n",
       "      <td>...</td>\n",
       "      <td>0</td>\n",
       "      <td>0</td>\n",
       "      <td>0</td>\n",
       "      <td>0</td>\n",
       "      <td>0</td>\n",
       "      <td>0</td>\n",
       "      <td>0</td>\n",
       "      <td>0</td>\n",
       "      <td>0</td>\n",
       "      <td>0</td>\n",
       "    </tr>\n",
       "    <tr>\n",
       "      <th>39154</th>\n",
       "      <td>33</td>\n",
       "      <td>1</td>\n",
       "      <td>0</td>\n",
       "      <td>0</td>\n",
       "      <td>0</td>\n",
       "      <td>3</td>\n",
       "      <td>2</td>\n",
       "      <td>14</td>\n",
       "      <td>14</td>\n",
       "      <td>14</td>\n",
       "      <td>...</td>\n",
       "      <td>0</td>\n",
       "      <td>0</td>\n",
       "      <td>0</td>\n",
       "      <td>0</td>\n",
       "      <td>0</td>\n",
       "      <td>0</td>\n",
       "      <td>0</td>\n",
       "      <td>0</td>\n",
       "      <td>0</td>\n",
       "      <td>0</td>\n",
       "    </tr>\n",
       "    <tr>\n",
       "      <th>16150</th>\n",
       "      <td>56</td>\n",
       "      <td>0</td>\n",
       "      <td>1</td>\n",
       "      <td>0</td>\n",
       "      <td>0</td>\n",
       "      <td>6</td>\n",
       "      <td>13</td>\n",
       "      <td>22</td>\n",
       "      <td>15</td>\n",
       "      <td>3</td>\n",
       "      <td>...</td>\n",
       "      <td>0</td>\n",
       "      <td>0</td>\n",
       "      <td>0</td>\n",
       "      <td>0</td>\n",
       "      <td>0</td>\n",
       "      <td>0</td>\n",
       "      <td>0</td>\n",
       "      <td>0</td>\n",
       "      <td>0</td>\n",
       "      <td>0</td>\n",
       "    </tr>\n",
       "    <tr>\n",
       "      <th>16120</th>\n",
       "      <td>74</td>\n",
       "      <td>0</td>\n",
       "      <td>1</td>\n",
       "      <td>0</td>\n",
       "      <td>0</td>\n",
       "      <td>7</td>\n",
       "      <td>7</td>\n",
       "      <td>30</td>\n",
       "      <td>30</td>\n",
       "      <td>9</td>\n",
       "      <td>...</td>\n",
       "      <td>0</td>\n",
       "      <td>0</td>\n",
       "      <td>0</td>\n",
       "      <td>0</td>\n",
       "      <td>0</td>\n",
       "      <td>0</td>\n",
       "      <td>0</td>\n",
       "      <td>0</td>\n",
       "      <td>0</td>\n",
       "      <td>0</td>\n",
       "    </tr>\n",
       "    <tr>\n",
       "      <th>23311</th>\n",
       "      <td>49</td>\n",
       "      <td>1</td>\n",
       "      <td>0</td>\n",
       "      <td>0</td>\n",
       "      <td>0</td>\n",
       "      <td>8</td>\n",
       "      <td>8</td>\n",
       "      <td>17</td>\n",
       "      <td>16</td>\n",
       "      <td>8</td>\n",
       "      <td>...</td>\n",
       "      <td>0</td>\n",
       "      <td>0</td>\n",
       "      <td>0</td>\n",
       "      <td>0</td>\n",
       "      <td>0</td>\n",
       "      <td>0</td>\n",
       "      <td>0</td>\n",
       "      <td>0</td>\n",
       "      <td>0</td>\n",
       "      <td>0</td>\n",
       "    </tr>\n",
       "  </tbody>\n",
       "</table>\n",
       "<p>9815 rows × 472 columns</p>\n",
       "</div>"
      ],
      "text/plain": [
       "       PlyCount  WResult  BResult  WConversions  BConversions  \\\n",
       "38330        80        0        1             0             0   \n",
       "2359         63        1        0             1             0   \n",
       "24050        55        1        0             0             0   \n",
       "23573       128        0        1             0             1   \n",
       "32511        58        1        0             0             0   \n",
       "...         ...      ...      ...           ...           ...   \n",
       "1720        150        0        1             0             1   \n",
       "39154        33        1        0             0             0   \n",
       "16150        56        0        1             0             0   \n",
       "16120        74        0        1             0             0   \n",
       "23311        49        1        0             0             0   \n",
       "\n",
       "       WCaptureMovesCount  BCaptureMovesCount  WOrdMovesCount  BOrdMovesCount  \\\n",
       "38330                  10                  11              30              29   \n",
       "2359                   11                   8              21              23   \n",
       "24050                   5                   5              23              22   \n",
       "23573                  11                  12              53              52   \n",
       "32511                  10                   5              19              24   \n",
       "...                   ...                 ...             ...             ...   \n",
       "1720                   14                  15              61              60   \n",
       "39154                   3                   2              14              14   \n",
       "16150                   6                  13              22              15   \n",
       "16120                   7                   7              30              30   \n",
       "23311                   8                   8              17              16   \n",
       "\n",
       "       WPiecesCount  ...  E88  E90  E91  E92  E93  E94  E95  E97  E98  E99  \n",
       "38330             5  ...    0    0    0    0    0    0    0    0    0    0  \n",
       "2359              8  ...    0    0    0    0    0    0    0    0    0    0  \n",
       "24050            11  ...    0    0    0    0    0    0    0    0    0    0  \n",
       "23573             4  ...    0    0    0    0    0    0    0    0    0    0  \n",
       "32511            11  ...    0    0    0    0    0    0    0    0    0    0  \n",
       "...             ...  ...  ...  ...  ...  ...  ...  ...  ...  ...  ...  ...  \n",
       "1720              1  ...    0    0    0    0    0    0    0    0    0    0  \n",
       "39154            14  ...    0    0    0    0    0    0    0    0    0    0  \n",
       "16150             3  ...    0    0    0    0    0    0    0    0    0    0  \n",
       "16120             9  ...    0    0    0    0    0    0    0    0    0    0  \n",
       "23311             8  ...    0    0    0    0    0    0    0    0    0    0  \n",
       "\n",
       "[9815 rows x 472 columns]"
      ]
     },
     "execution_count": 18,
     "metadata": {},
     "output_type": "execute_result"
    }
   ],
   "source": [
    "test_bx"
   ]
  },
  {
   "cell_type": "markdown",
   "metadata": {},
   "source": [
    "## Linear Regression"
   ]
  },
  {
   "cell_type": "code",
   "execution_count": 7,
   "metadata": {},
   "outputs": [],
   "source": [
    "reg = LinearRegression().fit(train_bx, train_by)"
   ]
  },
  {
   "cell_type": "markdown",
   "metadata": {},
   "source": [
    "$R^2$"
   ]
  },
  {
   "cell_type": "code",
   "execution_count": 8,
   "metadata": {
    "scrolled": true
   },
   "outputs": [
    {
     "data": {
      "text/plain": [
       "0.1696770999706142"
      ]
     },
     "execution_count": 8,
     "metadata": {},
     "output_type": "execute_result"
    }
   ],
   "source": [
    "reg.score(train_bx, train_by)"
   ]
  },
  {
   "cell_type": "markdown",
   "metadata": {},
   "source": [
    "#### Training scores"
   ]
  },
  {
   "cell_type": "markdown",
   "metadata": {},
   "source": [
    "MSE"
   ]
  },
  {
   "cell_type": "code",
   "execution_count": 14,
   "metadata": {
    "scrolled": false
   },
   "outputs": [
    {
     "name": "stdout",
     "output_type": "stream",
     "text": [
      "43411.13328594\n"
     ]
    }
   ],
   "source": [
    "print(format(mean_squared_error(train_by,reg.predict(train_bx)), '.8f'))"
   ]
  },
  {
   "cell_type": "code",
   "execution_count": 38,
   "metadata": {},
   "outputs": [
    {
     "data": {
      "text/plain": [
       "162.40681135465303"
      ]
     },
     "execution_count": 38,
     "metadata": {},
     "output_type": "execute_result"
    }
   ],
   "source": [
    "mean_absolute_error(train_by, reg.predict(train_bx))"
   ]
  },
  {
   "cell_type": "markdown",
   "metadata": {},
   "source": [
    "#### Test scores"
   ]
  },
  {
   "cell_type": "markdown",
   "metadata": {},
   "source": [
    "MSE"
   ]
  },
  {
   "cell_type": "code",
   "execution_count": 16,
   "metadata": {
    "scrolled": true
   },
   "outputs": [
    {
     "name": "stdout",
     "output_type": "stream",
     "text": [
      "24693042425047012.00000000\n"
     ]
    }
   ],
   "source": [
    "print(format(mean_squared_error(test_by, reg.predict(test_bx)), '.8f'))"
   ]
  },
  {
   "cell_type": "markdown",
   "metadata": {},
   "source": [
    "MAE"
   ]
  },
  {
   "cell_type": "code",
   "execution_count": 28,
   "metadata": {},
   "outputs": [
    {
     "data": {
      "text/plain": [
       "165.45356737206686"
      ]
     },
     "execution_count": 28,
     "metadata": {},
     "output_type": "execute_result"
    }
   ],
   "source": [
    "mean_absolute_error(test_by, reg.predict(test_bx))"
   ]
  },
  {
   "cell_type": "markdown",
   "metadata": {},
   "source": [
    "## Ridge"
   ]
  },
  {
   "cell_type": "code",
   "execution_count": 39,
   "metadata": {
    "scrolled": true
   },
   "outputs": [
    {
     "data": {
      "text/plain": [
       "RidgeCV(alphas=array([ 0.1,  1. , 10. ]))"
      ]
     },
     "execution_count": 39,
     "metadata": {},
     "output_type": "execute_result"
    }
   ],
   "source": [
    "from sklearn.linear_model import RidgeCV\n",
    "rid = RidgeCV()\n",
    "rid.fit(train_bx, train_by)\n"
   ]
  },
  {
   "cell_type": "markdown",
   "metadata": {},
   "source": [
    "$R^2$"
   ]
  },
  {
   "cell_type": "code",
   "execution_count": 40,
   "metadata": {},
   "outputs": [
    {
     "data": {
      "text/plain": [
       "0.16892790839812"
      ]
     },
     "execution_count": 40,
     "metadata": {},
     "output_type": "execute_result"
    }
   ],
   "source": [
    "rid.score(train_bx, train_by)"
   ]
  },
  {
   "cell_type": "markdown",
   "metadata": {},
   "source": [
    "#### Training scores"
   ]
  },
  {
   "cell_type": "markdown",
   "metadata": {},
   "source": [
    "MSE"
   ]
  },
  {
   "cell_type": "code",
   "execution_count": 41,
   "metadata": {
    "scrolled": false
   },
   "outputs": [
    {
     "name": "stdout",
     "output_type": "stream",
     "text": [
      "43450.30269245\n"
     ]
    }
   ],
   "source": [
    "print(format(mean_squared_error(train_by,rid.predict(train_bx)), '.8f'))"
   ]
  },
  {
   "cell_type": "markdown",
   "metadata": {},
   "source": [
    "MAE"
   ]
  },
  {
   "cell_type": "code",
   "execution_count": 42,
   "metadata": {
    "scrolled": true
   },
   "outputs": [
    {
     "data": {
      "text/plain": [
       "162.51370033336934"
      ]
     },
     "execution_count": 42,
     "metadata": {},
     "output_type": "execute_result"
    }
   ],
   "source": [
    "mean_absolute_error(train_by, rid.predict(train_bx))"
   ]
  },
  {
   "cell_type": "markdown",
   "metadata": {},
   "source": [
    "#### Test scores"
   ]
  },
  {
   "cell_type": "markdown",
   "metadata": {},
   "source": [
    "MSE"
   ]
  },
  {
   "cell_type": "code",
   "execution_count": 43,
   "metadata": {},
   "outputs": [
    {
     "name": "stdout",
     "output_type": "stream",
     "text": [
      "45282.26656808\n"
     ]
    }
   ],
   "source": [
    "print(format(mean_squared_error(test_by, rid.predict(test_bx)), '.8f'))"
   ]
  },
  {
   "cell_type": "markdown",
   "metadata": {},
   "source": [
    "MAE"
   ]
  },
  {
   "cell_type": "code",
   "execution_count": 44,
   "metadata": {
    "scrolled": true
   },
   "outputs": [
    {
     "data": {
      "text/plain": [
       "165.4744840713309"
      ]
     },
     "execution_count": 44,
     "metadata": {},
     "output_type": "execute_result"
    }
   ],
   "source": [
    "mean_absolute_error(test_by, rid.predict(test_bx))"
   ]
  },
  {
   "cell_type": "markdown",
   "metadata": {},
   "source": [
    "## Lasso"
   ]
  },
  {
   "cell_type": "code",
   "execution_count": 45,
   "metadata": {
    "scrolled": false
   },
   "outputs": [
    {
     "data": {
      "text/plain": [
       "LassoCV()"
      ]
     },
     "execution_count": 45,
     "metadata": {},
     "output_type": "execute_result"
    }
   ],
   "source": [
    "from sklearn.linear_model import LassoCV\n",
    "las = LassoCV()\n",
    "las.fit(train_bx, train_by)\n"
   ]
  },
  {
   "cell_type": "markdown",
   "metadata": {},
   "source": [
    "$R^2$"
   ]
  },
  {
   "cell_type": "code",
   "execution_count": 46,
   "metadata": {
    "scrolled": true
   },
   "outputs": [
    {
     "data": {
      "text/plain": [
       "0.0862081746821548"
      ]
     },
     "execution_count": 46,
     "metadata": {},
     "output_type": "execute_result"
    }
   ],
   "source": [
    "las.score(train_bx, train_by)"
   ]
  },
  {
   "cell_type": "markdown",
   "metadata": {},
   "source": [
    "#### Training scores"
   ]
  },
  {
   "cell_type": "markdown",
   "metadata": {},
   "source": [
    "MSE"
   ]
  },
  {
   "cell_type": "code",
   "execution_count": 47,
   "metadata": {
    "scrolled": false
   },
   "outputs": [
    {
     "name": "stdout",
     "output_type": "stream",
     "text": [
      "47775.07488119\n"
     ]
    }
   ],
   "source": [
    "print(format(mean_squared_error(train_by,las.predict(train_bx)), '.8f'))"
   ]
  },
  {
   "cell_type": "markdown",
   "metadata": {},
   "source": [
    "MAE"
   ]
  },
  {
   "cell_type": "code",
   "execution_count": 48,
   "metadata": {
    "scrolled": false
   },
   "outputs": [
    {
     "data": {
      "text/plain": [
       "172.09617458520384"
      ]
     },
     "execution_count": 48,
     "metadata": {},
     "output_type": "execute_result"
    }
   ],
   "source": [
    "mean_absolute_error(train_by, las.predict(train_bx))"
   ]
  },
  {
   "cell_type": "markdown",
   "metadata": {},
   "source": [
    "#### Test scores"
   ]
  },
  {
   "cell_type": "markdown",
   "metadata": {},
   "source": [
    "MSE"
   ]
  },
  {
   "cell_type": "code",
   "execution_count": 49,
   "metadata": {},
   "outputs": [
    {
     "name": "stdout",
     "output_type": "stream",
     "text": [
      "48813.85397197\n"
     ]
    }
   ],
   "source": [
    "print(format(mean_squared_error(test_by, las.predict(test_bx)), '.8f'))"
   ]
  },
  {
   "cell_type": "markdown",
   "metadata": {},
   "source": [
    "MAE"
   ]
  },
  {
   "cell_type": "code",
   "execution_count": 50,
   "metadata": {
    "scrolled": false
   },
   "outputs": [
    {
     "data": {
      "text/plain": [
       "173.28148456149432"
      ]
     },
     "execution_count": 50,
     "metadata": {},
     "output_type": "execute_result"
    }
   ],
   "source": [
    "mean_absolute_error(test_by, las.predict(test_bx))"
   ]
  },
  {
   "cell_type": "code",
   "execution_count": null,
   "metadata": {},
   "outputs": [],
   "source": []
  }
 ],
 "metadata": {
  "kernelspec": {
   "display_name": "Python 3",
   "language": "python",
   "name": "python3"
  },
  "language_info": {
   "codemirror_mode": {
    "name": "ipython",
    "version": 3
   },
   "file_extension": ".py",
   "mimetype": "text/x-python",
   "name": "python",
   "nbconvert_exporter": "python",
   "pygments_lexer": "ipython3",
   "version": "3.6.9"
  }
 },
 "nbformat": 4,
 "nbformat_minor": 4
}
